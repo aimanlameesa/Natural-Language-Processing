{
  "nbformat": 4,
  "nbformat_minor": 0,
  "metadata": {
    "colab": {
      "provenance": []
    },
    "kernelspec": {
      "name": "python3",
      "display_name": "Python 3"
    },
    "language_info": {
      "name": "python"
    }
  },
  "cells": [
    {
      "cell_type": "code",
      "execution_count": 1,
      "metadata": {
        "id": "WOjNkeNkumNR"
      },
      "outputs": [],
      "source": [
        "import numpy as np\n",
        "import torch\n",
        "import torch.nn as nn\n",
        "import torch.optim as optim\n",
        "import matplotlib.pyplot as plt"
      ]
    },
    {
      "cell_type": "code",
      "source": [
        "np.__version__, torch.__version__"
      ],
      "metadata": {
        "colab": {
          "base_uri": "https://localhost:8080/"
        },
        "id": "A3ejuZXF2hHy",
        "outputId": "2e22ca8b-b02a-40e0-9b3d-326ce6358147"
      },
      "execution_count": 2,
      "outputs": [
        {
          "output_type": "execute_result",
          "data": {
            "text/plain": [
              "('1.21.6', '1.13.1+cu116')"
            ]
          },
          "metadata": {},
          "execution_count": 2
        }
      ]
    },
    {
      "cell_type": "code",
      "source": [
        "import matplotlib\n",
        "matplotlib.__version__"
      ],
      "metadata": {
        "colab": {
          "base_uri": "https://localhost:8080/",
          "height": 36
        },
        "id": "cAVFv6cw23jy",
        "outputId": "54f263c8-a0ec-4fa5-856d-fc63fbf20232"
      },
      "execution_count": 3,
      "outputs": [
        {
          "output_type": "execute_result",
          "data": {
            "text/plain": [
              "'3.2.2'"
            ],
            "application/vnd.google.colaboratory.intrinsic+json": {
              "type": "string"
            }
          },
          "metadata": {},
          "execution_count": 3
        }
      ]
    },
    {
      "cell_type": "markdown",
      "source": [
        "## 1. Load Data"
      ],
      "metadata": {
        "id": "kCBt-eTS3HjF"
      }
    },
    {
      "cell_type": "code",
      "source": [
        "corpus = [\"apple banana fruit\", \"banana apple fruit\", \"banana fruit apple\",\n",
        "          \"dog cat animal\", \"cat dog animal\", \"cat animal dog\"]"
      ],
      "metadata": {
        "id": "ukpZlK8y3o6W"
      },
      "execution_count": 4,
      "outputs": []
    },
    {
      "cell_type": "code",
      "source": [
        "# 1. tokenize\n",
        "\n",
        "corpus_tokenized = [sent.split(\" \") for sent in corpus]\n",
        "corpus_tokenized"
      ],
      "metadata": {
        "colab": {
          "base_uri": "https://localhost:8080/"
        },
        "id": "ExZOBSJf4d3K",
        "outputId": "0dee2cb9-f94d-47c1-a0e3-3fc434216bb7"
      },
      "execution_count": 5,
      "outputs": [
        {
          "output_type": "execute_result",
          "data": {
            "text/plain": [
              "[['apple', 'banana', 'fruit'],\n",
              " ['banana', 'apple', 'fruit'],\n",
              " ['banana', 'fruit', 'apple'],\n",
              " ['dog', 'cat', 'animal'],\n",
              " ['cat', 'dog', 'animal'],\n",
              " ['cat', 'animal', 'dog']]"
            ]
          },
          "metadata": {},
          "execution_count": 5
        }
      ]
    },
    {
      "cell_type": "code",
      "source": [
        "# 2. numericalize\n",
        "# 2.1 get all the unique words\n",
        "flatten = lambda l: [item for sublist in l for item in sublist]\n",
        "vocabs = list(set(flatten(corpus_tokenized)))\n",
        "vocabs"
      ],
      "metadata": {
        "colab": {
          "base_uri": "https://localhost:8080/"
        },
        "id": "P82q6Lc14zRR",
        "outputId": "315affbc-9e58-4ea5-eccc-5e390c637748"
      },
      "execution_count": 6,
      "outputs": [
        {
          "output_type": "execute_result",
          "data": {
            "text/plain": [
              "['fruit', 'cat', 'dog', 'banana', 'animal', 'apple']"
            ]
          },
          "metadata": {},
          "execution_count": 6
        }
      ]
    },
    {
      "cell_type": "code",
      "source": [
        "# 2.2 assign id to all these vocabs\n",
        "word2index = {v: idx for idx, v in enumerate(vocabs)}\n",
        "word2index"
      ],
      "metadata": {
        "colab": {
          "base_uri": "https://localhost:8080/"
        },
        "id": "CfjINrTx5uiM",
        "outputId": "f441ba7b-da90-43ad-985d-3d62a924fcba"
      },
      "execution_count": 7,
      "outputs": [
        {
          "output_type": "execute_result",
          "data": {
            "text/plain": [
              "{'fruit': 0, 'cat': 1, 'dog': 2, 'banana': 3, 'animal': 4, 'apple': 5}"
            ]
          },
          "metadata": {},
          "execution_count": 7
        }
      ]
    },
    {
      "cell_type": "code",
      "source": [
        "word2index['dog']"
      ],
      "metadata": {
        "colab": {
          "base_uri": "https://localhost:8080/"
        },
        "id": "zIbbkisq7Sxe",
        "outputId": "a7de593c-67ef-40de-a72a-761ad24c942c"
      },
      "execution_count": 8,
      "outputs": [
        {
          "output_type": "execute_result",
          "data": {
            "text/plain": [
              "2"
            ]
          },
          "metadata": {},
          "execution_count": 8
        }
      ]
    },
    {
      "cell_type": "code",
      "source": [
        "# add <UNK>\n",
        "vocabs.append('<UNK>')"
      ],
      "metadata": {
        "id": "G0czJFA07ZJJ"
      },
      "execution_count": 9,
      "outputs": []
    },
    {
      "cell_type": "code",
      "source": [
        "word2index['<UNK>'] = 6"
      ],
      "metadata": {
        "id": "3GpeL-EV7cx1"
      },
      "execution_count": 10,
      "outputs": []
    },
    {
      "cell_type": "code",
      "source": [
        "word2index"
      ],
      "metadata": {
        "colab": {
          "base_uri": "https://localhost:8080/"
        },
        "id": "lBd2ve-77ha-",
        "outputId": "d537f747-0d46-46e8-f163-b6ed2fb5171d"
      },
      "execution_count": 11,
      "outputs": [
        {
          "output_type": "execute_result",
          "data": {
            "text/plain": [
              "{'fruit': 0,\n",
              " 'cat': 1,\n",
              " 'dog': 2,\n",
              " 'banana': 3,\n",
              " 'animal': 4,\n",
              " 'apple': 5,\n",
              " '<UNK>': 6}"
            ]
          },
          "metadata": {},
          "execution_count": 11
        }
      ]
    },
    {
      "cell_type": "code",
      "source": [
        "# create index2word dictionary\n",
        "index2word = {v:k for k, v in word2index.items()}\n",
        "index2word"
      ],
      "metadata": {
        "colab": {
          "base_uri": "https://localhost:8080/"
        },
        "id": "_zNWR4J76Xkl",
        "outputId": "43a1ed84-7223-482d-f2c3-b9de0dbc7401"
      },
      "execution_count": 12,
      "outputs": [
        {
          "output_type": "execute_result",
          "data": {
            "text/plain": [
              "{0: 'fruit',\n",
              " 1: 'cat',\n",
              " 2: 'dog',\n",
              " 3: 'banana',\n",
              " 4: 'animal',\n",
              " 5: 'apple',\n",
              " 6: '<UNK>'}"
            ]
          },
          "metadata": {},
          "execution_count": 12
        }
      ]
    },
    {
      "cell_type": "code",
      "source": [
        "index2word[1]"
      ],
      "metadata": {
        "colab": {
          "base_uri": "https://localhost:8080/",
          "height": 36
        },
        "id": "3_iY5ATl7B9f",
        "outputId": "eef4bcf8-b251-4113-d314-3cadd179c5e2"
      },
      "execution_count": 13,
      "outputs": [
        {
          "output_type": "execute_result",
          "data": {
            "text/plain": [
              "'cat'"
            ],
            "application/vnd.google.colaboratory.intrinsic+json": {
              "type": "string"
            }
          },
          "metadata": {},
          "execution_count": 13
        }
      ]
    },
    {
      "cell_type": "markdown",
      "source": [
        "## 2. Prepare Train Data"
      ],
      "metadata": {
        "id": "EKmGj5sa3Rzw"
      }
    },
    {
      "cell_type": "code",
      "source": [
        "#move along the corpus\n",
        "#to fit with our corpus, we gonna use window_size = 1\n",
        "\n",
        "skipgrams = []\n",
        "\n",
        "#for each corpus\n",
        "for sent in corpus_tokenized:\n",
        "    #for each sent [\"apple\", \"banana\", \"fruit\"]\n",
        "    for i in range(1, len(sent) - 1): #start from 1 to second last\n",
        "        center_word = sent[i]\n",
        "        outside_words = [sent[i-1], sent[i+1]]  #window_size = 1\n",
        "        for o in outside_words:\n",
        "            skipgrams.append([center_word, o])\n",
        "\n",
        "skipgrams\n",
        "        \n",
        "#here we want to create (banana, apple), (banana, fruit) append to some list"
      ],
      "metadata": {
        "colab": {
          "base_uri": "https://localhost:8080/"
        },
        "id": "IRC2nyGX71os",
        "outputId": "9ab387ad-b0eb-4e83-8d83-8d9474efa11a"
      },
      "execution_count": 14,
      "outputs": [
        {
          "output_type": "execute_result",
          "data": {
            "text/plain": [
              "[['banana', 'apple'],\n",
              " ['banana', 'fruit'],\n",
              " ['apple', 'banana'],\n",
              " ['apple', 'fruit'],\n",
              " ['fruit', 'banana'],\n",
              " ['fruit', 'apple'],\n",
              " ['cat', 'dog'],\n",
              " ['cat', 'animal'],\n",
              " ['dog', 'cat'],\n",
              " ['dog', 'animal'],\n",
              " ['animal', 'cat'],\n",
              " ['animal', 'dog']]"
            ]
          },
          "metadata": {},
          "execution_count": 14
        }
      ]
    },
    {
      "cell_type": "code",
      "source": [
        "def random_batch(batch_size, corpus):\n",
        "    \n",
        "    skipgrams = []\n",
        "\n",
        "    #for each corpus\n",
        "    for sent in corpus_tokenized:\n",
        "        #for each sent [\"apple\", \"banana\", \"fruit\"]\n",
        "        for i in range(1, len(sent) - 1): #start from 1 to second last\n",
        "            center_word = word2index[sent[i]]\n",
        "            outside_words = [word2index[sent[i-1]], word2index[sent[i+1]]]  #window_size = 1\n",
        "            for o in outside_words:\n",
        "                skipgrams.append([center_word, o])\n",
        "                \n",
        "    #only get a batch, not the entire list\n",
        "    random_index = np.random.choice(range(len(skipgrams)), batch_size, replace=False)\n",
        "             \n",
        "    #appending some list of inputs and labels\n",
        "    random_inputs, random_labels = [], []   \n",
        "    for index in random_index:\n",
        "        random_inputs.append([skipgrams[index][0]])  #center words, this will be a shape of (1, ) --> (1, 1) for modeling\n",
        "        random_labels.append([skipgrams[index][1]])\n",
        "        \n",
        "    return np.array(random_inputs), np.array(random_labels)"
      ],
      "metadata": {
        "id": "Rfrr-5yN98qG"
      },
      "execution_count": 15,
      "outputs": []
    },
    {
      "cell_type": "code",
      "source": [
        "random_batch(10, corpus_tokenized)"
      ],
      "metadata": {
        "colab": {
          "base_uri": "https://localhost:8080/"
        },
        "id": "fHK7UFac-JGF",
        "outputId": "1048cf53-ee5c-43ea-926f-71710370225b"
      },
      "execution_count": 16,
      "outputs": [
        {
          "output_type": "execute_result",
          "data": {
            "text/plain": [
              "(array([[1],\n",
              "        [5],\n",
              "        [2],\n",
              "        [5],\n",
              "        [0],\n",
              "        [2],\n",
              "        [4],\n",
              "        [0],\n",
              "        [4],\n",
              "        [3]]), array([[4],\n",
              "        [0],\n",
              "        [1],\n",
              "        [3],\n",
              "        [5],\n",
              "        [4],\n",
              "        [1],\n",
              "        [3],\n",
              "        [2],\n",
              "        [5]]))"
            ]
          },
          "metadata": {},
          "execution_count": 16
        }
      ]
    },
    {
      "cell_type": "code",
      "source": [
        "input, label = random_batch(2, corpus_tokenized)\n",
        "\n",
        "print(f\"{input=}\")\n",
        "print(f\"{label=}\")"
      ],
      "metadata": {
        "colab": {
          "base_uri": "https://localhost:8080/"
        },
        "id": "gF5GIqV0-lX8",
        "outputId": "97c2df34-b824-4db2-caf6-44f38f4a5690"
      },
      "execution_count": 17,
      "outputs": [
        {
          "output_type": "stream",
          "name": "stdout",
          "text": [
            "input=array([[2],\n",
            "       [0]])\n",
            "label=array([[1],\n",
            "       [3]])\n"
          ]
        }
      ]
    },
    {
      "cell_type": "code",
      "source": [
        "input, label = random_batch(1, corpus_tokenized)\n",
        "\n",
        "print(f\"{input=}\")\n",
        "print(f\"{label=}\")"
      ],
      "metadata": {
        "colab": {
          "base_uri": "https://localhost:8080/"
        },
        "id": "ZRZaW7UU-2oy",
        "outputId": "a2b32053-cb77-44ad-fd54-f2b54ba62e6f"
      },
      "execution_count": 18,
      "outputs": [
        {
          "output_type": "stream",
          "name": "stdout",
          "text": [
            "input=array([[2]])\n",
            "label=array([[1]])\n"
          ]
        }
      ]
    },
    {
      "cell_type": "code",
      "source": [
        "input, label = random_batch(10, corpus_tokenized)\n",
        "\n",
        "print(f\"{input.shape}\")\n",
        "print(f\"{label=}\")"
      ],
      "metadata": {
        "colab": {
          "base_uri": "https://localhost:8080/"
        },
        "id": "mjHpZvp_CkQQ",
        "outputId": "64f675ee-4715-4dc3-e461-4f250c2f5add"
      },
      "execution_count": 19,
      "outputs": [
        {
          "output_type": "stream",
          "name": "stdout",
          "text": [
            "(10, 1)\n",
            "label=array([[3],\n",
            "       [3],\n",
            "       [4],\n",
            "       [5],\n",
            "       [1],\n",
            "       [0],\n",
            "       [2],\n",
            "       [5],\n",
            "       [4],\n",
            "       [2]])\n"
          ]
        }
      ]
    },
    {
      "cell_type": "markdown",
      "source": [
        "## 3. Model"
      ],
      "metadata": {
        "id": "6fUloorM3XYP"
      }
    },
    {
      "cell_type": "code",
      "source": [
        "voc_size = len(vocabs)\n",
        "voc_size"
      ],
      "metadata": {
        "colab": {
          "base_uri": "https://localhost:8080/"
        },
        "id": "GCgShscHC1TQ",
        "outputId": "6191e092-3226-4fa2-87a2-27d877894f0a"
      },
      "execution_count": 20,
      "outputs": [
        {
          "output_type": "execute_result",
          "data": {
            "text/plain": [
              "7"
            ]
          },
          "metadata": {},
          "execution_count": 20
        }
      ]
    },
    {
      "cell_type": "code",
      "source": [
        "vocabs"
      ],
      "metadata": {
        "colab": {
          "base_uri": "https://localhost:8080/"
        },
        "id": "CRn5J3kjC4Wr",
        "outputId": "3b398658-4dd8-4198-b74f-b95576ac25a8"
      },
      "execution_count": 21,
      "outputs": [
        {
          "output_type": "execute_result",
          "data": {
            "text/plain": [
              "['fruit', 'cat', 'dog', 'banana', 'animal', 'apple', '<UNK>']"
            ]
          },
          "metadata": {},
          "execution_count": 21
        }
      ]
    },
    {
      "cell_type": "code",
      "source": [
        "#the model will accept three vectors - u_o, v_c, u_w\n",
        "#u_o - vector for outside words\n",
        "#v_c - vector for center word\n",
        "#u_w - vectors of all vocabs\n",
        "\n",
        "class Skipgram(nn.Module):\n",
        "    \n",
        "    def __init__(self, voc_size, emb_size):\n",
        "        super(Skipgram, self).__init__()\n",
        "        self.embedding_center_word  = nn.Embedding(voc_size, emb_size)  #is a lookup table mapping all ids in voc_size, into some vector of size emb_size\n",
        "        self.embedding_outside_word = nn.Embedding(voc_size, emb_size)\n",
        "    \n",
        "    def forward(self, center_word, outside_word, all_vocabs):\n",
        "      \n",
        "        #center_word, outside_word: (batch_size, 1)\n",
        "        #all_vocabs: (batch_size, voc_size)\n",
        "        \n",
        "        #convert them into embedding\n",
        "        center_word_embed  = self.embedding_center_word(center_word)     #(batch_size, 1, emb_size)\n",
        "        outside_word_embed = self.embedding_outside_word(outside_word)   #(batch_size, 1, emb_size)\n",
        "        all_vocabs_embed   = self.embedding_outside_word(all_vocabs)     #(batch_size, voc_size, emb_size)\n",
        "        \n",
        "        #bmm is basically @ or .dot , but across batches (i.e., ignore the batch dimension)\n",
        "        top_term = outside_word_embed.bmm(center_word_embed.transpose(1, 2)).squeeze(2)\n",
        "        #(batch_size, 1, emb_size) @ (batch_size, emb_size, 1) = (batch_size, 1, 1) ===> (batch_size, 1)\n",
        "        \n",
        "        top_term_exp = torch.exp(top_term)  #exp(uo vc)\n",
        "        #(batch_size, 1)\n",
        "        \n",
        "        lower_term = all_vocabs_embed.bmm(center_word_embed.transpose(1, 2)).squeeze(2)\n",
        "         #(batch_size, voc_size, emb_size) @ (batch_size, emb_size, 1) = (batch_size, voc_size, 1) = (batch_size, voc_size)\n",
        "         \n",
        "        lower_term_sum = torch.sum(torch.exp(lower_term), 1) #sum exp(uw vc)\n",
        "        #(batch_size, 1)\n",
        "        \n",
        "        loss_fn = -torch.mean(torch.log(top_term_exp / lower_term_sum))\n",
        "        #(batch_size, 1) / (batch_size, 1) ==mean==> scalar\n",
        "        \n",
        "        return loss_fn"
      ],
      "metadata": {
        "id": "FKbWhG8r_uub"
      },
      "execution_count": 22,
      "outputs": []
    },
    {
      "cell_type": "code",
      "source": [
        "#preparing all_vocabs\n",
        "\n",
        "batch_size = 2\n",
        "\n",
        "def prepare_sequence(seq, word2index):\n",
        "    #map(function, list of something)\n",
        "    #map will look at each of element in this list, and apply this function\n",
        "    idxs = list(map(lambda w: word2index[w] if word2index.get(w) is not None else word2index[\"<UNK>\"], seq))\n",
        "    return torch.LongTensor(idxs)\n",
        "\n",
        "all_vocabs = prepare_sequence(list(vocabs), word2index).expand(batch_size, voc_size)\n",
        "all_vocabs.shape"
      ],
      "metadata": {
        "colab": {
          "base_uri": "https://localhost:8080/"
        },
        "id": "JltiB2LFJXu-",
        "outputId": "4e111427-2296-49ab-894b-70216f322a0c"
      },
      "execution_count": 23,
      "outputs": [
        {
          "output_type": "execute_result",
          "data": {
            "text/plain": [
              "torch.Size([2, 7])"
            ]
          },
          "metadata": {},
          "execution_count": 23
        }
      ]
    },
    {
      "cell_type": "code",
      "source": [
        "voc_size"
      ],
      "metadata": {
        "colab": {
          "base_uri": "https://localhost:8080/"
        },
        "id": "3_v_wJiKJhaY",
        "outputId": "85591aef-1c91-4e4c-83d6-38f2c0a96ca1"
      },
      "execution_count": 24,
      "outputs": [
        {
          "output_type": "execute_result",
          "data": {
            "text/plain": [
              "7"
            ]
          },
          "metadata": {},
          "execution_count": 24
        }
      ]
    },
    {
      "cell_type": "code",
      "source": [
        "input, label = random_batch(1, corpus_tokenized)\n",
        "input #center word"
      ],
      "metadata": {
        "colab": {
          "base_uri": "https://localhost:8080/"
        },
        "id": "VpJtQkFWDCMy",
        "outputId": "01735eba-ce6c-4e20-8d79-c81876c23b83"
      },
      "execution_count": 25,
      "outputs": [
        {
          "output_type": "execute_result",
          "data": {
            "text/plain": [
              "array([[5]])"
            ]
          },
          "metadata": {},
          "execution_count": 25
        }
      ]
    },
    {
      "cell_type": "code",
      "source": [
        "label #context word"
      ],
      "metadata": {
        "colab": {
          "base_uri": "https://localhost:8080/"
        },
        "id": "50XRKesrDFV5",
        "outputId": "d1cace68-0a80-4909-c4ac-ec7f59a7b3e6"
      },
      "execution_count": 26,
      "outputs": [
        {
          "output_type": "execute_result",
          "data": {
            "text/plain": [
              "array([[3]])"
            ]
          },
          "metadata": {},
          "execution_count": 26
        }
      ]
    },
    {
      "cell_type": "code",
      "source": [
        "voc_size"
      ],
      "metadata": {
        "colab": {
          "base_uri": "https://localhost:8080/"
        },
        "id": "mePK0Sk1DMqp",
        "outputId": "97b99085-fd60-4c69-83a1-f95485c53fd9"
      },
      "execution_count": 168,
      "outputs": [
        {
          "output_type": "execute_result",
          "data": {
            "text/plain": [
              "7"
            ]
          },
          "metadata": {},
          "execution_count": 168
        }
      ]
    },
    {
      "cell_type": "code",
      "source": [
        "emb_size = 2 #usually, this can be 50, 100, or 300\n",
        "model = Skipgram(voc_size, emb_size)"
      ],
      "metadata": {
        "id": "sK6WBzh4DXtl"
      },
      "execution_count": 27,
      "outputs": []
    },
    {
      "cell_type": "code",
      "source": [
        "input_tensor = torch.LongTensor(input)\n",
        "label_tensor = torch.LongTensor(label)  #LongTensor basically means integer...."
      ],
      "metadata": {
        "id": "3XnEMYBNDayq"
      },
      "execution_count": 28,
      "outputs": []
    },
    {
      "cell_type": "code",
      "source": [
        "input_tensor.shape"
      ],
      "metadata": {
        "colab": {
          "base_uri": "https://localhost:8080/"
        },
        "id": "U_MXWuoDJvJH",
        "outputId": "a224eafc-c39c-4297-a590-69768aca45bb"
      },
      "execution_count": 29,
      "outputs": [
        {
          "output_type": "execute_result",
          "data": {
            "text/plain": [
              "torch.Size([1, 1])"
            ]
          },
          "metadata": {},
          "execution_count": 29
        }
      ]
    },
    {
      "cell_type": "code",
      "source": [
        "label_tensor.shape"
      ],
      "metadata": {
        "colab": {
          "base_uri": "https://localhost:8080/"
        },
        "id": "R3JrlDIeJ3FX",
        "outputId": "5033833a-d8da-40b6-d8c7-4dbb69be3fde"
      },
      "execution_count": 30,
      "outputs": [
        {
          "output_type": "execute_result",
          "data": {
            "text/plain": [
              "torch.Size([1, 1])"
            ]
          },
          "metadata": {},
          "execution_count": 30
        }
      ]
    },
    {
      "cell_type": "code",
      "source": [
        "all_vocabs"
      ],
      "metadata": {
        "colab": {
          "base_uri": "https://localhost:8080/"
        },
        "id": "qIr2KdpRJ4EY",
        "outputId": "6625dd97-07ab-4390-a573-95cf946bc302"
      },
      "execution_count": 172,
      "outputs": [
        {
          "output_type": "execute_result",
          "data": {
            "text/plain": [
              "tensor([[0, 1, 2, 3, 4, 5, 6]])"
            ]
          },
          "metadata": {},
          "execution_count": 172
        }
      ]
    },
    {
      "cell_type": "code",
      "source": [
        "loss = model(input_tensor, label_tensor, all_vocabs)"
      ],
      "metadata": {
        "id": "cmfn6r_-KbG9"
      },
      "execution_count": 113,
      "outputs": []
    },
    {
      "cell_type": "code",
      "source": [
        "loss"
      ],
      "metadata": {
        "colab": {
          "base_uri": "https://localhost:8080/"
        },
        "id": "6rW6WxL3KfDq",
        "outputId": "f7b4e7a4-8c15-459e-e3f8-439a000cd2e7"
      },
      "execution_count": 114,
      "outputs": [
        {
          "output_type": "execute_result",
          "data": {
            "text/plain": [
              "tensor(4.1062, grad_fn=<NegBackward0>)"
            ]
          },
          "metadata": {},
          "execution_count": 114
        }
      ]
    },
    {
      "cell_type": "code",
      "source": [
        "# center_word_embedding = model(input_tensor, label_tensor)\n",
        "# center_word_embedding.shape #(batch_size, 1, emb_size)"
      ],
      "metadata": {
        "colab": {
          "base_uri": "https://localhost:8080/"
        },
        "id": "61UuYdpnDqIK",
        "outputId": "09fa0dfa-928d-4ce2-eba6-d0793f137f8a"
      },
      "execution_count": 50,
      "outputs": [
        {
          "output_type": "execute_result",
          "data": {
            "text/plain": [
              "torch.Size([1, 1, 2])"
            ]
          },
          "metadata": {},
          "execution_count": 50
        }
      ]
    },
    {
      "cell_type": "markdown",
      "source": [
        "## 4. Training"
      ],
      "metadata": {
        "id": "ykh9cuII3ahk"
      }
    },
    {
      "cell_type": "code",
      "source": [
        "batch_size = 2\n",
        "emb_size = 2\n",
        "model = Skipgram(voc_size, emb_size)\n",
        "\n",
        "criterion = nn.CrossEntropyLoss()\n",
        "optimizer = optim.Adam(model.parameters(), lr = 0.001)"
      ],
      "metadata": {
        "id": "AWahJXyZMjKq"
      },
      "execution_count": 31,
      "outputs": []
    },
    {
      "cell_type": "code",
      "source": [
        "num_epochs = 1000\n",
        "#for epoch\n",
        "for epoch in range(num_epochs):\n",
        "\n",
        "    #get random batch\n",
        "    input_batch, label_batch = random_batch(batch_size, corpus)\n",
        "    input_batch = torch.LongTensor(input_batch)\n",
        "    label_batch = torch.LongTensor(input_batch)\n",
        "\n",
        "    #loss = model\n",
        "    loss = model(input_batch, label_batch, all_vocabs)\n",
        "    \n",
        "    #backpropagate\n",
        "    loss.backward()\n",
        "    \n",
        "    #update alpha\n",
        "    optimizer.step()\n",
        "    \n",
        "    #print epoch loss\n",
        "    if (epoch + 1) % 100 == 0:\n",
        "        print(f\"Epoch {epoch+1} | Loss: {loss:.6f} | Time: ??\")"
      ],
      "metadata": {
        "colab": {
          "base_uri": "https://localhost:8080/"
        },
        "id": "nYzS9bo5NhjP",
        "outputId": "bc6958f6-383e-409a-8f57-e8cb5c61027e"
      },
      "execution_count": 33,
      "outputs": [
        {
          "output_type": "stream",
          "name": "stdout",
          "text": [
            "Epoch 100 | Loss: 0.375253 | Time: ??\n",
            "Epoch 200 | Loss: 1.789473 | Time: ??\n",
            "Epoch 300 | Loss: 0.218259 | Time: ??\n",
            "Epoch 400 | Loss: 0.156426 | Time: ??\n",
            "Epoch 500 | Loss: 0.963335 | Time: ??\n",
            "Epoch 600 | Loss: 1.750512 | Time: ??\n",
            "Epoch 700 | Loss: 0.911892 | Time: ??\n",
            "Epoch 800 | Loss: 0.103424 | Time: ??\n",
            "Epoch 900 | Loss: 0.900822 | Time: ??\n",
            "Epoch 1000 | Loss: 0.134583 | Time: ??\n"
          ]
        }
      ]
    },
    {
      "cell_type": "markdown",
      "source": [
        "## 5. Plot the Embeddings"
      ],
      "metadata": {
        "id": "djaOn8NX3dWG"
      }
    },
    {
      "cell_type": "code",
      "source": [
        "vocabs"
      ],
      "metadata": {
        "colab": {
          "base_uri": "https://localhost:8080/"
        },
        "id": "bCynhvNr3FNq",
        "outputId": "3ad8b6f1-4ae2-4eea-edf8-32355270a724"
      },
      "execution_count": 34,
      "outputs": [
        {
          "output_type": "execute_result",
          "data": {
            "text/plain": [
              "['fruit', 'cat', 'dog', 'banana', 'animal', 'apple', '<UNK>']"
            ]
          },
          "metadata": {},
          "execution_count": 34
        }
      ]
    },
    {
      "cell_type": "code",
      "source": [
        "banana = torch.LongTensor([word2index['banana']])\n",
        "banana"
      ],
      "metadata": {
        "colab": {
          "base_uri": "https://localhost:8080/"
        },
        "id": "dIOFqj4SQDlj",
        "outputId": "2aa51845-c4b0-46a0-92e6-0b44ee5065f6"
      },
      "execution_count": 35,
      "outputs": [
        {
          "output_type": "execute_result",
          "data": {
            "text/plain": [
              "tensor([3])"
            ]
          },
          "metadata": {},
          "execution_count": 35
        }
      ]
    },
    {
      "cell_type": "code",
      "source": [
        "banana_center_embed = model.embedding_center_word(banana)\n",
        "banana_outisde_embed = model.embedding_outside_word(banana)\n",
        "\n",
        "banana_embed = (banana_center_embed + banana_outisde_embed) / 2\n",
        "banana_embed"
      ],
      "metadata": {
        "colab": {
          "base_uri": "https://localhost:8080/"
        },
        "id": "v5rS16aDQYAc",
        "outputId": "428daafc-a011-439e-8293-6e15707c0826"
      },
      "execution_count": 36,
      "outputs": [
        {
          "output_type": "execute_result",
          "data": {
            "text/plain": [
              "tensor([[-0.4609, -3.0112]], grad_fn=<DivBackward0>)"
            ]
          },
          "metadata": {},
          "execution_count": 36
        }
      ]
    },
    {
      "cell_type": "code",
      "source": [
        "def get_embed(word):\n",
        "    try:\n",
        "        index = word2index[word]\n",
        "    except:\n",
        "        index = word2index['<UNK>']\n",
        "    \n",
        "    word = torch.LongTensor([index])\n",
        "\n",
        "    center_embed  = model.embedding_center_word(word)\n",
        "    outside_embed = model.embedding_outside_word(word)\n",
        "    \n",
        "    embed = (center_embed + outside_embed) / 2\n",
        "    \n",
        "    return  embed[0][0].item(), embed[0][1].item()"
      ],
      "metadata": {
        "id": "YW8nBBkhQZoo"
      },
      "execution_count": 37,
      "outputs": []
    },
    {
      "cell_type": "code",
      "source": [
        "#find embedding of fruit, cat\n",
        "print(get_embed('fruit'))\n",
        "print(get_embed('cat'))\n",
        "\n",
        "print(get_embed('chaky'))"
      ],
      "metadata": {
        "colab": {
          "base_uri": "https://localhost:8080/"
        },
        "id": "xgde0cU1SeKm",
        "outputId": "9caba9ca-250a-46dc-ff26-0b25b5c5e321"
      },
      "execution_count": 38,
      "outputs": [
        {
          "output_type": "stream",
          "name": "stdout",
          "text": [
            "(-2.5643861293792725, -0.4012210965156555)\n",
            "(2.181389331817627, 2.1800904273986816)\n",
            "(0.40432682633399963, 0.1158939003944397)\n"
          ]
        }
      ]
    },
    {
      "cell_type": "code",
      "source": [
        "plt.figure(figsize=(6,3))\n",
        "for i, word in enumerate(vocabs[:20]): #loop each unique vocab\n",
        "    x, y = get_embed(word)\n",
        "    plt.scatter(x, y)\n",
        "    plt.annotate(word, xy=(x, y), xytext=(5, 2), textcoords='offset points')\n",
        "plt.show()"
      ],
      "metadata": {
        "colab": {
          "base_uri": "https://localhost:8080/",
          "height": 214
        },
        "id": "RYeJQ7yrSimz",
        "outputId": "cb5ea00e-aa05-40ca-8008-4a43bb49423f"
      },
      "execution_count": 39,
      "outputs": [
        {
          "output_type": "display_data",
          "data": {
            "text/plain": [
              "<Figure size 432x216 with 1 Axes>"
            ],
            "image/png": "[encoded data removed]"
          },
          "metadata": {
            "needs_background": "light"
          }
        }
      ]
    },
    {
      "cell_type": "markdown",
      "source": [
        "## How to Tokenize Sentence"
      ],
      "metadata": {
        "id": "irWJv4nKo1J6"
      }
    },
    {
      "cell_type": "code",
      "source": [
        "import spacy\n",
        "spacy.__version__"
      ],
      "metadata": {
        "colab": {
          "base_uri": "https://localhost:8080/",
          "height": 72
        },
        "id": "XRCTsc0Lo4w6",
        "outputId": "0c22bbd1-3188-4e2b-d89d-6a42190bf5d0"
      },
      "execution_count": 40,
      "outputs": [
        {
          "output_type": "stream",
          "name": "stderr",
          "text": [
            "/usr/local/lib/python3.8/dist-packages/torch/cuda/__init__.py:497: UserWarning: Can't initialize NVML\n",
            "  warnings.warn(\"Can't initialize NVML\")\n"
          ]
        },
        {
          "output_type": "execute_result",
          "data": {
            "text/plain": [
              "'3.4.4'"
            ],
            "application/vnd.google.colaboratory.intrinsic+json": {
              "type": "string"
            }
          },
          "metadata": {},
          "execution_count": 40
        }
      ]
    },
    {
      "cell_type": "code",
      "source": [
        "nlp = spacy.load(\"en_core_web_sm\")\n",
        "\n",
        "# for stronger code, we can use en_core_web_med, "
      ],
      "metadata": {
        "id": "VwhFh40BpAnn"
      },
      "execution_count": 41,
      "outputs": []
    },
    {
      "cell_type": "code",
      "source": [
        "text = \"Chaky loves to eat sushi.\""
      ],
      "metadata": {
        "id": "0G8ej6GepMN7"
      },
      "execution_count": 42,
      "outputs": []
    },
    {
      "cell_type": "code",
      "source": [
        "for token in nlp(text):\n",
        "  print(token)"
      ],
      "metadata": {
        "colab": {
          "base_uri": "https://localhost:8080/"
        },
        "id": "StM6tj3FpULy",
        "outputId": "3641ea0b-db01-45a8-8f27-08ddebd13437"
      },
      "execution_count": 43,
      "outputs": [
        {
          "output_type": "stream",
          "name": "stdout",
          "text": [
            "Chaky\n",
            "loves\n",
            "to\n",
            "eat\n",
            "sushi\n",
            ".\n"
          ]
        }
      ]
    },
    {
      "cell_type": "code",
      "source": [
        "tokens = nlp(text)"
      ],
      "metadata": {
        "id": "m54E4Lj6pp_9"
      },
      "execution_count": 46,
      "outputs": []
    },
    {
      "cell_type": "code",
      "source": [
        "tokens"
      ],
      "metadata": {
        "colab": {
          "base_uri": "https://localhost:8080/"
        },
        "id": "zX8uhs8Ip6mQ",
        "outputId": "611ee299-c5de-4750-a198-577b120a1b1d"
      },
      "execution_count": 47,
      "outputs": [
        {
          "output_type": "execute_result",
          "data": {
            "text/plain": [
              "Chaky loves to eat sushi."
            ]
          },
          "metadata": {},
          "execution_count": 47
        }
      ]
    },
    {
      "cell_type": "code",
      "source": [
        "text = \"Chaky teaches up-to-date NLP, which gives $@'\""
      ],
      "metadata": {
        "id": "iFokVFqdq5KO"
      },
      "execution_count": 48,
      "outputs": []
    },
    {
      "cell_type": "code",
      "source": [
        "for token in nlp(text):\n",
        "  print(token)"
      ],
      "metadata": {
        "colab": {
          "base_uri": "https://localhost:8080/"
        },
        "id": "9I9IFf20rEKW",
        "outputId": "5f962e0d-752a-4697-e6a6-0da0522ec039"
      },
      "execution_count": 49,
      "outputs": [
        {
          "output_type": "stream",
          "name": "stdout",
          "text": [
            "Chaky\n",
            "teaches\n",
            "up\n",
            "-\n",
            "to\n",
            "-\n",
            "date\n",
            "NLP\n",
            ",\n",
            "which\n",
            "gives\n",
            "$\n",
            "@\n",
            "'\n"
          ]
        }
      ]
    },
    {
      "cell_type": "code",
      "source": [
        "tokens = nlp(text)"
      ],
      "metadata": {
        "id": "nBl3tCKdrLla"
      },
      "execution_count": 50,
      "outputs": []
    },
    {
      "cell_type": "code",
      "source": [
        "tokens"
      ],
      "metadata": {
        "colab": {
          "base_uri": "https://localhost:8080/"
        },
        "id": "K5ck768trOJ2",
        "outputId": "d198a163-d77a-411a-c111-c80201ffca2f"
      },
      "execution_count": 51,
      "outputs": [
        {
          "output_type": "execute_result",
          "data": {
            "text/plain": [
              "Chaky teaches up-to-date NLP, which gives $@'"
            ]
          },
          "metadata": {},
          "execution_count": 51
        }
      ]
    }
  ]
}