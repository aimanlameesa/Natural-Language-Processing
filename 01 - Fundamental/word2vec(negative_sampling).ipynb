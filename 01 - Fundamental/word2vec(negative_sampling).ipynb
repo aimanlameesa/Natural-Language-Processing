{
  "nbformat": 4,
  "nbformat_minor": 0,
  "metadata": {
    "colab": {
      "provenance": []
    },
    "kernelspec": {
      "name": "python3",
      "display_name": "Python 3"
    },
    "language_info": {
      "name": "python"
    }
  },
  "cells": [
    {
      "cell_type": "code",
      "execution_count": 23,
      "metadata": {
        "id": "WOjNkeNkumNR"
      },
      "outputs": [],
      "source": [
        "import numpy as np\n",
        "import torch\n",
        "import torch.nn as nn\n",
        "import torch.optim as optim\n",
        "import matplotlib.pyplot as plt"
      ]
    },
    {
      "cell_type": "code",
      "source": [
        "np.__version__, torch.__version__"
      ],
      "metadata": {
        "colab": {
          "base_uri": "https://localhost:8080/"
        },
        "id": "A3ejuZXF2hHy",
        "outputId": "bfabdefc-5ccd-43ff-f327-4961eac85ad8"
      },
      "execution_count": 24,
      "outputs": [
        {
          "output_type": "execute_result",
          "data": {
            "text/plain": [
              "('1.21.6', '1.13.1+cu116')"
            ]
          },
          "metadata": {},
          "execution_count": 24
        }
      ]
    },
    {
      "cell_type": "code",
      "source": [
        "import matplotlib\n",
        "matplotlib.__version__"
      ],
      "metadata": {
        "colab": {
          "base_uri": "https://localhost:8080/",
          "height": 36
        },
        "id": "cAVFv6cw23jy",
        "outputId": "eb96b2a5-2855-4ed5-f292-a007434ab392"
      },
      "execution_count": 25,
      "outputs": [
        {
          "output_type": "execute_result",
          "data": {
            "text/plain": [
              "'3.2.2'"
            ],
            "application/vnd.google.colaboratory.intrinsic+json": {
              "type": "string"
            }
          },
          "metadata": {},
          "execution_count": 25
        }
      ]
    },
    {
      "cell_type": "markdown",
      "source": [
        "## 1. Load Data"
      ],
      "metadata": {
        "id": "kCBt-eTS3HjF"
      }
    },
    {
      "cell_type": "code",
      "source": [
        "corpus = [\"apple banana fruit\", \"banana apple fruit\", \"banana fruit apple\", \"grape apple apple\", \n",
        "          \"dog cat animal\", \"cat dog animal\", \"cat animal dog\", \"fish dog dog\"]"
      ],
      "metadata": {
        "id": "ukpZlK8y3o6W"
      },
      "execution_count": 26,
      "outputs": []
    },
    {
      "cell_type": "code",
      "source": [
        "# 1. tokenize\n",
        "\n",
        "corpus_tokenized = [sent.split(\" \") for sent in corpus]\n",
        "corpus_tokenized"
      ],
      "metadata": {
        "colab": {
          "base_uri": "https://localhost:8080/"
        },
        "id": "ExZOBSJf4d3K",
        "outputId": "eae8d80d-b58d-45ee-e9b7-a5622597355e"
      },
      "execution_count": 27,
      "outputs": [
        {
          "output_type": "execute_result",
          "data": {
            "text/plain": [
              "[['apple', 'banana', 'fruit'],\n",
              " ['banana', 'apple', 'fruit'],\n",
              " ['banana', 'fruit', 'apple'],\n",
              " ['grape', 'apple', 'apple'],\n",
              " ['dog', 'cat', 'animal'],\n",
              " ['cat', 'dog', 'animal'],\n",
              " ['cat', 'animal', 'dog'],\n",
              " ['fish', 'dog', 'dog']]"
            ]
          },
          "metadata": {},
          "execution_count": 27
        }
      ]
    },
    {
      "cell_type": "code",
      "source": [
        "# 2. numericalize\n",
        "# 2.1 get all the unique words\n",
        "flatten = lambda l: [item for sublist in l for item in sublist]\n",
        "vocabs = list(set(flatten(corpus_tokenized)))\n",
        "vocabs"
      ],
      "metadata": {
        "colab": {
          "base_uri": "https://localhost:8080/"
        },
        "id": "P82q6Lc14zRR",
        "outputId": "40b516eb-44b5-41b8-9e3d-d8f46d55b6b3"
      },
      "execution_count": 28,
      "outputs": [
        {
          "output_type": "execute_result",
          "data": {
            "text/plain": [
              "['banana', 'fruit', 'dog', 'grape', 'animal', 'apple', 'fish', 'cat']"
            ]
          },
          "metadata": {},
          "execution_count": 28
        }
      ]
    },
    {
      "cell_type": "code",
      "source": [
        "# 2.2 assign id to all these vocabs\n",
        "word2index = {v: idx for idx, v in enumerate(vocabs)}\n",
        "word2index"
      ],
      "metadata": {
        "colab": {
          "base_uri": "https://localhost:8080/"
        },
        "id": "CfjINrTx5uiM",
        "outputId": "5a13d0b0-ecd0-430f-eac5-125040394ace"
      },
      "execution_count": 29,
      "outputs": [
        {
          "output_type": "execute_result",
          "data": {
            "text/plain": [
              "{'banana': 0,\n",
              " 'fruit': 1,\n",
              " 'dog': 2,\n",
              " 'grape': 3,\n",
              " 'animal': 4,\n",
              " 'apple': 5,\n",
              " 'fish': 6,\n",
              " 'cat': 7}"
            ]
          },
          "metadata": {},
          "execution_count": 29
        }
      ]
    },
    {
      "cell_type": "code",
      "source": [
        "word2index['dog']"
      ],
      "metadata": {
        "colab": {
          "base_uri": "https://localhost:8080/"
        },
        "id": "zIbbkisq7Sxe",
        "outputId": "5d7e08e9-7a26-4bbc-83b5-3412446e9fbb"
      },
      "execution_count": 30,
      "outputs": [
        {
          "output_type": "execute_result",
          "data": {
            "text/plain": [
              "2"
            ]
          },
          "metadata": {},
          "execution_count": 30
        }
      ]
    },
    {
      "cell_type": "code",
      "source": [
        "# add <UNK>\n",
        "vocabs.append('<UNK>')"
      ],
      "metadata": {
        "id": "G0czJFA07ZJJ"
      },
      "execution_count": 31,
      "outputs": []
    },
    {
      "cell_type": "code",
      "source": [
        "word2index['<UNK>'] = 6"
      ],
      "metadata": {
        "id": "3GpeL-EV7cx1"
      },
      "execution_count": 32,
      "outputs": []
    },
    {
      "cell_type": "code",
      "source": [
        "word2index"
      ],
      "metadata": {
        "colab": {
          "base_uri": "https://localhost:8080/"
        },
        "id": "lBd2ve-77ha-",
        "outputId": "d3231d29-bb2d-438b-de02-1b4e2fdff730"
      },
      "execution_count": 33,
      "outputs": [
        {
          "output_type": "execute_result",
          "data": {
            "text/plain": [
              "{'banana': 0,\n",
              " 'fruit': 1,\n",
              " 'dog': 2,\n",
              " 'grape': 3,\n",
              " 'animal': 4,\n",
              " 'apple': 5,\n",
              " 'fish': 6,\n",
              " 'cat': 7,\n",
              " '<UNK>': 6}"
            ]
          },
          "metadata": {},
          "execution_count": 33
        }
      ]
    },
    {
      "cell_type": "code",
      "source": [
        "# create index2word dictionary\n",
        "index2word = {v:k for k, v in word2index.items()}\n",
        "index2word"
      ],
      "metadata": {
        "colab": {
          "base_uri": "https://localhost:8080/"
        },
        "id": "_zNWR4J76Xkl",
        "outputId": "52a52730-ecc4-4587-a232-4fdc510b7890"
      },
      "execution_count": 34,
      "outputs": [
        {
          "output_type": "execute_result",
          "data": {
            "text/plain": [
              "{0: 'banana',\n",
              " 1: 'fruit',\n",
              " 2: 'dog',\n",
              " 3: 'grape',\n",
              " 4: 'animal',\n",
              " 5: 'apple',\n",
              " 6: '<UNK>',\n",
              " 7: 'cat'}"
            ]
          },
          "metadata": {},
          "execution_count": 34
        }
      ]
    },
    {
      "cell_type": "code",
      "source": [
        "index2word[1]"
      ],
      "metadata": {
        "colab": {
          "base_uri": "https://localhost:8080/",
          "height": 36
        },
        "id": "3_iY5ATl7B9f",
        "outputId": "638b9076-d906-4199-9f53-c6999a832c85"
      },
      "execution_count": 35,
      "outputs": [
        {
          "output_type": "execute_result",
          "data": {
            "text/plain": [
              "'fruit'"
            ],
            "application/vnd.google.colaboratory.intrinsic+json": {
              "type": "string"
            }
          },
          "metadata": {},
          "execution_count": 35
        }
      ]
    },
    {
      "cell_type": "markdown",
      "source": [
        "## 2. Prepare Train Data"
      ],
      "metadata": {
        "id": "EKmGj5sa3Rzw"
      }
    },
    {
      "cell_type": "code",
      "source": [
        "#move along the corpus\n",
        "#to fit with our corpus, we gonna use window_size = 1\n",
        "\n",
        "skipgrams = []\n",
        "\n",
        "#for each corpus\n",
        "for sent in corpus_tokenized:\n",
        "    #for each sent [\"apple\", \"banana\", \"fruit\"]\n",
        "    for i in range(1, len(sent) - 1): #start from 1 to second last\n",
        "        center_word = sent[i]\n",
        "        outside_words = [sent[i-1], sent[i+1]]  #window_size = 1\n",
        "        for o in outside_words:\n",
        "            skipgrams.append([center_word, o])\n",
        "\n",
        "skipgrams\n",
        "        \n",
        "#here we want to create (banana, apple), (banana, fruit) append to some list"
      ],
      "metadata": {
        "colab": {
          "base_uri": "https://localhost:8080/"
        },
        "id": "IRC2nyGX71os",
        "outputId": "5b915724-d6b3-40c5-995e-c06d187ec990"
      },
      "execution_count": 82,
      "outputs": [
        {
          "output_type": "execute_result",
          "data": {
            "text/plain": [
              "[['banana', 'apple'],\n",
              " ['banana', 'fruit'],\n",
              " ['apple', 'banana'],\n",
              " ['apple', 'fruit'],\n",
              " ['fruit', 'banana'],\n",
              " ['fruit', 'apple'],\n",
              " ['apple', 'grape'],\n",
              " ['apple', 'apple'],\n",
              " ['cat', 'dog'],\n",
              " ['cat', 'animal'],\n",
              " ['dog', 'cat'],\n",
              " ['dog', 'animal'],\n",
              " ['animal', 'cat'],\n",
              " ['animal', 'dog'],\n",
              " ['dog', 'fish'],\n",
              " ['dog', 'dog']]"
            ]
          },
          "metadata": {},
          "execution_count": 82
        }
      ]
    },
    {
      "cell_type": "code",
      "source": [
        "def random_batch(batch_size, corpus):\n",
        "    \n",
        "    skipgrams = []\n",
        "\n",
        "    #for each corpus\n",
        "    for sent in corpus_tokenized:\n",
        "        #for each sent [\"apple\", \"banana\", \"fruit\"]\n",
        "        for i in range(1, len(sent) - 1): #start from 1 to second last\n",
        "            center_word = word2index[sent[i]]\n",
        "            outside_words = [word2index[sent[i-1]], word2index[sent[i+1]]]  #window_size = 1\n",
        "            for o in outside_words:\n",
        "                skipgrams.append([center_word, o])\n",
        "                \n",
        "    #only get a batch, not the entire list\n",
        "    random_index = np.random.choice(range(len(skipgrams)), batch_size, replace=False)\n",
        "             \n",
        "    #appending some list of inputs and labels\n",
        "    random_inputs, random_labels = [], []   \n",
        "    for index in random_index:\n",
        "        random_inputs.append([skipgrams[index][0]])  #center words, this will be a shape of (1, ) --> (1, 1) for modeling\n",
        "        random_labels.append([skipgrams[index][1]])\n",
        "        \n",
        "    return np.array(random_inputs), np.array(random_labels)"
      ],
      "metadata": {
        "id": "Rfrr-5yN98qG"
      },
      "execution_count": 83,
      "outputs": []
    },
    {
      "cell_type": "code",
      "source": [
        "random_batch(10, corpus_tokenized)"
      ],
      "metadata": {
        "colab": {
          "base_uri": "https://localhost:8080/"
        },
        "id": "fHK7UFac-JGF",
        "outputId": "bf8ade24-4dcc-4a43-efc8-32e068c1d2a2"
      },
      "execution_count": 84,
      "outputs": [
        {
          "output_type": "execute_result",
          "data": {
            "text/plain": [
              "(array([[2],\n",
              "        [2],\n",
              "        [4],\n",
              "        [5],\n",
              "        [0],\n",
              "        [4],\n",
              "        [7],\n",
              "        [2],\n",
              "        [0],\n",
              "        [5]]), array([[7],\n",
              "        [2],\n",
              "        [7],\n",
              "        [1],\n",
              "        [1],\n",
              "        [2],\n",
              "        [2],\n",
              "        [4],\n",
              "        [5],\n",
              "        [0]]))"
            ]
          },
          "metadata": {},
          "execution_count": 84
        }
      ]
    },
    {
      "cell_type": "code",
      "source": [
        "input, label = random_batch(2, corpus_tokenized)\n",
        "\n",
        "print(f\"{input=}\")\n",
        "print(f\"{label=}\")"
      ],
      "metadata": {
        "colab": {
          "base_uri": "https://localhost:8080/"
        },
        "id": "gF5GIqV0-lX8",
        "outputId": "7dbb5ccc-34bb-4733-f2c8-e6d84b8efd27"
      },
      "execution_count": 85,
      "outputs": [
        {
          "output_type": "stream",
          "name": "stdout",
          "text": [
            "input=array([[2],\n",
            "       [5]])\n",
            "label=array([[7],\n",
            "       [5]])\n"
          ]
        }
      ]
    },
    {
      "cell_type": "code",
      "source": [
        "input, label = random_batch(1, corpus_tokenized)\n",
        "\n",
        "print(f\"{input=}\")\n",
        "print(f\"{label=}\")"
      ],
      "metadata": {
        "colab": {
          "base_uri": "https://localhost:8080/"
        },
        "id": "ZRZaW7UU-2oy",
        "outputId": "9de13c9f-d2b9-4cb7-ca63-862ee19ff1e3"
      },
      "execution_count": 86,
      "outputs": [
        {
          "output_type": "stream",
          "name": "stdout",
          "text": [
            "input=array([[0]])\n",
            "label=array([[1]])\n"
          ]
        }
      ]
    },
    {
      "cell_type": "code",
      "source": [
        "input, label = random_batch(10, corpus_tokenized)\n",
        "\n",
        "print(f\"{input.shape}\")\n",
        "print(f\"{label=}\")"
      ],
      "metadata": {
        "colab": {
          "base_uri": "https://localhost:8080/"
        },
        "id": "mjHpZvp_CkQQ",
        "outputId": "d36f6c86-5968-4e37-ac86-a40171cec677"
      },
      "execution_count": 87,
      "outputs": [
        {
          "output_type": "stream",
          "name": "stdout",
          "text": [
            "(10, 1)\n",
            "label=array([[2],\n",
            "       [7],\n",
            "       [6],\n",
            "       [5],\n",
            "       [4],\n",
            "       [1],\n",
            "       [5],\n",
            "       [2],\n",
            "       [5],\n",
            "       [3]])\n"
          ]
        }
      ]
    },
    {
      "cell_type": "markdown",
      "source": [
        "## 3. Unigram Distribution"
      ],
      "metadata": {
        "id": "8ohUSmCgulIf"
      }
    },
    {
      "cell_type": "code",
      "source": [
        "z = 0.001"
      ],
      "metadata": {
        "id": "9_DiU4AIuoO2"
      },
      "execution_count": 88,
      "outputs": []
    },
    {
      "cell_type": "code",
      "source": [
        "from collections import Counter\n",
        "\n",
        "word_count = Counter(flatten(corpus_tokenized))"
      ],
      "metadata": {
        "id": "W4rLNEv8vsGA"
      },
      "execution_count": 89,
      "outputs": []
    },
    {
      "cell_type": "code",
      "source": [
        "word_count"
      ],
      "metadata": {
        "colab": {
          "base_uri": "https://localhost:8080/"
        },
        "id": "H8YrJTu9wrJ9",
        "outputId": "d7b262ef-172b-4e10-aa0f-0254e2c8b5ba"
      },
      "execution_count": 90,
      "outputs": [
        {
          "output_type": "execute_result",
          "data": {
            "text/plain": [
              "Counter({'apple': 5,\n",
              "         'banana': 3,\n",
              "         'fruit': 3,\n",
              "         'grape': 1,\n",
              "         'dog': 5,\n",
              "         'cat': 3,\n",
              "         'animal': 3,\n",
              "         'fish': 1})"
            ]
          },
          "metadata": {},
          "execution_count": 90
        }
      ]
    },
    {
      "cell_type": "code",
      "source": [
        "num_total_words = sum([c for w, c in word_count.items()])\n",
        "num_total_words"
      ],
      "metadata": {
        "colab": {
          "base_uri": "https://localhost:8080/"
        },
        "id": "ZD9OBJAxzv9b",
        "outputId": "0bd5c386-e1e8-40c9-bc8a-3842dee269f1"
      },
      "execution_count": 91,
      "outputs": [
        {
          "output_type": "execute_result",
          "data": {
            "text/plain": [
              "24"
            ]
          },
          "metadata": {},
          "execution_count": 91
        }
      ]
    },
    {
      "cell_type": "code",
      "source": [
        "unigram_table = []\n",
        "\n",
        "for v in vocabs:\n",
        "    uw = word_count[v]/num_total_words\n",
        "    uw_alpha = uw ** 0.75\n",
        "    uw_alpha_dividebyz = int(uw_alpha / z)\n",
        "    # print(\"vocab: \", v)\n",
        "    # print(\"distribution: \", uw_alpha_dividebyz)\n",
        "    unigram_table.extend([v] * uw_alpha_dividebyz)\n",
        "    \n",
        "Counter(unigram_table)"
      ],
      "metadata": {
        "colab": {
          "base_uri": "https://localhost:8080/"
        },
        "id": "DUbdzGJmzyJT",
        "outputId": "13712309-00fd-497c-8d54-fcaaf5f2a996"
      },
      "execution_count": 92,
      "outputs": [
        {
          "output_type": "execute_result",
          "data": {
            "text/plain": [
              "Counter({'banana': 210,\n",
              "         'fruit': 210,\n",
              "         'dog': 308,\n",
              "         'grape': 92,\n",
              "         'animal': 210,\n",
              "         'apple': 308,\n",
              "         'fish': 92,\n",
              "         'cat': 210})"
            ]
          },
          "metadata": {},
          "execution_count": 92
        }
      ]
    },
    {
      "cell_type": "code",
      "source": [
        "word_count"
      ],
      "metadata": {
        "colab": {
          "base_uri": "https://localhost:8080/"
        },
        "id": "QdwbDeQuz4Bn",
        "outputId": "ad972b72-ee95-4fad-edac-79f103cde2ee"
      },
      "execution_count": 93,
      "outputs": [
        {
          "output_type": "execute_result",
          "data": {
            "text/plain": [
              "Counter({'apple': 5,\n",
              "         'banana': 3,\n",
              "         'fruit': 3,\n",
              "         'grape': 1,\n",
              "         'dog': 5,\n",
              "         'cat': 3,\n",
              "         'animal': 3,\n",
              "         'fish': 1})"
            ]
          },
          "metadata": {},
          "execution_count": 93
        }
      ]
    },
    {
      "cell_type": "markdown",
      "source": [
        "## 4. Negative Sampling"
      ],
      "metadata": {
        "id": "1uVT1KtqvDMn"
      }
    },
    {
      "cell_type": "code",
      "source": [
        "def prepare_sequence(seq, word2index):\n",
        "    # map(function, list of something)\n",
        "    # map will look at each of element in this list, and apply this function\n",
        "    idxs = list(map(lambda w: word2index[w] if word2index.get(w) is not None else word2index[\"<UNK>\"], seq))\n",
        "    return torch.LongTensor(idxs)"
      ],
      "metadata": {
        "id": "9idSI7Q_0CiI"
      },
      "execution_count": 94,
      "outputs": []
    },
    {
      "cell_type": "code",
      "source": [
        "import random\n",
        "#you don't want to pick samples = targets, basically negative samples\n",
        "#k = number of negative samples - how many? they found 10 is the best\n",
        "#will be run during training\n",
        "#after random_batch, \n",
        "def negative_sampling(targets, unigram_table, k):\n",
        "    #targets is already in id.....\n",
        "    #but the unigram_table is in word....\n",
        "    #1. get the batch size of this targets\n",
        "    batch_size = targets.shape[0]\n",
        "    neg_samples = []\n",
        "    #2. for each batch\n",
        "    for i in range(batch_size):\n",
        "        #randomly pick k negative words from unigram_table\n",
        "        target_index = targets[i].item()  #looping each of the batch....\n",
        "        nsample = []\n",
        "        while len(nsample) < k:\n",
        "            neg = random.choice(unigram_table)\n",
        "            #if this word == target, skip this word\n",
        "            if word2index[neg] == target_index:\n",
        "                continue\n",
        "            nsample.append(neg)\n",
        "        #append this word to some list\n",
        "        neg_samples.append(prepare_sequence(nsample, word2index).reshape(1, -1))  #because the model wants (, 1)\n",
        "    return torch.cat(neg_samples)"
      ],
      "metadata": {
        "id": "hCOhNlA-0zbb"
      },
      "execution_count": 118,
      "outputs": []
    },
    {
      "cell_type": "code",
      "source": [
        "batch_size = 2\n",
        "input_batch, label_batch = random_batch(batch_size, corpus_tokenized)"
      ],
      "metadata": {
        "id": "AwjLrJXy1Eyv"
      },
      "execution_count": 119,
      "outputs": []
    },
    {
      "cell_type": "code",
      "source": [
        "input_batch, label_batch"
      ],
      "metadata": {
        "colab": {
          "base_uri": "https://localhost:8080/"
        },
        "id": "aMDCqd4q1j_f",
        "outputId": "5d7ac747-63c3-4c06-b7b9-e8f100bcc0e2"
      },
      "execution_count": 120,
      "outputs": [
        {
          "output_type": "execute_result",
          "data": {
            "text/plain": [
              "(array([[7],\n",
              "        [2]]), array([[2],\n",
              "        [2]]))"
            ]
          },
          "metadata": {},
          "execution_count": 120
        }
      ]
    },
    {
      "cell_type": "code",
      "source": [
        "input_batch"
      ],
      "metadata": {
        "colab": {
          "base_uri": "https://localhost:8080/"
        },
        "id": "k4W4XHSh1rxb",
        "outputId": "e0073862-9927-4310-badc-0fb179b32a52"
      },
      "execution_count": 121,
      "outputs": [
        {
          "output_type": "execute_result",
          "data": {
            "text/plain": [
              "array([[7],\n",
              "       [2]])"
            ]
          },
          "metadata": {},
          "execution_count": 121
        }
      ]
    },
    {
      "cell_type": "code",
      "source": [
        "label_batch"
      ],
      "metadata": {
        "colab": {
          "base_uri": "https://localhost:8080/"
        },
        "id": "pHiHLmEC1uZ7",
        "outputId": "6341fbd0-45f5-45a2-fbb2-e25390fef487"
      },
      "execution_count": 122,
      "outputs": [
        {
          "output_type": "execute_result",
          "data": {
            "text/plain": [
              "array([[2],\n",
              "       [2]])"
            ]
          },
          "metadata": {},
          "execution_count": 122
        }
      ]
    },
    {
      "cell_type": "code",
      "source": [
        "input_batch = torch.LongTensor(input_batch)\n",
        "label_batch = torch.LongTensor(label_batch)"
      ],
      "metadata": {
        "id": "KBbZ7rRY2WhZ"
      },
      "execution_count": 123,
      "outputs": []
    },
    {
      "cell_type": "code",
      "source": [
        "num_neg = 5  \n",
        "neg_samples = negative_sampling(label_batch, unigram_table, num_neg)"
      ],
      "metadata": {
        "id": "-faNXWcw2XqI"
      },
      "execution_count": 124,
      "outputs": []
    },
    {
      "cell_type": "code",
      "source": [
        "neg_samples"
      ],
      "metadata": {
        "colab": {
          "base_uri": "https://localhost:8080/"
        },
        "id": "4LVxQEtz2cR1",
        "outputId": "37ba6e42-a8ba-4715-8430-6af8cbd0d77f"
      },
      "execution_count": 125,
      "outputs": [
        {
          "output_type": "execute_result",
          "data": {
            "text/plain": [
              "tensor([[6, 3, 1, 1, 5],\n",
              "        [1, 4, 4, 0, 0]])"
            ]
          },
          "metadata": {},
          "execution_count": 125
        }
      ]
    },
    {
      "cell_type": "code",
      "source": [
        "neg_samples[0].shape"
      ],
      "metadata": {
        "colab": {
          "base_uri": "https://localhost:8080/"
        },
        "id": "Zvpqz6Vu2w2z",
        "outputId": "9b825fc7-ef42-4f76-f852-19b6a834ed5d"
      },
      "execution_count": 126,
      "outputs": [
        {
          "output_type": "execute_result",
          "data": {
            "text/plain": [
              "torch.Size([5])"
            ]
          },
          "metadata": {},
          "execution_count": 126
        }
      ]
    },
    {
      "cell_type": "markdown",
      "source": [
        "## 5. Model"
      ],
      "metadata": {
        "id": "6fUloorM3XYP"
      }
    },
    {
      "cell_type": "code",
      "source": [
        "#the model will accept three vectors - u_o, v_c, u_w\n",
        "#u_o - vector for outside words\n",
        "#v_c - vector for center word\n",
        "#u_k - vectors of all negative samples\n",
        "\n",
        "class SkipgramNeg(nn.Module):\n",
        "    \n",
        "    def __init__(self, voc_size, emb_size):\n",
        "        super(SkipgramNeg, self).__init__()\n",
        "        self.embedding_center_word  = nn.Embedding(voc_size, emb_size)  #is a lookup table mapping all ids in voc_size, into some vector of size emb_size\n",
        "        self.embedding_outside_word = nn.Embedding(voc_size, emb_size)\n",
        "        self.logsigmoid = nn.LogSigmoid()\n",
        "        \n",
        "    def forward(self, center_words, outside_words, negative_words):\n",
        "        #center_words, outside_words: (batch_size, 1)\n",
        "        #negative_words:  (batch_size, k)\n",
        "        \n",
        "        center_embed  = self.embedding_center_word(center_words)    #(batch_size, 1, emb_size)\n",
        "        outside_embed = self.embedding_outside_word(outside_words)  #(batch_size, 1, emb_size)\n",
        "        neg_embed     = self.embedding_outside_word(negative_words) #(batch_size, k, emb_size)\n",
        "        \n",
        "        uovc          =  outside_embed.bmm(center_embed.transpose(1, 2)).squeeze(2)  #(batch_size, 1)\n",
        "        ukvc          = -neg_embed.bmm(center_embed.transpose(1, 2)).squeeze(2)  #(batch_size, k)\n",
        "        ukvc_sum      =  torch.sum(ukvc, 1).view(-1, 1) #(batch_size, 1)\n",
        "        \n",
        "        loss = self.logsigmoid(uovc) + self.logsigmoid(ukvc_sum)  #(batch_size, 1) + (batch_size, 1)\n",
        "                \n",
        "        return -torch.mean(loss)  #scalar, loss should be scalar, to call backward()"
      ],
      "metadata": {
        "id": "oDN-5Y-63pLE"
      },
      "execution_count": 127,
      "outputs": []
    },
    {
      "cell_type": "code",
      "source": [
        "input, label = random_batch(batch_size, corpus_tokenized)\n",
        "input_tensor = torch.LongTensor(input)  \n",
        "label_tensor = torch.LongTensor(label)"
      ],
      "metadata": {
        "id": "VpJtQkFWDCMy"
      },
      "execution_count": 128,
      "outputs": []
    },
    {
      "cell_type": "code",
      "source": [
        "emb_size = 2 \n",
        "voc_size = len(vocabs)\n",
        "model = SkipgramNeg(voc_size, emb_size)"
      ],
      "metadata": {
        "id": "50XRKesrDFV5"
      },
      "execution_count": 129,
      "outputs": []
    },
    {
      "cell_type": "code",
      "source": [
        "neg_tensor = negative_sampling(label_tensor, unigram_table, 5)"
      ],
      "metadata": {
        "id": "sK6WBzh4DXtl"
      },
      "execution_count": 130,
      "outputs": []
    },
    {
      "cell_type": "code",
      "source": [
        "input_tensor.shape, label_tensor.shape"
      ],
      "metadata": {
        "id": "3XnEMYBNDayq",
        "colab": {
          "base_uri": "https://localhost:8080/"
        },
        "outputId": "6995d013-adf4-4135-dba9-da4be34bc7b8"
      },
      "execution_count": 131,
      "outputs": [
        {
          "output_type": "execute_result",
          "data": {
            "text/plain": [
              "(torch.Size([2, 1]), torch.Size([2, 1]))"
            ]
          },
          "metadata": {},
          "execution_count": 131
        }
      ]
    },
    {
      "cell_type": "code",
      "source": [
        "loss = model(input_tensor, label_tensor, neg_tensor)"
      ],
      "metadata": {
        "id": "cmfn6r_-KbG9"
      },
      "execution_count": 132,
      "outputs": []
    },
    {
      "cell_type": "code",
      "source": [
        "loss"
      ],
      "metadata": {
        "colab": {
          "base_uri": "https://localhost:8080/"
        },
        "id": "6rW6WxL3KfDq",
        "outputId": "f3fb6318-9f45-4892-df93-edda50f8aac2"
      },
      "execution_count": 133,
      "outputs": [
        {
          "output_type": "execute_result",
          "data": {
            "text/plain": [
              "tensor(4.9002, grad_fn=<NegBackward0>)"
            ]
          },
          "metadata": {},
          "execution_count": 133
        }
      ]
    },
    {
      "cell_type": "markdown",
      "source": [
        "## 6. Training"
      ],
      "metadata": {
        "id": "ykh9cuII3ahk"
      }
    },
    {
      "cell_type": "code",
      "source": [
        "voc_size = len(vocabs)\n",
        "batch_size = 2  \n",
        "emb_size = 2 \n",
        "model = SkipgramNeg(voc_size, emb_size)\n",
        "\n",
        "optimizer = optim.Adam(model.parameters(), lr=0.001)"
      ],
      "metadata": {
        "id": "AWahJXyZMjKq"
      },
      "execution_count": 135,
      "outputs": []
    },
    {
      "cell_type": "code",
      "source": [
        "num_epochs = 5000\n",
        "#for epoch\n",
        "for epoch in range(num_epochs):\n",
        "\n",
        "    #get random batch\n",
        "    input_batch, label_batch = random_batch(batch_size, corpus)\n",
        "    input_batch = torch.LongTensor(input_batch)\n",
        "    label_batch = torch.LongTensor(label_batch)\n",
        "    neg_batch   = negative_sampling(label_batch, unigram_table, 5)    \n",
        "    \n",
        "    #loss = model\n",
        "    loss = model(input_batch, label_batch, neg_batch)\n",
        "    \n",
        "    #backpropagate\n",
        "    loss.backward()\n",
        "    \n",
        "    #update alpha\n",
        "    optimizer.step()\n",
        "    \n",
        "    #print epoch loss\n",
        "    if (epoch + 1) % 1000 == 0:\n",
        "        print(f\"Epoch {epoch+1} | Loss: {loss:.6f} | Time: ??\")"
      ],
      "metadata": {
        "colab": {
          "base_uri": "https://localhost:8080/"
        },
        "id": "nYzS9bo5NhjP",
        "outputId": "630d7fd6-97b6-49da-b18f-057002f5f4d8"
      },
      "execution_count": 136,
      "outputs": [
        {
          "output_type": "stream",
          "name": "stdout",
          "text": [
            "Epoch 1000 | Loss: 0.903080 | Time: ??\n",
            "Epoch 2000 | Loss: 0.193494 | Time: ??\n",
            "Epoch 3000 | Loss: 0.126719 | Time: ??\n",
            "Epoch 4000 | Loss: 0.031787 | Time: ??\n",
            "Epoch 5000 | Loss: 0.030371 | Time: ??\n"
          ]
        }
      ]
    },
    {
      "cell_type": "markdown",
      "source": [
        "## 7. Plot the Embeddings"
      ],
      "metadata": {
        "id": "djaOn8NX3dWG"
      }
    },
    {
      "cell_type": "code",
      "source": [
        "vocabs"
      ],
      "metadata": {
        "colab": {
          "base_uri": "https://localhost:8080/"
        },
        "id": "bCynhvNr3FNq",
        "outputId": "8d88a9ba-b0e9-40be-c11f-34fd72ff4dcb"
      },
      "execution_count": 137,
      "outputs": [
        {
          "output_type": "execute_result",
          "data": {
            "text/plain": [
              "['banana', 'fruit', 'dog', 'grape', 'animal', 'apple', 'fish', 'cat', '<UNK>']"
            ]
          },
          "metadata": {},
          "execution_count": 137
        }
      ]
    },
    {
      "cell_type": "code",
      "source": [
        "banana = torch.LongTensor([word2index['banana']])\n",
        "banana"
      ],
      "metadata": {
        "colab": {
          "base_uri": "https://localhost:8080/"
        },
        "id": "dIOFqj4SQDlj",
        "outputId": "5d61fd19-ad70-4654-e71c-3afbcf583d60"
      },
      "execution_count": 138,
      "outputs": [
        {
          "output_type": "execute_result",
          "data": {
            "text/plain": [
              "tensor([0])"
            ]
          },
          "metadata": {},
          "execution_count": 138
        }
      ]
    },
    {
      "cell_type": "code",
      "source": [
        "banana_center_embed = model.embedding_center_word(banana)\n",
        "banana_outisde_embed = model.embedding_outside_word(banana)\n",
        "\n",
        "banana_embed = (banana_center_embed + banana_outisde_embed) / 2\n",
        "banana_embed"
      ],
      "metadata": {
        "colab": {
          "base_uri": "https://localhost:8080/"
        },
        "id": "v5rS16aDQYAc",
        "outputId": "8ff11437-2e4f-4e14-c027-93cc0f9f6883"
      },
      "execution_count": 139,
      "outputs": [
        {
          "output_type": "execute_result",
          "data": {
            "text/plain": [
              "tensor([[-0.4406,  5.4053]], grad_fn=<DivBackward0>)"
            ]
          },
          "metadata": {},
          "execution_count": 139
        }
      ]
    },
    {
      "cell_type": "code",
      "source": [
        "def get_embed(word):\n",
        "    try:\n",
        "        index = word2index[word]\n",
        "    except:\n",
        "        index = word2index['<UNK>']\n",
        "    \n",
        "    word = torch.LongTensor([index])\n",
        "\n",
        "    center_embed  = model.embedding_center_word(word)\n",
        "    outside_embed = model.embedding_outside_word(word)\n",
        "    \n",
        "    embed = (center_embed + outside_embed) / 2\n",
        "    \n",
        "    return  embed[0][0].item(), embed[0][1].item()"
      ],
      "metadata": {
        "id": "YW8nBBkhQZoo"
      },
      "execution_count": 140,
      "outputs": []
    },
    {
      "cell_type": "code",
      "source": [
        "#find embedding of fruit, cat\n",
        "print(get_embed('fruit'))\n",
        "print(get_embed('cat'))\n",
        "\n",
        "print(get_embed('chaky'))"
      ],
      "metadata": {
        "colab": {
          "base_uri": "https://localhost:8080/"
        },
        "id": "xgde0cU1SeKm",
        "outputId": "0af1f11b-ae2e-4ed1-edee-f90a4aeaca31"
      },
      "execution_count": 141,
      "outputs": [
        {
          "output_type": "stream",
          "name": "stdout",
          "text": [
            "(-1.258906364440918, 4.8684186935424805)\n",
            "(0.2933844327926636, -4.069275856018066)\n",
            "(-2.0254719257354736, -1.6527162790298462)\n"
          ]
        }
      ]
    },
    {
      "cell_type": "code",
      "source": [
        "plt.figure(figsize=(6,3))\n",
        "for i, word in enumerate(vocabs[:20]): #loop each unique vocab\n",
        "    x, y = get_embed(word)\n",
        "    plt.scatter(x, y)\n",
        "    plt.annotate(word, xy=(x, y), xytext=(5, 2), textcoords='offset points')\n",
        "plt.show()"
      ],
      "metadata": {
        "colab": {
          "base_uri": "https://localhost:8080/",
          "height": 214
        },
        "id": "RYeJQ7yrSimz",
        "outputId": "edc51fff-de3f-47f9-f1e0-d1f51e951f35"
      },
      "execution_count": 142,
      "outputs": [
        {
          "output_type": "display_data",
          "data": {
            "text/plain": [
              "<Figure size 432x216 with 1 Axes>"
            ],
            "image/png": "[encoded data removed]"
          },
          "metadata": {
            "needs_background": "light"
          }
        }
      ]
    }
  ]
}