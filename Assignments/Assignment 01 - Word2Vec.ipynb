{
  "cells": [
    {
      "cell_type": "markdown",
      "source": [
        "# Assignment 1"
      ],
      "metadata": {
        "id": "4PSeIBWBoYcI"
      }
    },
    {
      "cell_type": "markdown",
      "source": [
        "### You MUST build on top of what we have coded in the class (to prevent anyone from just copying from the internet).\n",
        "\n",
        "1.  Try a real corpus (instead of banana apple, try something real... on the internet....) - not so big!  Just so you have a good taste of real stuff....like 50 documents, each having 50 words...(really up to you)\n",
        "\n",
        "2. Try a window size of 2\n",
        "\n",
        "3. Implement CBOW (instead of skipgrams)\n",
        "\n",
        "4. Compare normal version of skipgrams vs. negative sampling version of skipgrams in terms of time (using real corpus)\n",
        "\n",
        "Point criteria:\n",
        "0: not done/copy directly from your friend (inspired is ok)\n",
        "1: ok\n",
        "2: with comments, and a nice explanation along the notebook (like how Chaky do his tutorial...)\n",
        "\n",
        "Submit as GitHub link."
      ],
      "metadata": {
        "id": "-cwuK8A_oczc"
      }
    },
    {
      "cell_type": "code",
      "execution_count": 1,
      "metadata": {
        "id": "WOjNkeNkumNR"
      },
      "outputs": [],
      "source": [
        "import numpy as np\n",
        "import torch\n",
        "import torch.nn as nn\n",
        "import torch.optim as optim\n",
        "import matplotlib.pyplot as plt"
      ]
    },
    {
      "cell_type": "code",
      "execution_count": 2,
      "metadata": {
        "colab": {
          "base_uri": "https://localhost:8080/"
        },
        "id": "A3ejuZXF2hHy",
        "outputId": "5bcf44c9-b53f-41cf-8ceb-f4adfc5ef9a3"
      },
      "outputs": [
        {
          "output_type": "execute_result",
          "data": {
            "text/plain": [
              "('1.21.6', '1.13.1+cu116')"
            ]
          },
          "metadata": {},
          "execution_count": 2
        }
      ],
      "source": [
        "np.__version__, torch.__version__"
      ]
    },
    {
      "cell_type": "code",
      "execution_count": 3,
      "metadata": {
        "colab": {
          "base_uri": "https://localhost:8080/",
          "height": 36
        },
        "id": "cAVFv6cw23jy",
        "outputId": "d92515af-bb26-423c-c590-1b46c6f6fb29"
      },
      "outputs": [
        {
          "output_type": "execute_result",
          "data": {
            "text/plain": [
              "'3.2.2'"
            ],
            "application/vnd.google.colaboratory.intrinsic+json": {
              "type": "string"
            }
          },
          "metadata": {},
          "execution_count": 3
        }
      ],
      "source": [
        "import matplotlib\n",
        "matplotlib.__version__"
      ]
    },
    {
      "cell_type": "markdown",
      "metadata": {
        "id": "kCBt-eTS3HjF"
      },
      "source": [
        "## Loading Data "
      ]
    },
    {
      "cell_type": "code",
      "execution_count": 4,
      "metadata": {
        "id": "ukpZlK8y3o6W"
      },
      "outputs": [],
      "source": [
        "# defining corpus\n",
        "\n",
        "corpus = [\"We don’t regularly think about the intricacies of our own languages.\",\n",
        "          \"It’s an intuitive behavior used to convey information and meaning with semantic cues such as words, signs, or images.\",\n",
        "          \"It’s been said that language is easier to learn and comes more naturally in adolescence because it’s a repeatable, trained behavior—much like walking.\",\n",
        "          \"And language doesn’t follow a strict set of rules, with so many exceptions like “I before E except after C.” \",\n",
        "          \"What comes naturally to humans, however, is exceedingly difficult for computers with the amount of unstructured data, lack of formal rules, and absence of real-world context or intent.\",\n",
        "          \"That’s why machine learning and artificial intelligence (AI) are gaining attention and momentum, with greater human dependency on computing systems to communicate and perform tasks.\",\n",
        "          \"And as AI and augmented analytics get more sophisticated, so will Natural Language Processing (NLP).\", \n",
        "          \"While the terms AI and NLP might conjure images of futuristic robots, there are already basic examples of NLP at work in our daily lives.\"]"
      ]
    },
    {
      "cell_type": "code",
      "execution_count": 5,
      "metadata": {
        "colab": {
          "base_uri": "https://localhost:8080/"
        },
        "id": "ExZOBSJf4d3K",
        "outputId": "301263b0-7b97-483b-b09a-0a7a3ec857c0"
      },
      "outputs": [
        {
          "output_type": "execute_result",
          "data": {
            "text/plain": [
              "[['We',\n",
              "  'don’t',\n",
              "  'regularly',\n",
              "  'think',\n",
              "  'about',\n",
              "  'the',\n",
              "  'intricacies',\n",
              "  'of',\n",
              "  'our',\n",
              "  'own',\n",
              "  'languages.'],\n",
              " ['It’s',\n",
              "  'an',\n",
              "  'intuitive',\n",
              "  'behavior',\n",
              "  'used',\n",
              "  'to',\n",
              "  'convey',\n",
              "  'information',\n",
              "  'and',\n",
              "  'meaning',\n",
              "  'with',\n",
              "  'semantic',\n",
              "  'cues',\n",
              "  'such',\n",
              "  'as',\n",
              "  'words,',\n",
              "  'signs,',\n",
              "  'or',\n",
              "  'images.'],\n",
              " ['It’s',\n",
              "  'been',\n",
              "  'said',\n",
              "  'that',\n",
              "  'language',\n",
              "  'is',\n",
              "  'easier',\n",
              "  'to',\n",
              "  'learn',\n",
              "  'and',\n",
              "  'comes',\n",
              "  'more',\n",
              "  'naturally',\n",
              "  'in',\n",
              "  'adolescence',\n",
              "  'because',\n",
              "  'it’s',\n",
              "  'a',\n",
              "  'repeatable,',\n",
              "  'trained',\n",
              "  'behavior—much',\n",
              "  'like',\n",
              "  'walking.'],\n",
              " ['And',\n",
              "  'language',\n",
              "  'doesn’t',\n",
              "  'follow',\n",
              "  'a',\n",
              "  'strict',\n",
              "  'set',\n",
              "  'of',\n",
              "  'rules,',\n",
              "  'with',\n",
              "  'so',\n",
              "  'many',\n",
              "  'exceptions',\n",
              "  'like',\n",
              "  '“I',\n",
              "  'before',\n",
              "  'E',\n",
              "  'except',\n",
              "  'after',\n",
              "  'C.”',\n",
              "  ''],\n",
              " ['What',\n",
              "  'comes',\n",
              "  'naturally',\n",
              "  'to',\n",
              "  'humans,',\n",
              "  'however,',\n",
              "  'is',\n",
              "  'exceedingly',\n",
              "  'difficult',\n",
              "  'for',\n",
              "  'computers',\n",
              "  'with',\n",
              "  'the',\n",
              "  'amount',\n",
              "  'of',\n",
              "  'unstructured',\n",
              "  'data,',\n",
              "  'lack',\n",
              "  'of',\n",
              "  'formal',\n",
              "  'rules,',\n",
              "  'and',\n",
              "  'absence',\n",
              "  'of',\n",
              "  'real-world',\n",
              "  'context',\n",
              "  'or',\n",
              "  'intent.'],\n",
              " ['That’s',\n",
              "  'why',\n",
              "  'machine',\n",
              "  'learning',\n",
              "  'and',\n",
              "  'artificial',\n",
              "  'intelligence',\n",
              "  '(AI)',\n",
              "  'are',\n",
              "  'gaining',\n",
              "  'attention',\n",
              "  'and',\n",
              "  'momentum,',\n",
              "  'with',\n",
              "  'greater',\n",
              "  'human',\n",
              "  'dependency',\n",
              "  'on',\n",
              "  'computing',\n",
              "  'systems',\n",
              "  'to',\n",
              "  'communicate',\n",
              "  'and',\n",
              "  'perform',\n",
              "  'tasks.'],\n",
              " ['And',\n",
              "  'as',\n",
              "  'AI',\n",
              "  'and',\n",
              "  'augmented',\n",
              "  'analytics',\n",
              "  'get',\n",
              "  'more',\n",
              "  'sophisticated,',\n",
              "  'so',\n",
              "  'will',\n",
              "  'Natural',\n",
              "  'Language',\n",
              "  'Processing',\n",
              "  '(NLP).'],\n",
              " ['While',\n",
              "  'the',\n",
              "  'terms',\n",
              "  'AI',\n",
              "  'and',\n",
              "  'NLP',\n",
              "  'might',\n",
              "  'conjure',\n",
              "  'images',\n",
              "  'of',\n",
              "  'futuristic',\n",
              "  'robots,',\n",
              "  'there',\n",
              "  'are',\n",
              "  'already',\n",
              "  'basic',\n",
              "  'examples',\n",
              "  'of',\n",
              "  'NLP',\n",
              "  'at',\n",
              "  'work',\n",
              "  'in',\n",
              "  'our',\n",
              "  'daily',\n",
              "  'lives.']]"
            ]
          },
          "metadata": {},
          "execution_count": 5
        }
      ],
      "source": [
        "corpus = [sent.split(\" \") for sent in corpus]\n",
        "corpus"
      ]
    },
    {
      "cell_type": "code",
      "execution_count": 6,
      "metadata": {
        "colab": {
          "base_uri": "https://localhost:8080/"
        },
        "id": "P82q6Lc14zRR",
        "outputId": "3a0bfbff-bb46-4d12-a506-a153652c2102"
      },
      "outputs": [
        {
          "output_type": "execute_result",
          "data": {
            "text/plain": [
              "['',\n",
              " 'greater',\n",
              " 'follow',\n",
              " 'learn',\n",
              " 'attention',\n",
              " 'machine',\n",
              " 'to',\n",
              " 'intricacies',\n",
              " '“I',\n",
              " 'meaning',\n",
              " 'exceptions',\n",
              " 'comes',\n",
              " 'already',\n",
              " 'been',\n",
              " 'in',\n",
              " 'set',\n",
              " 'intelligence',\n",
              " 'images',\n",
              " 'languages.',\n",
              " 'momentum,',\n",
              " 'behavior—much',\n",
              " 'except',\n",
              " 'many',\n",
              " 'for',\n",
              " 'that',\n",
              " 'difficult',\n",
              " 'augmented',\n",
              " 'get',\n",
              " 'lack',\n",
              " 'futuristic',\n",
              " 'at',\n",
              " 'will',\n",
              " 'NLP',\n",
              " 'used',\n",
              " 'C.”',\n",
              " 'think',\n",
              " 'humans,',\n",
              " 'doesn’t',\n",
              " 'analytics',\n",
              " 'of',\n",
              " 'with',\n",
              " 'language',\n",
              " 'our',\n",
              " 'like',\n",
              " 'strict',\n",
              " 'there',\n",
              " 'rules,',\n",
              " 'computing',\n",
              " 'robots,',\n",
              " 'And',\n",
              " 'computers',\n",
              " 'behavior',\n",
              " 'examples',\n",
              " 'perform',\n",
              " 'so',\n",
              " 'words,',\n",
              " 'repeatable,',\n",
              " 'trained',\n",
              " 'artificial',\n",
              " 'easier',\n",
              " 'convey',\n",
              " 'it’s',\n",
              " 'however,',\n",
              " 'more',\n",
              " 'amount',\n",
              " 'daily',\n",
              " 'human',\n",
              " 'walking.',\n",
              " 'an',\n",
              " 'because',\n",
              " 'AI',\n",
              " 'lives.',\n",
              " 'before',\n",
              " '(NLP).',\n",
              " 'intuitive',\n",
              " 'information',\n",
              " 'adolescence',\n",
              " 'as',\n",
              " 'While',\n",
              " 'is',\n",
              " 'don’t',\n",
              " 'basic',\n",
              " 'or',\n",
              " 'tasks.',\n",
              " 'naturally',\n",
              " 'work',\n",
              " 'formal',\n",
              " 'Processing',\n",
              " 'Natural',\n",
              " 'conjure',\n",
              " 'the',\n",
              " 'on',\n",
              " 'dependency',\n",
              " 'communicate',\n",
              " 'It’s',\n",
              " 'context',\n",
              " 'What',\n",
              " 'learning',\n",
              " 'and',\n",
              " 'absence',\n",
              " 'might',\n",
              " 'after',\n",
              " 'said',\n",
              " 'a',\n",
              " 'terms',\n",
              " '(AI)',\n",
              " 'intent.',\n",
              " 'about',\n",
              " 'semantic',\n",
              " 'signs,',\n",
              " 'exceedingly',\n",
              " 'Language',\n",
              " 'sophisticated,',\n",
              " 'images.',\n",
              " 'gaining',\n",
              " 'E',\n",
              " 'We',\n",
              " 'why',\n",
              " 'regularly',\n",
              " 'own',\n",
              " 'That’s',\n",
              " 'unstructured',\n",
              " 'cues',\n",
              " 'are',\n",
              " 'systems',\n",
              " 'real-world',\n",
              " 'data,',\n",
              " 'such']"
            ]
          },
          "metadata": {},
          "execution_count": 6
        }
      ],
      "source": [
        "# getting word sequences and unique words\n",
        "\n",
        "flatten = lambda l: [item for sublist in l for item in sublist]\n",
        "vocab = list(set(flatten(corpus)))\n",
        "vocab"
      ]
    },
    {
      "cell_type": "code",
      "execution_count": 7,
      "metadata": {
        "colab": {
          "base_uri": "https://localhost:8080/"
        },
        "id": "CfjINrTx5uiM",
        "outputId": "81d48188-f4f1-43d6-c1fc-38d7fe15240e"
      },
      "outputs": [
        {
          "output_type": "stream",
          "name": "stdout",
          "text": [
            "{'': 0, 'greater': 1, 'follow': 2, 'learn': 3, 'attention': 4, 'machine': 5, 'to': 6, 'intricacies': 7, '“I': 8, 'meaning': 9, 'exceptions': 10, 'comes': 11, 'already': 12, 'been': 13, 'in': 14, 'set': 15, 'intelligence': 16, 'images': 17, 'languages.': 18, 'momentum,': 19, 'behavior—much': 20, 'except': 21, 'many': 22, 'for': 23, 'that': 24, 'difficult': 25, 'augmented': 26, 'get': 27, 'lack': 28, 'futuristic': 29, 'at': 30, 'will': 31, 'NLP': 32, 'used': 33, 'C.”': 34, 'think': 35, 'humans,': 36, 'doesn’t': 37, 'analytics': 38, 'of': 39, 'with': 40, 'language': 41, 'our': 42, 'like': 43, 'strict': 44, 'there': 45, 'rules,': 46, 'computing': 47, 'robots,': 48, 'And': 49, 'computers': 50, 'behavior': 51, 'examples': 52, 'perform': 53, 'so': 54, 'words,': 55, 'repeatable,': 56, 'trained': 57, 'artificial': 58, 'easier': 59, 'convey': 60, 'it’s': 61, 'however,': 62, 'more': 63, 'amount': 64, 'daily': 65, 'human': 66, 'walking.': 67, 'an': 68, 'because': 69, 'AI': 70, 'lives.': 71, 'before': 72, '(NLP).': 73, 'intuitive': 74, 'information': 75, 'adolescence': 76, 'as': 77, 'While': 78, 'is': 79, 'don’t': 80, 'basic': 81, 'or': 82, 'tasks.': 83, 'naturally': 84, 'work': 85, 'formal': 86, 'Processing': 87, 'Natural': 88, 'conjure': 89, 'the': 90, 'on': 91, 'dependency': 92, 'communicate': 93, 'It’s': 94, 'context': 95, 'What': 96, 'learning': 97, 'and': 98, 'absence': 99, 'might': 100, 'after': 101, 'said': 102, 'a': 103, 'terms': 104, '(AI)': 105, 'intent.': 106, 'about': 107, 'semantic': 108, 'signs,': 109, 'exceedingly': 110, 'Language': 111, 'sophisticated,': 112, 'images.': 113, 'gaining': 114, 'E': 115, 'We': 116, 'why': 117, 'regularly': 118, 'own': 119, 'That’s': 120, 'unstructured': 121, 'cues': 122, 'are': 123, 'systems': 124, 'real-world': 125, 'data,': 126, 'such': 127}\n"
          ]
        }
      ],
      "source": [
        "# numericalization\n",
        "\n",
        "word2index = {w: i for i, w in enumerate(vocab)}\n",
        "print(word2index)"
      ]
    },
    {
      "cell_type": "code",
      "execution_count": 8,
      "metadata": {
        "colab": {
          "base_uri": "https://localhost:8080/"
        },
        "id": "zIbbkisq7Sxe",
        "outputId": "5873e80b-4ac4-4715-feaf-2d7837b71e44"
      },
      "outputs": [
        {
          "output_type": "stream",
          "name": "stdout",
          "text": [
            "128\n"
          ]
        }
      ],
      "source": [
        "# checking vocab size\n",
        "\n",
        "voc_size = len(vocab)\n",
        "print(voc_size)"
      ]
    },
    {
      "cell_type": "code",
      "source": [
        "# appending UNK\n",
        "vocab.append('<UNK>')"
      ],
      "metadata": {
        "id": "okwXRkOf09bY"
      },
      "execution_count": 9,
      "outputs": []
    },
    {
      "cell_type": "code",
      "execution_count": 10,
      "metadata": {
        "id": "G0czJFA07ZJJ"
      },
      "outputs": [],
      "source": [
        "word2index['<UNK>'] = 128"
      ]
    },
    {
      "cell_type": "code",
      "source": [
        "# just in case we need to use\n",
        "index2word = {v:k for k, v in word2index.items()} "
      ],
      "metadata": {
        "id": "t8dZmL1j1a80"
      },
      "execution_count": 11,
      "outputs": []
    },
    {
      "cell_type": "markdown",
      "metadata": {
        "id": "I2foNF5CZpHp"
      },
      "source": [
        "## Preparing Train Data"
      ]
    },
    {
      "cell_type": "code",
      "source": [
        "for c in corpus:\n",
        "    print(c)"
      ],
      "metadata": {
        "colab": {
          "base_uri": "https://localhost:8080/"
        },
        "id": "4cHBe21w2ftZ",
        "outputId": "c6625fe9-05f1-48ad-9a29-cfc7dd39bc29"
      },
      "execution_count": 12,
      "outputs": [
        {
          "output_type": "stream",
          "name": "stdout",
          "text": [
            "['We', 'don’t', 'regularly', 'think', 'about', 'the', 'intricacies', 'of', 'our', 'own', 'languages.']\n",
            "['It’s', 'an', 'intuitive', 'behavior', 'used', 'to', 'convey', 'information', 'and', 'meaning', 'with', 'semantic', 'cues', 'such', 'as', 'words,', 'signs,', 'or', 'images.']\n",
            "['It’s', 'been', 'said', 'that', 'language', 'is', 'easier', 'to', 'learn', 'and', 'comes', 'more', 'naturally', 'in', 'adolescence', 'because', 'it’s', 'a', 'repeatable,', 'trained', 'behavior—much', 'like', 'walking.']\n",
            "['And', 'language', 'doesn’t', 'follow', 'a', 'strict', 'set', 'of', 'rules,', 'with', 'so', 'many', 'exceptions', 'like', '“I', 'before', 'E', 'except', 'after', 'C.”', '']\n",
            "['What', 'comes', 'naturally', 'to', 'humans,', 'however,', 'is', 'exceedingly', 'difficult', 'for', 'computers', 'with', 'the', 'amount', 'of', 'unstructured', 'data,', 'lack', 'of', 'formal', 'rules,', 'and', 'absence', 'of', 'real-world', 'context', 'or', 'intent.']\n",
            "['That’s', 'why', 'machine', 'learning', 'and', 'artificial', 'intelligence', '(AI)', 'are', 'gaining', 'attention', 'and', 'momentum,', 'with', 'greater', 'human', 'dependency', 'on', 'computing', 'systems', 'to', 'communicate', 'and', 'perform', 'tasks.']\n",
            "['And', 'as', 'AI', 'and', 'augmented', 'analytics', 'get', 'more', 'sophisticated,', 'so', 'will', 'Natural', 'Language', 'Processing', '(NLP).']\n",
            "['While', 'the', 'terms', 'AI', 'and', 'NLP', 'might', 'conjure', 'images', 'of', 'futuristic', 'robots,', 'there', 'are', 'already', 'basic', 'examples', 'of', 'NLP', 'at', 'work', 'in', 'our', 'daily', 'lives.']\n"
          ]
        }
      ]
    },
    {
      "cell_type": "code",
      "source": [
        "# word2index\n",
        "skipgrams = []\n",
        "\n",
        "# for each corpus\n",
        "window_size = 2\n",
        "for sent in corpus:\n",
        "    for i in range(window_size, len(sent) - window_size): \n",
        "        center_word = sent[i]\n",
        "        outside_words = [sent[i-2], sent[i-1], sent[i+1], sent[i+2]]  #window_size = 2\n",
        "        for o in outside_words:\n",
        "            skipgrams.append([center_word, o])\n",
        "\n",
        "skipgrams"
      ],
      "metadata": {
        "colab": {
          "base_uri": "https://localhost:8080/"
        },
        "id": "oOfsJECz2h7O",
        "outputId": "77ac4d5b-39b7-45bb-de8d-a5a2fae7bb3e"
      },
      "execution_count": 13,
      "outputs": [
        {
          "output_type": "execute_result",
          "data": {
            "text/plain": [
              "[['regularly', 'We'],\n",
              " ['regularly', 'don’t'],\n",
              " ['regularly', 'think'],\n",
              " ['regularly', 'about'],\n",
              " ['think', 'don’t'],\n",
              " ['think', 'regularly'],\n",
              " ['think', 'about'],\n",
              " ['think', 'the'],\n",
              " ['about', 'regularly'],\n",
              " ['about', 'think'],\n",
              " ['about', 'the'],\n",
              " ['about', 'intricacies'],\n",
              " ['the', 'think'],\n",
              " ['the', 'about'],\n",
              " ['the', 'intricacies'],\n",
              " ['the', 'of'],\n",
              " ['intricacies', 'about'],\n",
              " ['intricacies', 'the'],\n",
              " ['intricacies', 'of'],\n",
              " ['intricacies', 'our'],\n",
              " ['of', 'the'],\n",
              " ['of', 'intricacies'],\n",
              " ['of', 'our'],\n",
              " ['of', 'own'],\n",
              " ['our', 'intricacies'],\n",
              " ['our', 'of'],\n",
              " ['our', 'own'],\n",
              " ['our', 'languages.'],\n",
              " ['intuitive', 'It’s'],\n",
              " ['intuitive', 'an'],\n",
              " ['intuitive', 'behavior'],\n",
              " ['intuitive', 'used'],\n",
              " ['behavior', 'an'],\n",
              " ['behavior', 'intuitive'],\n",
              " ['behavior', 'used'],\n",
              " ['behavior', 'to'],\n",
              " ['used', 'intuitive'],\n",
              " ['used', 'behavior'],\n",
              " ['used', 'to'],\n",
              " ['used', 'convey'],\n",
              " ['to', 'behavior'],\n",
              " ['to', 'used'],\n",
              " ['to', 'convey'],\n",
              " ['to', 'information'],\n",
              " ['convey', 'used'],\n",
              " ['convey', 'to'],\n",
              " ['convey', 'information'],\n",
              " ['convey', 'and'],\n",
              " ['information', 'to'],\n",
              " ['information', 'convey'],\n",
              " ['information', 'and'],\n",
              " ['information', 'meaning'],\n",
              " ['and', 'convey'],\n",
              " ['and', 'information'],\n",
              " ['and', 'meaning'],\n",
              " ['and', 'with'],\n",
              " ['meaning', 'information'],\n",
              " ['meaning', 'and'],\n",
              " ['meaning', 'with'],\n",
              " ['meaning', 'semantic'],\n",
              " ['with', 'and'],\n",
              " ['with', 'meaning'],\n",
              " ['with', 'semantic'],\n",
              " ['with', 'cues'],\n",
              " ['semantic', 'meaning'],\n",
              " ['semantic', 'with'],\n",
              " ['semantic', 'cues'],\n",
              " ['semantic', 'such'],\n",
              " ['cues', 'with'],\n",
              " ['cues', 'semantic'],\n",
              " ['cues', 'such'],\n",
              " ['cues', 'as'],\n",
              " ['such', 'semantic'],\n",
              " ['such', 'cues'],\n",
              " ['such', 'as'],\n",
              " ['such', 'words,'],\n",
              " ['as', 'cues'],\n",
              " ['as', 'such'],\n",
              " ['as', 'words,'],\n",
              " ['as', 'signs,'],\n",
              " ['words,', 'such'],\n",
              " ['words,', 'as'],\n",
              " ['words,', 'signs,'],\n",
              " ['words,', 'or'],\n",
              " ['signs,', 'as'],\n",
              " ['signs,', 'words,'],\n",
              " ['signs,', 'or'],\n",
              " ['signs,', 'images.'],\n",
              " ['said', 'It’s'],\n",
              " ['said', 'been'],\n",
              " ['said', 'that'],\n",
              " ['said', 'language'],\n",
              " ['that', 'been'],\n",
              " ['that', 'said'],\n",
              " ['that', 'language'],\n",
              " ['that', 'is'],\n",
              " ['language', 'said'],\n",
              " ['language', 'that'],\n",
              " ['language', 'is'],\n",
              " ['language', 'easier'],\n",
              " ['is', 'that'],\n",
              " ['is', 'language'],\n",
              " ['is', 'easier'],\n",
              " ['is', 'to'],\n",
              " ['easier', 'language'],\n",
              " ['easier', 'is'],\n",
              " ['easier', 'to'],\n",
              " ['easier', 'learn'],\n",
              " ['to', 'is'],\n",
              " ['to', 'easier'],\n",
              " ['to', 'learn'],\n",
              " ['to', 'and'],\n",
              " ['learn', 'easier'],\n",
              " ['learn', 'to'],\n",
              " ['learn', 'and'],\n",
              " ['learn', 'comes'],\n",
              " ['and', 'to'],\n",
              " ['and', 'learn'],\n",
              " ['and', 'comes'],\n",
              " ['and', 'more'],\n",
              " ['comes', 'learn'],\n",
              " ['comes', 'and'],\n",
              " ['comes', 'more'],\n",
              " ['comes', 'naturally'],\n",
              " ['more', 'and'],\n",
              " ['more', 'comes'],\n",
              " ['more', 'naturally'],\n",
              " ['more', 'in'],\n",
              " ['naturally', 'comes'],\n",
              " ['naturally', 'more'],\n",
              " ['naturally', 'in'],\n",
              " ['naturally', 'adolescence'],\n",
              " ['in', 'more'],\n",
              " ['in', 'naturally'],\n",
              " ['in', 'adolescence'],\n",
              " ['in', 'because'],\n",
              " ['adolescence', 'naturally'],\n",
              " ['adolescence', 'in'],\n",
              " ['adolescence', 'because'],\n",
              " ['adolescence', 'it’s'],\n",
              " ['because', 'in'],\n",
              " ['because', 'adolescence'],\n",
              " ['because', 'it’s'],\n",
              " ['because', 'a'],\n",
              " ['it’s', 'adolescence'],\n",
              " ['it’s', 'because'],\n",
              " ['it’s', 'a'],\n",
              " ['it’s', 'repeatable,'],\n",
              " ['a', 'because'],\n",
              " ['a', 'it’s'],\n",
              " ['a', 'repeatable,'],\n",
              " ['a', 'trained'],\n",
              " ['repeatable,', 'it’s'],\n",
              " ['repeatable,', 'a'],\n",
              " ['repeatable,', 'trained'],\n",
              " ['repeatable,', 'behavior—much'],\n",
              " ['trained', 'a'],\n",
              " ['trained', 'repeatable,'],\n",
              " ['trained', 'behavior—much'],\n",
              " ['trained', 'like'],\n",
              " ['behavior—much', 'repeatable,'],\n",
              " ['behavior—much', 'trained'],\n",
              " ['behavior—much', 'like'],\n",
              " ['behavior—much', 'walking.'],\n",
              " ['doesn’t', 'And'],\n",
              " ['doesn’t', 'language'],\n",
              " ['doesn’t', 'follow'],\n",
              " ['doesn’t', 'a'],\n",
              " ['follow', 'language'],\n",
              " ['follow', 'doesn’t'],\n",
              " ['follow', 'a'],\n",
              " ['follow', 'strict'],\n",
              " ['a', 'doesn’t'],\n",
              " ['a', 'follow'],\n",
              " ['a', 'strict'],\n",
              " ['a', 'set'],\n",
              " ['strict', 'follow'],\n",
              " ['strict', 'a'],\n",
              " ['strict', 'set'],\n",
              " ['strict', 'of'],\n",
              " ['set', 'a'],\n",
              " ['set', 'strict'],\n",
              " ['set', 'of'],\n",
              " ['set', 'rules,'],\n",
              " ['of', 'strict'],\n",
              " ['of', 'set'],\n",
              " ['of', 'rules,'],\n",
              " ['of', 'with'],\n",
              " ['rules,', 'set'],\n",
              " ['rules,', 'of'],\n",
              " ['rules,', 'with'],\n",
              " ['rules,', 'so'],\n",
              " ['with', 'of'],\n",
              " ['with', 'rules,'],\n",
              " ['with', 'so'],\n",
              " ['with', 'many'],\n",
              " ['so', 'rules,'],\n",
              " ['so', 'with'],\n",
              " ['so', 'many'],\n",
              " ['so', 'exceptions'],\n",
              " ['many', 'with'],\n",
              " ['many', 'so'],\n",
              " ['many', 'exceptions'],\n",
              " ['many', 'like'],\n",
              " ['exceptions', 'so'],\n",
              " ['exceptions', 'many'],\n",
              " ['exceptions', 'like'],\n",
              " ['exceptions', '“I'],\n",
              " ['like', 'many'],\n",
              " ['like', 'exceptions'],\n",
              " ['like', '“I'],\n",
              " ['like', 'before'],\n",
              " ['“I', 'exceptions'],\n",
              " ['“I', 'like'],\n",
              " ['“I', 'before'],\n",
              " ['“I', 'E'],\n",
              " ['before', 'like'],\n",
              " ['before', '“I'],\n",
              " ['before', 'E'],\n",
              " ['before', 'except'],\n",
              " ['E', '“I'],\n",
              " ['E', 'before'],\n",
              " ['E', 'except'],\n",
              " ['E', 'after'],\n",
              " ['except', 'before'],\n",
              " ['except', 'E'],\n",
              " ['except', 'after'],\n",
              " ['except', 'C.”'],\n",
              " ['after', 'E'],\n",
              " ['after', 'except'],\n",
              " ['after', 'C.”'],\n",
              " ['after', ''],\n",
              " ['naturally', 'What'],\n",
              " ['naturally', 'comes'],\n",
              " ['naturally', 'to'],\n",
              " ['naturally', 'humans,'],\n",
              " ['to', 'comes'],\n",
              " ['to', 'naturally'],\n",
              " ['to', 'humans,'],\n",
              " ['to', 'however,'],\n",
              " ['humans,', 'naturally'],\n",
              " ['humans,', 'to'],\n",
              " ['humans,', 'however,'],\n",
              " ['humans,', 'is'],\n",
              " ['however,', 'to'],\n",
              " ['however,', 'humans,'],\n",
              " ['however,', 'is'],\n",
              " ['however,', 'exceedingly'],\n",
              " ['is', 'humans,'],\n",
              " ['is', 'however,'],\n",
              " ['is', 'exceedingly'],\n",
              " ['is', 'difficult'],\n",
              " ['exceedingly', 'however,'],\n",
              " ['exceedingly', 'is'],\n",
              " ['exceedingly', 'difficult'],\n",
              " ['exceedingly', 'for'],\n",
              " ['difficult', 'is'],\n",
              " ['difficult', 'exceedingly'],\n",
              " ['difficult', 'for'],\n",
              " ['difficult', 'computers'],\n",
              " ['for', 'exceedingly'],\n",
              " ['for', 'difficult'],\n",
              " ['for', 'computers'],\n",
              " ['for', 'with'],\n",
              " ['computers', 'difficult'],\n",
              " ['computers', 'for'],\n",
              " ['computers', 'with'],\n",
              " ['computers', 'the'],\n",
              " ['with', 'for'],\n",
              " ['with', 'computers'],\n",
              " ['with', 'the'],\n",
              " ['with', 'amount'],\n",
              " ['the', 'computers'],\n",
              " ['the', 'with'],\n",
              " ['the', 'amount'],\n",
              " ['the', 'of'],\n",
              " ['amount', 'with'],\n",
              " ['amount', 'the'],\n",
              " ['amount', 'of'],\n",
              " ['amount', 'unstructured'],\n",
              " ['of', 'the'],\n",
              " ['of', 'amount'],\n",
              " ['of', 'unstructured'],\n",
              " ['of', 'data,'],\n",
              " ['unstructured', 'amount'],\n",
              " ['unstructured', 'of'],\n",
              " ['unstructured', 'data,'],\n",
              " ['unstructured', 'lack'],\n",
              " ['data,', 'of'],\n",
              " ['data,', 'unstructured'],\n",
              " ['data,', 'lack'],\n",
              " ['data,', 'of'],\n",
              " ['lack', 'unstructured'],\n",
              " ['lack', 'data,'],\n",
              " ['lack', 'of'],\n",
              " ['lack', 'formal'],\n",
              " ['of', 'data,'],\n",
              " ['of', 'lack'],\n",
              " ['of', 'formal'],\n",
              " ['of', 'rules,'],\n",
              " ['formal', 'lack'],\n",
              " ['formal', 'of'],\n",
              " ['formal', 'rules,'],\n",
              " ['formal', 'and'],\n",
              " ['rules,', 'of'],\n",
              " ['rules,', 'formal'],\n",
              " ['rules,', 'and'],\n",
              " ['rules,', 'absence'],\n",
              " ['and', 'formal'],\n",
              " ['and', 'rules,'],\n",
              " ['and', 'absence'],\n",
              " ['and', 'of'],\n",
              " ['absence', 'rules,'],\n",
              " ['absence', 'and'],\n",
              " ['absence', 'of'],\n",
              " ['absence', 'real-world'],\n",
              " ['of', 'and'],\n",
              " ['of', 'absence'],\n",
              " ['of', 'real-world'],\n",
              " ['of', 'context'],\n",
              " ['real-world', 'absence'],\n",
              " ['real-world', 'of'],\n",
              " ['real-world', 'context'],\n",
              " ['real-world', 'or'],\n",
              " ['context', 'of'],\n",
              " ['context', 'real-world'],\n",
              " ['context', 'or'],\n",
              " ['context', 'intent.'],\n",
              " ['machine', 'That’s'],\n",
              " ['machine', 'why'],\n",
              " ['machine', 'learning'],\n",
              " ['machine', 'and'],\n",
              " ['learning', 'why'],\n",
              " ['learning', 'machine'],\n",
              " ['learning', 'and'],\n",
              " ['learning', 'artificial'],\n",
              " ['and', 'machine'],\n",
              " ['and', 'learning'],\n",
              " ['and', 'artificial'],\n",
              " ['and', 'intelligence'],\n",
              " ['artificial', 'learning'],\n",
              " ['artificial', 'and'],\n",
              " ['artificial', 'intelligence'],\n",
              " ['artificial', '(AI)'],\n",
              " ['intelligence', 'and'],\n",
              " ['intelligence', 'artificial'],\n",
              " ['intelligence', '(AI)'],\n",
              " ['intelligence', 'are'],\n",
              " ['(AI)', 'artificial'],\n",
              " ['(AI)', 'intelligence'],\n",
              " ['(AI)', 'are'],\n",
              " ['(AI)', 'gaining'],\n",
              " ['are', 'intelligence'],\n",
              " ['are', '(AI)'],\n",
              " ['are', 'gaining'],\n",
              " ['are', 'attention'],\n",
              " ['gaining', '(AI)'],\n",
              " ['gaining', 'are'],\n",
              " ['gaining', 'attention'],\n",
              " ['gaining', 'and'],\n",
              " ['attention', 'are'],\n",
              " ['attention', 'gaining'],\n",
              " ['attention', 'and'],\n",
              " ['attention', 'momentum,'],\n",
              " ['and', 'gaining'],\n",
              " ['and', 'attention'],\n",
              " ['and', 'momentum,'],\n",
              " ['and', 'with'],\n",
              " ['momentum,', 'attention'],\n",
              " ['momentum,', 'and'],\n",
              " ['momentum,', 'with'],\n",
              " ['momentum,', 'greater'],\n",
              " ['with', 'and'],\n",
              " ['with', 'momentum,'],\n",
              " ['with', 'greater'],\n",
              " ['with', 'human'],\n",
              " ['greater', 'momentum,'],\n",
              " ['greater', 'with'],\n",
              " ['greater', 'human'],\n",
              " ['greater', 'dependency'],\n",
              " ['human', 'with'],\n",
              " ['human', 'greater'],\n",
              " ['human', 'dependency'],\n",
              " ['human', 'on'],\n",
              " ['dependency', 'greater'],\n",
              " ['dependency', 'human'],\n",
              " ['dependency', 'on'],\n",
              " ['dependency', 'computing'],\n",
              " ['on', 'human'],\n",
              " ['on', 'dependency'],\n",
              " ['on', 'computing'],\n",
              " ['on', 'systems'],\n",
              " ['computing', 'dependency'],\n",
              " ['computing', 'on'],\n",
              " ['computing', 'systems'],\n",
              " ['computing', 'to'],\n",
              " ['systems', 'on'],\n",
              " ['systems', 'computing'],\n",
              " ['systems', 'to'],\n",
              " ['systems', 'communicate'],\n",
              " ['to', 'computing'],\n",
              " ['to', 'systems'],\n",
              " ['to', 'communicate'],\n",
              " ['to', 'and'],\n",
              " ['communicate', 'systems'],\n",
              " ['communicate', 'to'],\n",
              " ['communicate', 'and'],\n",
              " ['communicate', 'perform'],\n",
              " ['and', 'to'],\n",
              " ['and', 'communicate'],\n",
              " ['and', 'perform'],\n",
              " ['and', 'tasks.'],\n",
              " ['AI', 'And'],\n",
              " ['AI', 'as'],\n",
              " ['AI', 'and'],\n",
              " ['AI', 'augmented'],\n",
              " ['and', 'as'],\n",
              " ['and', 'AI'],\n",
              " ['and', 'augmented'],\n",
              " ['and', 'analytics'],\n",
              " ['augmented', 'AI'],\n",
              " ['augmented', 'and'],\n",
              " ['augmented', 'analytics'],\n",
              " ['augmented', 'get'],\n",
              " ['analytics', 'and'],\n",
              " ['analytics', 'augmented'],\n",
              " ['analytics', 'get'],\n",
              " ['analytics', 'more'],\n",
              " ['get', 'augmented'],\n",
              " ['get', 'analytics'],\n",
              " ['get', 'more'],\n",
              " ['get', 'sophisticated,'],\n",
              " ['more', 'analytics'],\n",
              " ['more', 'get'],\n",
              " ['more', 'sophisticated,'],\n",
              " ['more', 'so'],\n",
              " ['sophisticated,', 'get'],\n",
              " ['sophisticated,', 'more'],\n",
              " ['sophisticated,', 'so'],\n",
              " ['sophisticated,', 'will'],\n",
              " ['so', 'more'],\n",
              " ['so', 'sophisticated,'],\n",
              " ['so', 'will'],\n",
              " ['so', 'Natural'],\n",
              " ['will', 'sophisticated,'],\n",
              " ['will', 'so'],\n",
              " ['will', 'Natural'],\n",
              " ['will', 'Language'],\n",
              " ['Natural', 'so'],\n",
              " ['Natural', 'will'],\n",
              " ['Natural', 'Language'],\n",
              " ['Natural', 'Processing'],\n",
              " ['Language', 'will'],\n",
              " ['Language', 'Natural'],\n",
              " ['Language', 'Processing'],\n",
              " ['Language', '(NLP).'],\n",
              " ['terms', 'While'],\n",
              " ['terms', 'the'],\n",
              " ['terms', 'AI'],\n",
              " ['terms', 'and'],\n",
              " ['AI', 'the'],\n",
              " ['AI', 'terms'],\n",
              " ['AI', 'and'],\n",
              " ['AI', 'NLP'],\n",
              " ['and', 'terms'],\n",
              " ['and', 'AI'],\n",
              " ['and', 'NLP'],\n",
              " ['and', 'might'],\n",
              " ['NLP', 'AI'],\n",
              " ['NLP', 'and'],\n",
              " ['NLP', 'might'],\n",
              " ['NLP', 'conjure'],\n",
              " ['might', 'and'],\n",
              " ['might', 'NLP'],\n",
              " ['might', 'conjure'],\n",
              " ['might', 'images'],\n",
              " ['conjure', 'NLP'],\n",
              " ['conjure', 'might'],\n",
              " ['conjure', 'images'],\n",
              " ['conjure', 'of'],\n",
              " ['images', 'might'],\n",
              " ['images', 'conjure'],\n",
              " ['images', 'of'],\n",
              " ['images', 'futuristic'],\n",
              " ['of', 'conjure'],\n",
              " ['of', 'images'],\n",
              " ['of', 'futuristic'],\n",
              " ['of', 'robots,'],\n",
              " ['futuristic', 'images'],\n",
              " ['futuristic', 'of'],\n",
              " ['futuristic', 'robots,'],\n",
              " ['futuristic', 'there'],\n",
              " ['robots,', 'of'],\n",
              " ['robots,', 'futuristic'],\n",
              " ['robots,', 'there'],\n",
              " ['robots,', 'are'],\n",
              " ['there', 'futuristic'],\n",
              " ['there', 'robots,'],\n",
              " ['there', 'are'],\n",
              " ['there', 'already'],\n",
              " ['are', 'robots,'],\n",
              " ['are', 'there'],\n",
              " ['are', 'already'],\n",
              " ['are', 'basic'],\n",
              " ['already', 'there'],\n",
              " ['already', 'are'],\n",
              " ['already', 'basic'],\n",
              " ['already', 'examples'],\n",
              " ['basic', 'are'],\n",
              " ['basic', 'already'],\n",
              " ['basic', 'examples'],\n",
              " ['basic', 'of'],\n",
              " ['examples', 'already'],\n",
              " ['examples', 'basic'],\n",
              " ['examples', 'of'],\n",
              " ['examples', 'NLP'],\n",
              " ['of', 'basic'],\n",
              " ['of', 'examples'],\n",
              " ['of', 'NLP'],\n",
              " ['of', 'at'],\n",
              " ['NLP', 'examples'],\n",
              " ['NLP', 'of'],\n",
              " ['NLP', 'at'],\n",
              " ['NLP', 'work'],\n",
              " ['at', 'of'],\n",
              " ['at', 'NLP'],\n",
              " ['at', 'work'],\n",
              " ['at', 'in'],\n",
              " ['work', 'NLP'],\n",
              " ['work', 'at'],\n",
              " ['work', 'in'],\n",
              " ['work', 'our'],\n",
              " ['in', 'at'],\n",
              " ['in', 'work'],\n",
              " ['in', 'our'],\n",
              " ['in', 'daily'],\n",
              " ['our', 'work'],\n",
              " ['our', 'in'],\n",
              " ['our', 'daily'],\n",
              " ['our', 'lives.']]"
            ]
          },
          "metadata": {},
          "execution_count": 13
        }
      ]
    },
    {
      "cell_type": "code",
      "execution_count": 14,
      "metadata": {
        "id": "3GpeL-EV7cx1"
      },
      "outputs": [],
      "source": [
        "def random_batch(batch_size, word_sequence):\n",
        "    \n",
        "    # making skip gram of window size 2\n",
        "    skip_grams = []\n",
        "    \n",
        "    # looping each word sequence\n",
        "    for sent in corpus:\n",
        "        for i in range(window_size, len(sent) - window_size):\n",
        "            target = word2index[sent[i]]\n",
        "            context = [word2index[sent[i - 2]], word2index[sent[i - 1]], word2index[sent[i + 1]], word2index[sent[i + 2]]] # window size 2\n",
        "            for w in context:\n",
        "                skip_grams.append([target, w])\n",
        "    \n",
        "    random_inputs = []\n",
        "    random_labels = []\n",
        "    random_index = np.random.choice(range(len(skip_grams)), batch_size, replace=False) #randomly pick without replacement\n",
        "        \n",
        "    for i in random_index:\n",
        "        random_inputs.append([skip_grams[i][0]])  # target, e.g., 2\n",
        "        random_labels.append([skip_grams[i][1]])  # context word, e.g., 3\n",
        "            \n",
        "    return np.array(random_inputs), np.array(random_labels)"
      ]
    },
    {
      "cell_type": "markdown",
      "metadata": {
        "id": "YAjHEnYnas1e"
      },
      "source": [
        "## Testing the Method"
      ]
    },
    {
      "cell_type": "code",
      "execution_count": 15,
      "metadata": {
        "colab": {
          "base_uri": "https://localhost:8080/"
        },
        "id": "lBd2ve-77ha-",
        "outputId": "cc8e3dc1-295d-4d4f-b9dc-1f6acb60eca4"
      },
      "outputs": [
        {
          "output_type": "stream",
          "name": "stdout",
          "text": [
            "Input:  [[39]\n",
            " [20]]\n",
            "Target:  [[32]\n",
            " [57]]\n"
          ]
        }
      ],
      "source": [
        "# testing the method\n",
        "\n",
        "batch_size = 2 # mini-batch size\n",
        "input_batch, target_batch = random_batch(batch_size, corpus)\n",
        "\n",
        "print(\"Input: \", input_batch)\n",
        "print(\"Target: \", target_batch)"
      ]
    },
    {
      "cell_type": "markdown",
      "metadata": {
        "id": "BMw3CapObHjv"
      },
      "source": [
        "## Modeling"
      ]
    },
    {
      "cell_type": "code",
      "execution_count": 16,
      "metadata": {
        "id": "_zNWR4J76Xkl"
      },
      "outputs": [],
      "source": [
        "class Skipgram(nn.Module):\n",
        "    \n",
        "    def __init__(self, vocab_size, emb_size):\n",
        "        super(Skipgram, self).__init__()\n",
        "        self.embedding_center_word  = nn.Embedding(vocab_size, emb_size)  # it is a lookup table mapping all ids in voc_size, into some vector of size emb_size\n",
        "        self.embedding_outside_word = nn.Embedding(vocab_size, emb_size)\n",
        "    \n",
        "    def forward(self, center_words, outside_words, all_vocabs):\n",
        "        center_word_embed = self.embedding_center_word(center_words)     # (batch_size, 1, emb_size)\n",
        "        outside_word_embed = self.embedding_outside_word(outside_words)   # (batch_size, 1, emb_size)\n",
        "        all_vocabs_embed = self.embedding_outside_word(all_vocabs)     # (batch_size, voc_size, emb_size)\n",
        "        # print(all_embeds.shape)\n",
        "        \n",
        "        # bmm is basically @ or .dot , but across batches (i.e., ignore the batch dimension)\n",
        "        top_term = outside_word_embed.bmm(center_word_embed.transpose(1, 2)).squeeze(2)\n",
        "        # (batch_size, 1, emb_size) @ (batch_size, emb_size, 1) = (batch_size, 1, 1) ===> (batch_size, 1)\n",
        "        \n",
        "        top_term_exp = torch.exp(top_term)  # exp(uo vc)\n",
        "        # (batch_size, 1)\n",
        "        \n",
        "        lower_term = all_vocabs_embed.bmm(center_word_embed.transpose(1, 2)).squeeze(2)\n",
        "         # (batch_size, voc_size, emb_size) @ (batch_size, emb_size, 1) = (batch_size, voc_size, 1) = (batch_size, voc_size)\n",
        "         \n",
        "        lower_term_sum = torch.sum(torch.exp(lower_term), 1) # sum exp(uw vc)\n",
        "        # (batch_size, 1)\n",
        "        \n",
        "        loss_fn = -torch.mean(torch.log(top_term_exp / lower_term_sum))\n",
        "        # (batch_size, 1) / (batch_size, 1) ==mean==> scalar\n",
        "        \n",
        "        return loss_fn"
      ]
    },
    {
      "cell_type": "markdown",
      "metadata": {
        "id": "JxoXN38LbOun"
      },
      "source": [
        "## Training"
      ]
    },
    {
      "cell_type": "code",
      "execution_count": 17,
      "metadata": {
        "id": "3_iY5ATl7B9f"
      },
      "outputs": [],
      "source": [
        "batch_size = 2 # mini-batch size\n",
        "embedding_size = 2 # so that we can later plot\n",
        "model = Skipgram(len(vocab), embedding_size)\n",
        "\n",
        "optimizer = optim.Adam(model.parameters(), lr=0.001)"
      ]
    },
    {
      "cell_type": "code",
      "source": [
        "model"
      ],
      "metadata": {
        "colab": {
          "base_uri": "https://localhost:8080/"
        },
        "id": "nuoF_S2Y4u8I",
        "outputId": "f82d65a0-ee1d-4202-f3f4-ba2b5cf7c085"
      },
      "execution_count": 18,
      "outputs": [
        {
          "output_type": "execute_result",
          "data": {
            "text/plain": [
              "Skipgram(\n",
              "  (embedding_center_word): Embedding(129, 2)\n",
              "  (embedding_outside_word): Embedding(129, 2)\n",
              ")"
            ]
          },
          "metadata": {},
          "execution_count": 18
        }
      ]
    },
    {
      "cell_type": "code",
      "source": [
        "def prepare_sequence(seq, word2index):\n",
        "    idxs = list(map(lambda w: word2index[w] if word2index.get(w) is not None else word2index[\"<UNK>\"], seq))\n",
        "    return torch.LongTensor(idxs)\n",
        "\n",
        "# using for the normalized term in the probability calculation\n",
        "all_vocabs = prepare_sequence(list(vocab), word2index).expand(batch_size, len(vocab))  # [batch_size, voc_size]\n",
        "all_vocabs.shape"
      ],
      "metadata": {
        "colab": {
          "base_uri": "https://localhost:8080/"
        },
        "id": "bCwxVxjr42Eb",
        "outputId": "6d870fe9-567f-4c08-d01c-af554c3d8fc5"
      },
      "execution_count": 19,
      "outputs": [
        {
          "output_type": "execute_result",
          "data": {
            "text/plain": [
              "torch.Size([2, 129])"
            ]
          },
          "metadata": {},
          "execution_count": 19
        }
      ]
    },
    {
      "cell_type": "code",
      "source": [
        "def epoch_time(start_time, end_time):\n",
        "    elapsed_time = end_time - start_time\n",
        "    elapsed_mins = int(elapsed_time / 60)\n",
        "    elapsed_secs = int(elapsed_time - (elapsed_mins * 60))\n",
        "    return elapsed_mins, elapsed_secs"
      ],
      "metadata": {
        "id": "6C7v1zwA5ACY"
      },
      "execution_count": 20,
      "outputs": []
    },
    {
      "cell_type": "code",
      "execution_count": 21,
      "metadata": {
        "colab": {
          "base_uri": "https://localhost:8080/"
        },
        "id": "3nXYJLfKbZWk",
        "outputId": "dac4c72a-c57d-4401-90f1-0d900ea6c894"
      },
      "outputs": [
        {
          "output_type": "stream",
          "name": "stdout",
          "text": [
            "Epoch: 1000 | cost: 4.595192 | time: 0m 0s\n",
            "Epoch: 2000 | cost: 6.984469 | time: 0m 0s\n",
            "Epoch: 3000 | cost: 5.425393 | time: 0m 0s\n",
            "Epoch: 4000 | cost: 4.631976 | time: 0m 0s\n",
            "Epoch: 5000 | cost: 5.213828 | time: 0m 0s\n",
            "Epoch: 6000 | cost: 4.564885 | time: 0m 0s\n",
            "Epoch: 7000 | cost: 4.795971 | time: 0m 0s\n",
            "Epoch: 8000 | cost: 4.682007 | time: 0m 0s\n",
            "Epoch: 9000 | cost: 4.253572 | time: 0m 0s\n",
            "Epoch: 10000 | cost: 5.248953 | time: 0m 0s\n",
            "Total time: 10.296732664108276\n"
          ]
        }
      ],
      "source": [
        "import time\n",
        "\n",
        "init_time = time.time()\n",
        "\n",
        "# Training\n",
        "num_epochs = 10000\n",
        "for epoch in range(num_epochs):\n",
        "    \n",
        "    start = time.time()\n",
        "    \n",
        "    input_batch, target_batch = random_batch(batch_size, corpus)\n",
        "    input_batch  = torch.LongTensor(input_batch)  \n",
        "    target_batch = torch.LongTensor(target_batch) \n",
        "    # print(input_batch.shape)\n",
        "    # print(target_batch.shape)\n",
        "\n",
        "    optimizer.zero_grad()\n",
        "    loss = model(input_batch, target_batch, all_vocabs)\n",
        "    \n",
        "    loss.backward()\n",
        "    optimizer.step()\n",
        "    \n",
        "    end = time.time()\n",
        "    \n",
        "    epoch_mins, epoch_secs = epoch_time(start, end)\n",
        "\n",
        "    if (epoch + 1) % 1000 == 0:\n",
        "        print(f\"Epoch: {epoch + 1} | cost: {loss:.6f} | time: {epoch_mins}m {epoch_secs}s\")\n",
        "\n",
        "total_time = time.time() - init_time\n",
        "print('Total time:', total_time)"
      ]
    },
    {
      "cell_type": "markdown",
      "source": [
        "So, the total time required for Skipgram is around 10.3 seconds."
      ],
      "metadata": {
        "id": "MtjaES8Nzxxl"
      }
    },
    {
      "cell_type": "markdown",
      "metadata": {
        "id": "Wa1ssThKbgiZ"
      },
      "source": [
        "## Plotting the Embeddings"
      ]
    },
    {
      "cell_type": "code",
      "execution_count": 22,
      "metadata": {
        "colab": {
          "base_uri": "https://localhost:8080/"
        },
        "id": "b2F5wlyPbkEs",
        "outputId": "4a511ba7-573b-4285-ced2-51415c784c3a"
      },
      "outputs": [
        {
          "output_type": "execute_result",
          "data": {
            "text/plain": [
              "['',\n",
              " 'greater',\n",
              " 'follow',\n",
              " 'learn',\n",
              " 'attention',\n",
              " 'machine',\n",
              " 'to',\n",
              " 'intricacies',\n",
              " '“I',\n",
              " 'meaning',\n",
              " 'exceptions',\n",
              " 'comes',\n",
              " 'already',\n",
              " 'been',\n",
              " 'in',\n",
              " 'set',\n",
              " 'intelligence',\n",
              " 'images',\n",
              " 'languages.',\n",
              " 'momentum,',\n",
              " 'behavior—much',\n",
              " 'except',\n",
              " 'many',\n",
              " 'for',\n",
              " 'that',\n",
              " 'difficult',\n",
              " 'augmented',\n",
              " 'get',\n",
              " 'lack',\n",
              " 'futuristic',\n",
              " 'at',\n",
              " 'will',\n",
              " 'NLP',\n",
              " 'used',\n",
              " 'C.”',\n",
              " 'think',\n",
              " 'humans,',\n",
              " 'doesn’t',\n",
              " 'analytics',\n",
              " 'of',\n",
              " 'with',\n",
              " 'language',\n",
              " 'our',\n",
              " 'like',\n",
              " 'strict',\n",
              " 'there',\n",
              " 'rules,',\n",
              " 'computing',\n",
              " 'robots,',\n",
              " 'And',\n",
              " 'computers',\n",
              " 'behavior',\n",
              " 'examples',\n",
              " 'perform',\n",
              " 'so',\n",
              " 'words,',\n",
              " 'repeatable,',\n",
              " 'trained',\n",
              " 'artificial',\n",
              " 'easier',\n",
              " 'convey',\n",
              " 'it’s',\n",
              " 'however,',\n",
              " 'more',\n",
              " 'amount',\n",
              " 'daily',\n",
              " 'human',\n",
              " 'walking.',\n",
              " 'an',\n",
              " 'because',\n",
              " 'AI',\n",
              " 'lives.',\n",
              " 'before',\n",
              " '(NLP).',\n",
              " 'intuitive',\n",
              " 'information',\n",
              " 'adolescence',\n",
              " 'as',\n",
              " 'While',\n",
              " 'is',\n",
              " 'don’t',\n",
              " 'basic',\n",
              " 'or',\n",
              " 'tasks.',\n",
              " 'naturally',\n",
              " 'work',\n",
              " 'formal',\n",
              " 'Processing',\n",
              " 'Natural',\n",
              " 'conjure',\n",
              " 'the',\n",
              " 'on',\n",
              " 'dependency',\n",
              " 'communicate',\n",
              " 'It’s',\n",
              " 'context',\n",
              " 'What',\n",
              " 'learning',\n",
              " 'and',\n",
              " 'absence',\n",
              " 'might',\n",
              " 'after',\n",
              " 'said',\n",
              " 'a',\n",
              " 'terms',\n",
              " '(AI)',\n",
              " 'intent.',\n",
              " 'about',\n",
              " 'semantic',\n",
              " 'signs,',\n",
              " 'exceedingly',\n",
              " 'Language',\n",
              " 'sophisticated,',\n",
              " 'images.',\n",
              " 'gaining',\n",
              " 'E',\n",
              " 'We',\n",
              " 'why',\n",
              " 'regularly',\n",
              " 'own',\n",
              " 'That’s',\n",
              " 'unstructured',\n",
              " 'cues',\n",
              " 'are',\n",
              " 'systems',\n",
              " 'real-world',\n",
              " 'data,',\n",
              " 'such',\n",
              " '<UNK>']"
            ]
          },
          "metadata": {},
          "execution_count": 22
        }
      ],
      "source": [
        "vocab"
      ]
    },
    {
      "cell_type": "code",
      "execution_count": 23,
      "metadata": {
        "colab": {
          "base_uri": "https://localhost:8080/"
        },
        "id": "M-9o-FyHbn02",
        "outputId": "11df4e61-37ff-4b11-a4ad-d7ca978c5911"
      },
      "outputs": [
        {
          "output_type": "execute_result",
          "data": {
            "text/plain": [
              "tensor([108])"
            ]
          },
          "metadata": {},
          "execution_count": 23
        }
      ],
      "source": [
        "semantic = torch.LongTensor([word2index['semantic']])\n",
        "semantic"
      ]
    },
    {
      "cell_type": "code",
      "execution_count": 24,
      "metadata": {
        "colab": {
          "base_uri": "https://localhost:8080/"
        },
        "id": "PtwgGNhcbrwN",
        "outputId": "f920c07b-b14f-4bf6-d257-fbcc2fd135d9"
      },
      "outputs": [
        {
          "output_type": "execute_result",
          "data": {
            "text/plain": [
              "tensor([[-0.2274, -0.2632]], grad_fn=<DivBackward0>)"
            ]
          },
          "metadata": {},
          "execution_count": 24
        }
      ],
      "source": [
        "semantic_center_embed = model.embedding_center_word(semantic)\n",
        "semantic_outisde_embed = model.embedding_outside_word(semantic)\n",
        "\n",
        "semantic_embed = (semantic_center_embed + semantic_outisde_embed) / 2\n",
        "semantic_embed"
      ]
    },
    {
      "cell_type": "code",
      "source": [
        "def get_embed(word):\n",
        "    try:\n",
        "        index = word2index[word]\n",
        "    except:\n",
        "        index = word2index['<UNK>']\n",
        "    \n",
        "    word = torch.LongTensor([index])\n",
        "\n",
        "    center_embed  = model.embedding_center_word(word)\n",
        "    outside_embed = model.embedding_outside_word(word)\n",
        "    \n",
        "    embed = (center_embed + outside_embed) / 2\n",
        "    \n",
        "    return  embed[0][0].item(), embed[0][1].item()"
      ],
      "metadata": {
        "id": "pitOezDj8bkB"
      },
      "execution_count": 25,
      "outputs": []
    },
    {
      "cell_type": "code",
      "source": [
        "# finding embedding of humans, images\n",
        "\n",
        "print(get_embed('humans'))\n",
        "print(get_embed('images'))"
      ],
      "metadata": {
        "colab": {
          "base_uri": "https://localhost:8080/"
        },
        "id": "aXlSKpvq8gUq",
        "outputId": "3d44122e-b785-4719-ad64-9e96516f0069"
      },
      "execution_count": 26,
      "outputs": [
        {
          "output_type": "stream",
          "name": "stdout",
          "text": [
            "(0.3606494069099426, -0.31101587414741516)\n",
            "(-0.4918568432331085, -0.41044366359710693)\n"
          ]
        }
      ]
    },
    {
      "cell_type": "code",
      "execution_count": 27,
      "metadata": {
        "colab": {
          "base_uri": "https://localhost:8080/",
          "height": 1000
        },
        "id": "lIQT0R8fb20r",
        "outputId": "614f0990-ef1b-4c9c-89ec-511a0ec1d4a7"
      },
      "outputs": [
        {
          "output_type": "display_data",
          "data": {
            "text/plain": [
              "<Figure size 1800x1440 with 1 Axes>"
            ],
            "image/png": "[encoded data removed]"
          },
          "metadata": {
            "needs_background": "light"
          }
        }
      ],
      "source": [
        "# plotting the words \n",
        "\n",
        "plt.figure(figsize=(25,20))\n",
        "for i, word in enumerate(vocab): # looping each unique vocab\n",
        "    x, y = get_embed(word)\n",
        "    plt.scatter(x, y)\n",
        "    plt.annotate(word, xy=(x, y), xytext=(5, 2), textcoords='offset points')\n",
        "plt.show()"
      ]
    },
    {
      "cell_type": "markdown",
      "source": [
        "# Continuous Bag-of-Words (CBOW)"
      ],
      "metadata": {
        "id": "i9iVF4dsN0Xl"
      }
    },
    {
      "cell_type": "code",
      "source": [
        "vocab"
      ],
      "metadata": {
        "colab": {
          "base_uri": "https://localhost:8080/"
        },
        "id": "Wg3P2Tj7N7st",
        "outputId": "b3953215-a723-448a-90bf-18a1d118ee17"
      },
      "execution_count": 28,
      "outputs": [
        {
          "output_type": "execute_result",
          "data": {
            "text/plain": [
              "['',\n",
              " 'greater',\n",
              " 'follow',\n",
              " 'learn',\n",
              " 'attention',\n",
              " 'machine',\n",
              " 'to',\n",
              " 'intricacies',\n",
              " '“I',\n",
              " 'meaning',\n",
              " 'exceptions',\n",
              " 'comes',\n",
              " 'already',\n",
              " 'been',\n",
              " 'in',\n",
              " 'set',\n",
              " 'intelligence',\n",
              " 'images',\n",
              " 'languages.',\n",
              " 'momentum,',\n",
              " 'behavior—much',\n",
              " 'except',\n",
              " 'many',\n",
              " 'for',\n",
              " 'that',\n",
              " 'difficult',\n",
              " 'augmented',\n",
              " 'get',\n",
              " 'lack',\n",
              " 'futuristic',\n",
              " 'at',\n",
              " 'will',\n",
              " 'NLP',\n",
              " 'used',\n",
              " 'C.”',\n",
              " 'think',\n",
              " 'humans,',\n",
              " 'doesn’t',\n",
              " 'analytics',\n",
              " 'of',\n",
              " 'with',\n",
              " 'language',\n",
              " 'our',\n",
              " 'like',\n",
              " 'strict',\n",
              " 'there',\n",
              " 'rules,',\n",
              " 'computing',\n",
              " 'robots,',\n",
              " 'And',\n",
              " 'computers',\n",
              " 'behavior',\n",
              " 'examples',\n",
              " 'perform',\n",
              " 'so',\n",
              " 'words,',\n",
              " 'repeatable,',\n",
              " 'trained',\n",
              " 'artificial',\n",
              " 'easier',\n",
              " 'convey',\n",
              " 'it’s',\n",
              " 'however,',\n",
              " 'more',\n",
              " 'amount',\n",
              " 'daily',\n",
              " 'human',\n",
              " 'walking.',\n",
              " 'an',\n",
              " 'because',\n",
              " 'AI',\n",
              " 'lives.',\n",
              " 'before',\n",
              " '(NLP).',\n",
              " 'intuitive',\n",
              " 'information',\n",
              " 'adolescence',\n",
              " 'as',\n",
              " 'While',\n",
              " 'is',\n",
              " 'don’t',\n",
              " 'basic',\n",
              " 'or',\n",
              " 'tasks.',\n",
              " 'naturally',\n",
              " 'work',\n",
              " 'formal',\n",
              " 'Processing',\n",
              " 'Natural',\n",
              " 'conjure',\n",
              " 'the',\n",
              " 'on',\n",
              " 'dependency',\n",
              " 'communicate',\n",
              " 'It’s',\n",
              " 'context',\n",
              " 'What',\n",
              " 'learning',\n",
              " 'and',\n",
              " 'absence',\n",
              " 'might',\n",
              " 'after',\n",
              " 'said',\n",
              " 'a',\n",
              " 'terms',\n",
              " '(AI)',\n",
              " 'intent.',\n",
              " 'about',\n",
              " 'semantic',\n",
              " 'signs,',\n",
              " 'exceedingly',\n",
              " 'Language',\n",
              " 'sophisticated,',\n",
              " 'images.',\n",
              " 'gaining',\n",
              " 'E',\n",
              " 'We',\n",
              " 'why',\n",
              " 'regularly',\n",
              " 'own',\n",
              " 'That’s',\n",
              " 'unstructured',\n",
              " 'cues',\n",
              " 'are',\n",
              " 'systems',\n",
              " 'real-world',\n",
              " 'data,',\n",
              " 'such',\n",
              " '<UNK>']"
            ]
          },
          "metadata": {},
          "execution_count": 28
        }
      ]
    },
    {
      "cell_type": "code",
      "source": [
        "# vocab size\n",
        "\n",
        "voc_size = len(vocab)\n",
        "print(voc_size)"
      ],
      "metadata": {
        "colab": {
          "base_uri": "https://localhost:8080/"
        },
        "id": "NS9YqwMzORhL",
        "outputId": "f4f5adf1-ca88-414b-d80c-d63034614384"
      },
      "execution_count": 29,
      "outputs": [
        {
          "output_type": "stream",
          "name": "stdout",
          "text": [
            "129\n"
          ]
        }
      ]
    },
    {
      "cell_type": "markdown",
      "source": [
        "## Preparing Train Data"
      ],
      "metadata": {
        "id": "av_U9fLnOgWV"
      }
    },
    {
      "cell_type": "code",
      "source": [
        "for c in corpus:\n",
        "    print(c)"
      ],
      "metadata": {
        "colab": {
          "base_uri": "https://localhost:8080/"
        },
        "id": "GCs24goaOUfw",
        "outputId": "80dc79be-7fd4-4994-8ad5-587caa260ac6"
      },
      "execution_count": 30,
      "outputs": [
        {
          "output_type": "stream",
          "name": "stdout",
          "text": [
            "['We', 'don’t', 'regularly', 'think', 'about', 'the', 'intricacies', 'of', 'our', 'own', 'languages.']\n",
            "['It’s', 'an', 'intuitive', 'behavior', 'used', 'to', 'convey', 'information', 'and', 'meaning', 'with', 'semantic', 'cues', 'such', 'as', 'words,', 'signs,', 'or', 'images.']\n",
            "['It’s', 'been', 'said', 'that', 'language', 'is', 'easier', 'to', 'learn', 'and', 'comes', 'more', 'naturally', 'in', 'adolescence', 'because', 'it’s', 'a', 'repeatable,', 'trained', 'behavior—much', 'like', 'walking.']\n",
            "['And', 'language', 'doesn’t', 'follow', 'a', 'strict', 'set', 'of', 'rules,', 'with', 'so', 'many', 'exceptions', 'like', '“I', 'before', 'E', 'except', 'after', 'C.”', '']\n",
            "['What', 'comes', 'naturally', 'to', 'humans,', 'however,', 'is', 'exceedingly', 'difficult', 'for', 'computers', 'with', 'the', 'amount', 'of', 'unstructured', 'data,', 'lack', 'of', 'formal', 'rules,', 'and', 'absence', 'of', 'real-world', 'context', 'or', 'intent.']\n",
            "['That’s', 'why', 'machine', 'learning', 'and', 'artificial', 'intelligence', '(AI)', 'are', 'gaining', 'attention', 'and', 'momentum,', 'with', 'greater', 'human', 'dependency', 'on', 'computing', 'systems', 'to', 'communicate', 'and', 'perform', 'tasks.']\n",
            "['And', 'as', 'AI', 'and', 'augmented', 'analytics', 'get', 'more', 'sophisticated,', 'so', 'will', 'Natural', 'Language', 'Processing', '(NLP).']\n",
            "['While', 'the', 'terms', 'AI', 'and', 'NLP', 'might', 'conjure', 'images', 'of', 'futuristic', 'robots,', 'there', 'are', 'already', 'basic', 'examples', 'of', 'NLP', 'at', 'work', 'in', 'our', 'daily', 'lives.']\n"
          ]
        }
      ]
    },
    {
      "cell_type": "code",
      "source": [
        "cbows = []\n",
        "\n",
        "# for each corpus\n",
        "window_size = 2\n",
        "for sent in corpus:\n",
        "    for i in range(window_size, len(sent) - window_size): \n",
        "        # center_word = sent[i]\n",
        "        outside_words = [sent[i-2], sent[i-1], sent[i+1], sent[i+2]]  #window_size = 2\n",
        "        center_word = sent[i]\n",
        "        cbows.append([outside_words, center_word])\n",
        "\n",
        "cbows"
      ],
      "metadata": {
        "colab": {
          "base_uri": "https://localhost:8080/"
        },
        "id": "Q_g0I7qWOkQi",
        "outputId": "20892023-972c-4fd7-dccd-a18c6c77fe28"
      },
      "execution_count": 31,
      "outputs": [
        {
          "output_type": "execute_result",
          "data": {
            "text/plain": [
              "[[['We', 'don’t', 'think', 'about'], 'regularly'],\n",
              " [['don’t', 'regularly', 'about', 'the'], 'think'],\n",
              " [['regularly', 'think', 'the', 'intricacies'], 'about'],\n",
              " [['think', 'about', 'intricacies', 'of'], 'the'],\n",
              " [['about', 'the', 'of', 'our'], 'intricacies'],\n",
              " [['the', 'intricacies', 'our', 'own'], 'of'],\n",
              " [['intricacies', 'of', 'own', 'languages.'], 'our'],\n",
              " [['It’s', 'an', 'behavior', 'used'], 'intuitive'],\n",
              " [['an', 'intuitive', 'used', 'to'], 'behavior'],\n",
              " [['intuitive', 'behavior', 'to', 'convey'], 'used'],\n",
              " [['behavior', 'used', 'convey', 'information'], 'to'],\n",
              " [['used', 'to', 'information', 'and'], 'convey'],\n",
              " [['to', 'convey', 'and', 'meaning'], 'information'],\n",
              " [['convey', 'information', 'meaning', 'with'], 'and'],\n",
              " [['information', 'and', 'with', 'semantic'], 'meaning'],\n",
              " [['and', 'meaning', 'semantic', 'cues'], 'with'],\n",
              " [['meaning', 'with', 'cues', 'such'], 'semantic'],\n",
              " [['with', 'semantic', 'such', 'as'], 'cues'],\n",
              " [['semantic', 'cues', 'as', 'words,'], 'such'],\n",
              " [['cues', 'such', 'words,', 'signs,'], 'as'],\n",
              " [['such', 'as', 'signs,', 'or'], 'words,'],\n",
              " [['as', 'words,', 'or', 'images.'], 'signs,'],\n",
              " [['It’s', 'been', 'that', 'language'], 'said'],\n",
              " [['been', 'said', 'language', 'is'], 'that'],\n",
              " [['said', 'that', 'is', 'easier'], 'language'],\n",
              " [['that', 'language', 'easier', 'to'], 'is'],\n",
              " [['language', 'is', 'to', 'learn'], 'easier'],\n",
              " [['is', 'easier', 'learn', 'and'], 'to'],\n",
              " [['easier', 'to', 'and', 'comes'], 'learn'],\n",
              " [['to', 'learn', 'comes', 'more'], 'and'],\n",
              " [['learn', 'and', 'more', 'naturally'], 'comes'],\n",
              " [['and', 'comes', 'naturally', 'in'], 'more'],\n",
              " [['comes', 'more', 'in', 'adolescence'], 'naturally'],\n",
              " [['more', 'naturally', 'adolescence', 'because'], 'in'],\n",
              " [['naturally', 'in', 'because', 'it’s'], 'adolescence'],\n",
              " [['in', 'adolescence', 'it’s', 'a'], 'because'],\n",
              " [['adolescence', 'because', 'a', 'repeatable,'], 'it’s'],\n",
              " [['because', 'it’s', 'repeatable,', 'trained'], 'a'],\n",
              " [['it’s', 'a', 'trained', 'behavior—much'], 'repeatable,'],\n",
              " [['a', 'repeatable,', 'behavior—much', 'like'], 'trained'],\n",
              " [['repeatable,', 'trained', 'like', 'walking.'], 'behavior—much'],\n",
              " [['And', 'language', 'follow', 'a'], 'doesn’t'],\n",
              " [['language', 'doesn’t', 'a', 'strict'], 'follow'],\n",
              " [['doesn’t', 'follow', 'strict', 'set'], 'a'],\n",
              " [['follow', 'a', 'set', 'of'], 'strict'],\n",
              " [['a', 'strict', 'of', 'rules,'], 'set'],\n",
              " [['strict', 'set', 'rules,', 'with'], 'of'],\n",
              " [['set', 'of', 'with', 'so'], 'rules,'],\n",
              " [['of', 'rules,', 'so', 'many'], 'with'],\n",
              " [['rules,', 'with', 'many', 'exceptions'], 'so'],\n",
              " [['with', 'so', 'exceptions', 'like'], 'many'],\n",
              " [['so', 'many', 'like', '“I'], 'exceptions'],\n",
              " [['many', 'exceptions', '“I', 'before'], 'like'],\n",
              " [['exceptions', 'like', 'before', 'E'], '“I'],\n",
              " [['like', '“I', 'E', 'except'], 'before'],\n",
              " [['“I', 'before', 'except', 'after'], 'E'],\n",
              " [['before', 'E', 'after', 'C.”'], 'except'],\n",
              " [['E', 'except', 'C.”', ''], 'after'],\n",
              " [['What', 'comes', 'to', 'humans,'], 'naturally'],\n",
              " [['comes', 'naturally', 'humans,', 'however,'], 'to'],\n",
              " [['naturally', 'to', 'however,', 'is'], 'humans,'],\n",
              " [['to', 'humans,', 'is', 'exceedingly'], 'however,'],\n",
              " [['humans,', 'however,', 'exceedingly', 'difficult'], 'is'],\n",
              " [['however,', 'is', 'difficult', 'for'], 'exceedingly'],\n",
              " [['is', 'exceedingly', 'for', 'computers'], 'difficult'],\n",
              " [['exceedingly', 'difficult', 'computers', 'with'], 'for'],\n",
              " [['difficult', 'for', 'with', 'the'], 'computers'],\n",
              " [['for', 'computers', 'the', 'amount'], 'with'],\n",
              " [['computers', 'with', 'amount', 'of'], 'the'],\n",
              " [['with', 'the', 'of', 'unstructured'], 'amount'],\n",
              " [['the', 'amount', 'unstructured', 'data,'], 'of'],\n",
              " [['amount', 'of', 'data,', 'lack'], 'unstructured'],\n",
              " [['of', 'unstructured', 'lack', 'of'], 'data,'],\n",
              " [['unstructured', 'data,', 'of', 'formal'], 'lack'],\n",
              " [['data,', 'lack', 'formal', 'rules,'], 'of'],\n",
              " [['lack', 'of', 'rules,', 'and'], 'formal'],\n",
              " [['of', 'formal', 'and', 'absence'], 'rules,'],\n",
              " [['formal', 'rules,', 'absence', 'of'], 'and'],\n",
              " [['rules,', 'and', 'of', 'real-world'], 'absence'],\n",
              " [['and', 'absence', 'real-world', 'context'], 'of'],\n",
              " [['absence', 'of', 'context', 'or'], 'real-world'],\n",
              " [['of', 'real-world', 'or', 'intent.'], 'context'],\n",
              " [['That’s', 'why', 'learning', 'and'], 'machine'],\n",
              " [['why', 'machine', 'and', 'artificial'], 'learning'],\n",
              " [['machine', 'learning', 'artificial', 'intelligence'], 'and'],\n",
              " [['learning', 'and', 'intelligence', '(AI)'], 'artificial'],\n",
              " [['and', 'artificial', '(AI)', 'are'], 'intelligence'],\n",
              " [['artificial', 'intelligence', 'are', 'gaining'], '(AI)'],\n",
              " [['intelligence', '(AI)', 'gaining', 'attention'], 'are'],\n",
              " [['(AI)', 'are', 'attention', 'and'], 'gaining'],\n",
              " [['are', 'gaining', 'and', 'momentum,'], 'attention'],\n",
              " [['gaining', 'attention', 'momentum,', 'with'], 'and'],\n",
              " [['attention', 'and', 'with', 'greater'], 'momentum,'],\n",
              " [['and', 'momentum,', 'greater', 'human'], 'with'],\n",
              " [['momentum,', 'with', 'human', 'dependency'], 'greater'],\n",
              " [['with', 'greater', 'dependency', 'on'], 'human'],\n",
              " [['greater', 'human', 'on', 'computing'], 'dependency'],\n",
              " [['human', 'dependency', 'computing', 'systems'], 'on'],\n",
              " [['dependency', 'on', 'systems', 'to'], 'computing'],\n",
              " [['on', 'computing', 'to', 'communicate'], 'systems'],\n",
              " [['computing', 'systems', 'communicate', 'and'], 'to'],\n",
              " [['systems', 'to', 'and', 'perform'], 'communicate'],\n",
              " [['to', 'communicate', 'perform', 'tasks.'], 'and'],\n",
              " [['And', 'as', 'and', 'augmented'], 'AI'],\n",
              " [['as', 'AI', 'augmented', 'analytics'], 'and'],\n",
              " [['AI', 'and', 'analytics', 'get'], 'augmented'],\n",
              " [['and', 'augmented', 'get', 'more'], 'analytics'],\n",
              " [['augmented', 'analytics', 'more', 'sophisticated,'], 'get'],\n",
              " [['analytics', 'get', 'sophisticated,', 'so'], 'more'],\n",
              " [['get', 'more', 'so', 'will'], 'sophisticated,'],\n",
              " [['more', 'sophisticated,', 'will', 'Natural'], 'so'],\n",
              " [['sophisticated,', 'so', 'Natural', 'Language'], 'will'],\n",
              " [['so', 'will', 'Language', 'Processing'], 'Natural'],\n",
              " [['will', 'Natural', 'Processing', '(NLP).'], 'Language'],\n",
              " [['While', 'the', 'AI', 'and'], 'terms'],\n",
              " [['the', 'terms', 'and', 'NLP'], 'AI'],\n",
              " [['terms', 'AI', 'NLP', 'might'], 'and'],\n",
              " [['AI', 'and', 'might', 'conjure'], 'NLP'],\n",
              " [['and', 'NLP', 'conjure', 'images'], 'might'],\n",
              " [['NLP', 'might', 'images', 'of'], 'conjure'],\n",
              " [['might', 'conjure', 'of', 'futuristic'], 'images'],\n",
              " [['conjure', 'images', 'futuristic', 'robots,'], 'of'],\n",
              " [['images', 'of', 'robots,', 'there'], 'futuristic'],\n",
              " [['of', 'futuristic', 'there', 'are'], 'robots,'],\n",
              " [['futuristic', 'robots,', 'are', 'already'], 'there'],\n",
              " [['robots,', 'there', 'already', 'basic'], 'are'],\n",
              " [['there', 'are', 'basic', 'examples'], 'already'],\n",
              " [['are', 'already', 'examples', 'of'], 'basic'],\n",
              " [['already', 'basic', 'of', 'NLP'], 'examples'],\n",
              " [['basic', 'examples', 'NLP', 'at'], 'of'],\n",
              " [['examples', 'of', 'at', 'work'], 'NLP'],\n",
              " [['of', 'NLP', 'work', 'in'], 'at'],\n",
              " [['NLP', 'at', 'in', 'our'], 'work'],\n",
              " [['at', 'work', 'our', 'daily'], 'in'],\n",
              " [['work', 'in', 'daily', 'lives.'], 'our']]"
            ]
          },
          "metadata": {},
          "execution_count": 31
        }
      ]
    },
    {
      "cell_type": "markdown",
      "source": [
        "## Modeling"
      ],
      "metadata": {
        "id": "EtLWxZMgPsKM"
      }
    },
    {
      "cell_type": "code",
      "source": [
        "def make_context_vector(outside_words, word2index):\n",
        "    idxs = [word2index[w] for w in outside_words]\n",
        "    return torch.tensor(idxs, dtype=torch.long)"
      ],
      "metadata": {
        "id": "vNlO1A_xOkKT"
      },
      "execution_count": 32,
      "outputs": []
    },
    {
      "cell_type": "code",
      "source": [
        "class CBOW(torch.nn.Module):\n",
        "    def __init__(self, vocab_size, embedding_size):\n",
        "        super(CBOW, self).__init__()\n",
        "\n",
        "        self.embedding = nn.Embedding(vocab_size, embedding_size)\n",
        "        self.linear = nn.Linear(embedding_size, vocab_size)\n",
        "        self.act_func = nn.LogSoftmax(dim = -1)\n",
        "        \n",
        "    def forward(self, inputs):\n",
        "        embeds = sum(self.embedding(inputs)).view(1,-1)\n",
        "        out = self.linear(embeds)\n",
        "        out = self.act_func(out)\n",
        "        return out\n",
        "\n",
        "    def get_word_emdedding(self, word):\n",
        "        word = torch.tensor([word2index[word]])\n",
        "        return self.embedding(word).view(1,-1)"
      ],
      "metadata": {
        "id": "D-nwsB5hQ4Gx"
      },
      "execution_count": 34,
      "outputs": []
    },
    {
      "cell_type": "markdown",
      "source": [
        "## Training"
      ],
      "metadata": {
        "id": "j-OWQtuFRx7G"
      }
    },
    {
      "cell_type": "code",
      "source": [
        "embedding_size = 2\n",
        "\n",
        "model = CBOW(voc_size, embedding_size)"
      ],
      "metadata": {
        "id": "fdRHhsBYRz8A"
      },
      "execution_count": 35,
      "outputs": []
    },
    {
      "cell_type": "code",
      "source": [
        "model"
      ],
      "metadata": {
        "colab": {
          "base_uri": "https://localhost:8080/"
        },
        "id": "TMLeT9CWSXq9",
        "outputId": "ec97b18d-f6b4-42ec-a04c-ca5806c115ad"
      },
      "execution_count": 36,
      "outputs": [
        {
          "output_type": "execute_result",
          "data": {
            "text/plain": [
              "CBOW(\n",
              "  (embedding): Embedding(129, 2)\n",
              "  (linear): Linear(in_features=2, out_features=129, bias=True)\n",
              "  (act_func): LogSoftmax(dim=-1)\n",
              ")"
            ]
          },
          "metadata": {},
          "execution_count": 36
        }
      ]
    },
    {
      "cell_type": "code",
      "source": [
        "loss_function = nn.NLLLoss()\n",
        "optimizer = torch.optim.SGD(model.parameters(), lr=0.001)"
      ],
      "metadata": {
        "id": "vrJslJa-SiWc"
      },
      "execution_count": 37,
      "outputs": []
    },
    {
      "cell_type": "code",
      "source": [
        "init_time = time.time()\n",
        "\n",
        "# training\n",
        "num_epochs = 10000\n",
        "\n",
        "for epoch in range(num_epochs):\n",
        "\n",
        "    start = time.time()\n",
        "    loss = 0\n",
        "\n",
        "    for context, target in cbows:\n",
        "        context_vector = make_context_vector(context, word2index)\n",
        "        log_probs = model(context_vector)\n",
        "        loss += loss_function(log_probs, torch.tensor([word2index[target]]))\n",
        "\n",
        "    # optimizing at the end of each epoch\n",
        "    optimizer.zero_grad()\n",
        "\n",
        "    end = time.time()    \n",
        "    epoch_mins, epoch_secs = epoch_time(start, end)\n",
        "\n",
        "    loss.backward()\n",
        "    optimizer.step()\n",
        "    \n",
        "    # print(f\"epoch: {epoch}, loss: {loss}\")\n",
        "    if (epoch + 1) % 1000 == 0:\n",
        "        print(f\"Epoch: {epoch + 1} | cost: {loss:.6f} | time: {epoch_mins}m {epoch_secs}s\")\n",
        "\n",
        "total_time = time.time() - init_time\n",
        "print('Total time:', total_time)"
      ],
      "metadata": {
        "colab": {
          "base_uri": "https://localhost:8080/"
        },
        "id": "jzGyrxzCSv_Q",
        "outputId": "708a4767-a51d-4310-f7fb-915c8e65bd27"
      },
      "execution_count": 38,
      "outputs": [
        {
          "output_type": "stream",
          "name": "stdout",
          "text": [
            "Epoch: 1000 | cost: 406.286072 | time: 0m 0s\n",
            "Epoch: 2000 | cost: 337.687653 | time: 0m 0s\n",
            "Epoch: 3000 | cost: 298.310547 | time: 0m 0s\n",
            "Epoch: 4000 | cost: 270.150635 | time: 0m 0s\n",
            "Epoch: 5000 | cost: 247.900101 | time: 0m 0s\n",
            "Epoch: 6000 | cost: 229.641876 | time: 0m 0s\n",
            "Epoch: 7000 | cost: 214.312408 | time: 0m 0s\n",
            "Epoch: 8000 | cost: 201.206985 | time: 0m 0s\n",
            "Epoch: 9000 | cost: 189.840286 | time: 0m 0s\n",
            "Epoch: 10000 | cost: 179.841904 | time: 0m 0s\n",
            "Total time: 298.17624974250793\n"
          ]
        }
      ]
    },
    {
      "cell_type": "markdown",
      "source": [
        "We can observe that, the CBOW model took much time comparing with Skipgram model. However, CBOW is of less importance than Skipgram in NLP related applications."
      ],
      "metadata": {
        "id": "PXd7IY7O3iGr"
      }
    },
    {
      "cell_type": "markdown",
      "metadata": {
        "id": "EKmGj5sa3Rzw"
      },
      "source": [
        "# Negative Sampling"
      ]
    },
    {
      "cell_type": "markdown",
      "source": [
        "## Unigram Distribution"
      ],
      "metadata": {
        "id": "SPnP32HU9T2O"
      }
    },
    {
      "cell_type": "code",
      "execution_count": 39,
      "metadata": {
        "id": "VmCxwHrXcdwB"
      },
      "outputs": [],
      "source": [
        "Z = 0.001\n",
        "\n",
        "from collections import Counter\n",
        "\n",
        "word_count = Counter(flatten(corpus))\n",
        "num_total_words = sum([c for w, c in word_count.items()])"
      ]
    },
    {
      "cell_type": "code",
      "source": [
        "word_count['language']"
      ],
      "metadata": {
        "colab": {
          "base_uri": "https://localhost:8080/"
        },
        "id": "b1efF74NEYkW",
        "outputId": "107e03fd-7f13-478b-f6ca-564d62e76b68"
      },
      "execution_count": 40,
      "outputs": [
        {
          "output_type": "execute_result",
          "data": {
            "text/plain": [
              "2"
            ]
          },
          "metadata": {},
          "execution_count": 40
        }
      ]
    },
    {
      "cell_type": "code",
      "source": [
        "num_total_words "
      ],
      "metadata": {
        "colab": {
          "base_uri": "https://localhost:8080/"
        },
        "id": "E_6DJ6s9EhU2",
        "outputId": "bd41e995-32b5-40ee-ea1c-228e8e192229"
      },
      "execution_count": 41,
      "outputs": [
        {
          "output_type": "execute_result",
          "data": {
            "text/plain": [
              "167"
            ]
          },
          "metadata": {},
          "execution_count": 41
        }
      ]
    },
    {
      "cell_type": "code",
      "source": [
        "unigram_table = []\n",
        "\n",
        "for vo in vocab:\n",
        "    unigram_table.extend([vo] * int(((word_count[vo]/num_total_words)**0.75)/Z))"
      ],
      "metadata": {
        "id": "Z3r8v8v0Ehfg"
      },
      "execution_count": 42,
      "outputs": []
    },
    {
      "cell_type": "code",
      "source": [
        "Counter(unigram_table)"
      ],
      "metadata": {
        "colab": {
          "base_uri": "https://localhost:8080/"
        },
        "id": "7-ioVeOZE3kE",
        "outputId": "91a8477e-c4af-4393-ceda-b2f5a538a484"
      },
      "execution_count": 43,
      "outputs": [
        {
          "output_type": "execute_result",
          "data": {
            "text/plain": [
              "Counter({'': 21,\n",
              "         'greater': 21,\n",
              "         'follow': 21,\n",
              "         'learn': 21,\n",
              "         'attention': 21,\n",
              "         'machine': 21,\n",
              "         'to': 60,\n",
              "         'intricacies': 21,\n",
              "         '“I': 21,\n",
              "         'meaning': 21,\n",
              "         'exceptions': 21,\n",
              "         'comes': 36,\n",
              "         'already': 21,\n",
              "         'been': 21,\n",
              "         'in': 36,\n",
              "         'set': 21,\n",
              "         'intelligence': 21,\n",
              "         'images': 21,\n",
              "         'languages.': 21,\n",
              "         'momentum,': 21,\n",
              "         'behavior—much': 21,\n",
              "         'except': 21,\n",
              "         'many': 21,\n",
              "         'for': 21,\n",
              "         'that': 21,\n",
              "         'difficult': 21,\n",
              "         'augmented': 21,\n",
              "         'get': 21,\n",
              "         'lack': 21,\n",
              "         'futuristic': 21,\n",
              "         'at': 21,\n",
              "         'will': 21,\n",
              "         'NLP': 36,\n",
              "         'used': 21,\n",
              "         'C.”': 21,\n",
              "         'think': 21,\n",
              "         'humans,': 21,\n",
              "         'doesn’t': 21,\n",
              "         'analytics': 21,\n",
              "         'of': 92,\n",
              "         'with': 60,\n",
              "         'language': 36,\n",
              "         'our': 36,\n",
              "         'like': 36,\n",
              "         'strict': 21,\n",
              "         'there': 21,\n",
              "         'rules,': 36,\n",
              "         'computing': 21,\n",
              "         'robots,': 21,\n",
              "         'And': 36,\n",
              "         'computers': 21,\n",
              "         'behavior': 21,\n",
              "         'examples': 21,\n",
              "         'perform': 21,\n",
              "         'so': 36,\n",
              "         'words,': 21,\n",
              "         'repeatable,': 21,\n",
              "         'trained': 21,\n",
              "         'artificial': 21,\n",
              "         'easier': 21,\n",
              "         'convey': 21,\n",
              "         'it’s': 21,\n",
              "         'however,': 21,\n",
              "         'more': 36,\n",
              "         'amount': 21,\n",
              "         'daily': 21,\n",
              "         'human': 21,\n",
              "         'walking.': 21,\n",
              "         'an': 21,\n",
              "         'because': 21,\n",
              "         'AI': 36,\n",
              "         'lives.': 21,\n",
              "         'before': 21,\n",
              "         '(NLP).': 21,\n",
              "         'intuitive': 21,\n",
              "         'information': 21,\n",
              "         'adolescence': 21,\n",
              "         'as': 36,\n",
              "         'While': 21,\n",
              "         'is': 36,\n",
              "         'don’t': 21,\n",
              "         'basic': 21,\n",
              "         'or': 36,\n",
              "         'tasks.': 21,\n",
              "         'naturally': 36,\n",
              "         'work': 21,\n",
              "         'formal': 21,\n",
              "         'Processing': 21,\n",
              "         'Natural': 21,\n",
              "         'conjure': 21,\n",
              "         'the': 49,\n",
              "         'on': 21,\n",
              "         'dependency': 21,\n",
              "         'communicate': 21,\n",
              "         'It’s': 36,\n",
              "         'context': 21,\n",
              "         'What': 21,\n",
              "         'learning': 21,\n",
              "         'and': 102,\n",
              "         'absence': 21,\n",
              "         'might': 21,\n",
              "         'after': 21,\n",
              "         'said': 21,\n",
              "         'a': 36,\n",
              "         'terms': 21,\n",
              "         '(AI)': 21,\n",
              "         'intent.': 21,\n",
              "         'about': 21,\n",
              "         'semantic': 21,\n",
              "         'signs,': 21,\n",
              "         'exceedingly': 21,\n",
              "         'Language': 21,\n",
              "         'sophisticated,': 21,\n",
              "         'images.': 21,\n",
              "         'gaining': 21,\n",
              "         'E': 21,\n",
              "         'We': 21,\n",
              "         'why': 21,\n",
              "         'regularly': 21,\n",
              "         'own': 21,\n",
              "         'That’s': 21,\n",
              "         'unstructured': 21,\n",
              "         'cues': 21,\n",
              "         'are': 36,\n",
              "         'systems': 21,\n",
              "         'real-world': 21,\n",
              "         'data,': 21,\n",
              "         'such': 21})"
            ]
          },
          "metadata": {},
          "execution_count": 43
        }
      ]
    },
    {
      "cell_type": "markdown",
      "source": [
        "## Negative Sampling"
      ],
      "metadata": {
        "id": "uvGMsNWkFGyL"
      }
    },
    {
      "cell_type": "code",
      "source": [
        "import random\n",
        "\n",
        "def prepare_sequence(seq, word2index):\n",
        "    idxs = list(map(lambda w: word2index[w] if word2index.get(w) is not None else word2index[\"<UNK>\"], seq))\n",
        "    return torch.LongTensor(idxs)\n",
        "\n",
        "def negative_sampling(targets, unigram_table, k):\n",
        "    batch_size = targets.size(0)\n",
        "    neg_samples = []\n",
        "    for i in range(batch_size):\n",
        "        nsample = []\n",
        "        target_index = targets[i].item()\n",
        "        while len(nsample) < k: # num of sampling\n",
        "            neg = random.choice(unigram_table)\n",
        "            if word2index[neg] == target_index:\n",
        "                continue\n",
        "            nsample.append(neg)\n",
        "        neg_samples.append(prepare_sequence(nsample, word2index).view(1, -1))\n",
        "    \n",
        "    return torch.cat(neg_samples)"
      ],
      "metadata": {
        "id": "nfOFuxwkE63l"
      },
      "execution_count": 44,
      "outputs": []
    },
    {
      "cell_type": "markdown",
      "source": [
        "## Testing"
      ],
      "metadata": {
        "id": "m9dut5rIFUz2"
      }
    },
    {
      "cell_type": "code",
      "source": [
        "input_batch  = torch.Tensor(input_batch)\n",
        "target_batch = torch.LongTensor(target_batch)"
      ],
      "metadata": {
        "id": "9ghQIR5MFYsI"
      },
      "execution_count": 45,
      "outputs": []
    },
    {
      "cell_type": "code",
      "source": [
        "target_batch.shape"
      ],
      "metadata": {
        "colab": {
          "base_uri": "https://localhost:8080/"
        },
        "id": "G6WBGuY1Fh30",
        "outputId": "40732304-ff43-460e-b406-b068e18ec8a7"
      },
      "execution_count": 46,
      "outputs": [
        {
          "output_type": "execute_result",
          "data": {
            "text/plain": [
              "torch.Size([2, 1])"
            ]
          },
          "metadata": {},
          "execution_count": 46
        }
      ]
    },
    {
      "cell_type": "code",
      "source": [
        "num_neg = 3\n",
        "negative_sampling(target_batch, unigram_table, num_neg)"
      ],
      "metadata": {
        "colab": {
          "base_uri": "https://localhost:8080/"
        },
        "id": "10ZfN5uGFteZ",
        "outputId": "a37c874e-f6a4-4197-a827-5a5b2a93ca04"
      },
      "execution_count": 47,
      "outputs": [
        {
          "output_type": "execute_result",
          "data": {
            "text/plain": [
              "tensor([[ 14,  40, 108],\n",
              "        [ 24, 102,  33]])"
            ]
          },
          "metadata": {},
          "execution_count": 47
        }
      ]
    },
    {
      "cell_type": "markdown",
      "source": [
        "## Modeling"
      ],
      "metadata": {
        "id": "F30b5uMjF6BY"
      }
    },
    {
      "cell_type": "code",
      "source": [
        "class SkipgramNegSampling(nn.Module):\n",
        "    \n",
        "    def __init__(self, vocab_size, emb_size):\n",
        "        super(SkipgramNegSampling, self).__init__()\n",
        "        self.embedding_center_word  = nn.Embedding(vocab_size, emb_size)  # center embedding\n",
        "        self.embedding_outside_word = nn.Embedding(vocab_size, emb_size)  # outside embedding\n",
        "        self.logsigmoid = nn.LogSigmoid()\n",
        "                    \n",
        "    def forward(self, center_words, outside_words, negative_words):\n",
        "        center_word_embed  = self.embedding_center_word(center_words)     # (batch_size, 1, emb_size)\n",
        "        outside_word_embed = self.embedding_outside_word(outside_words)   # (batch_size, 1, emb_size)\n",
        "        # all_vocabs_embed   = self.embedding_outside_word(all_vocabs)\n",
        "        neg_embeds    = -self.embedding_outside_word(negative_words)  # [batch_size, num_neg, emb_size]\n",
        "        \n",
        "        positive_score = outside_word_embed.bmm(center_word_embed.transpose(1, 2)).squeeze(2)\n",
        "        # [batch_size, 1, emb_size] @ [batch_size, emb_size, 1] = [batch_size, 1, 1] = [batch_size, 1]\n",
        "        \n",
        "        negative_score = neg_embeds.bmm(center_word_embed.transpose(1, 2))\n",
        "        # [batch_size, k, emb_size] @ [batch_size, emb_size, 1] = [batch_size, k, 1]\n",
        "        \n",
        "        loss = self.logsigmoid(positive_score) + torch.sum(self.logsigmoid(negative_score), 1)\n",
        "                \n",
        "        return -torch.mean(loss)\n",
        "    \n",
        "    def prediction(self, inputs):\n",
        "        embeds = self.embedding_v(inputs)\n",
        "        return embeds"
      ],
      "metadata": {
        "id": "cQ7JZfnxF75M"
      },
      "execution_count": 48,
      "outputs": []
    },
    {
      "cell_type": "markdown",
      "source": [
        "## Training"
      ],
      "metadata": {
        "id": "Pp5jATctGChJ"
      }
    },
    {
      "cell_type": "code",
      "source": [
        "len(vocab)"
      ],
      "metadata": {
        "colab": {
          "base_uri": "https://localhost:8080/"
        },
        "id": "QPEw1pDvGELX",
        "outputId": "68304b20-d03d-4347-bc45-46a8e8798b31"
      },
      "execution_count": 49,
      "outputs": [
        {
          "output_type": "execute_result",
          "data": {
            "text/plain": [
              "129"
            ]
          },
          "metadata": {},
          "execution_count": 49
        }
      ]
    },
    {
      "cell_type": "code",
      "source": [
        "batch_size = 2 # mini-batch size\n",
        "embedding_size = 2 # so we can later plot\n",
        "model = SkipgramNegSampling(len(vocab), embedding_size)\n",
        "num_neg = 10 # num of negative sampling\n",
        "\n",
        "optimizer = optim.Adam(model.parameters(), lr=0.001)"
      ],
      "metadata": {
        "id": "-WWRg40_GGdl"
      },
      "execution_count": 50,
      "outputs": []
    },
    {
      "cell_type": "code",
      "source": [
        "model"
      ],
      "metadata": {
        "colab": {
          "base_uri": "https://localhost:8080/"
        },
        "id": "Jc04tSknGS4Y",
        "outputId": "c4cf7151-5c7c-4895-cdf3-2044cc5c12ad"
      },
      "execution_count": 51,
      "outputs": [
        {
          "output_type": "execute_result",
          "data": {
            "text/plain": [
              "SkipgramNegSampling(\n",
              "  (embedding_center_word): Embedding(129, 2)\n",
              "  (embedding_outside_word): Embedding(129, 2)\n",
              "  (logsigmoid): LogSigmoid()\n",
              ")"
            ]
          },
          "metadata": {},
          "execution_count": 51
        }
      ]
    },
    {
      "cell_type": "code",
      "source": [
        "def epoch_time(start_time, end_time):\n",
        "    elapsed_time = end_time - start_time\n",
        "    elapsed_mins = int(elapsed_time / 60)\n",
        "    elapsed_secs = int(elapsed_time - (elapsed_mins * 60))\n",
        "    return elapsed_mins, elapsed_secs"
      ],
      "metadata": {
        "id": "YhsPD6OwGXfG"
      },
      "execution_count": 52,
      "outputs": []
    },
    {
      "cell_type": "code",
      "source": [
        "import time\n",
        "\n",
        "init_time = time.time()\n",
        "\n",
        "# Training\n",
        "num_epochs = 10000\n",
        "for epoch in range(num_epochs):\n",
        "    \n",
        "    start = time.time()\n",
        "    \n",
        "    input_batch, target_batch = random_batch(batch_size, corpus)\n",
        "    \n",
        "    # input_batch: [batch_size, 1]\n",
        "    input_batch = torch.LongTensor(input_batch)\n",
        "    \n",
        "    # target_batch: [batch_size, 1]\n",
        "    target_batch = torch.LongTensor(target_batch)\n",
        "    \n",
        "    # negs_batch:   [batch_size, num_neg]\n",
        "    negs_batch = negative_sampling(target_batch, unigram_table, num_neg)\n",
        "    \n",
        "    optimizer.zero_grad()\n",
        "    loss = model(input_batch, target_batch, negs_batch)\n",
        "    \n",
        "    end = time.time()\n",
        "    epoch_mins, epoch_secs = epoch_time(start, end)\n",
        "    \n",
        "    loss.backward()\n",
        "    optimizer.step()\n",
        "\n",
        "    if (epoch + 1) % 1000 == 0:\n",
        "        print(f\"Epoch: {epoch + 1} | cost: {loss:.6f} | time: {epoch_mins}m {epoch_secs}s\")\n",
        "\n",
        "total_time = time.time() - init_time\n",
        "print('Total time:', total_time)"
      ],
      "metadata": {
        "colab": {
          "base_uri": "https://localhost:8080/"
        },
        "id": "pZx0aSfCHkgi",
        "outputId": "d87cd3b2-db13-4ffc-9ed7-831dd2d477da"
      },
      "execution_count": 53,
      "outputs": [
        {
          "output_type": "stream",
          "name": "stdout",
          "text": [
            "Epoch: 1000 | cost: 13.311222 | time: 0m 0s\n",
            "Epoch: 2000 | cost: 8.235928 | time: 0m 0s\n",
            "Epoch: 3000 | cost: 7.405756 | time: 0m 0s\n",
            "Epoch: 4000 | cost: 8.080935 | time: 0m 0s\n",
            "Epoch: 5000 | cost: 8.365215 | time: 0m 0s\n",
            "Epoch: 6000 | cost: 7.951752 | time: 0m 0s\n",
            "Epoch: 7000 | cost: 7.239399 | time: 0m 0s\n",
            "Epoch: 8000 | cost: 7.057349 | time: 0m 0s\n",
            "Epoch: 9000 | cost: 5.284310 | time: 0m 0s\n",
            "Epoch: 10000 | cost: 6.208775 | time: 0m 0s\n",
            "Total time: 10.620191812515259\n"
          ]
        }
      ]
    },
    {
      "cell_type": "markdown",
      "source": [
        "So, the total time required for Negative Sampling version of Skipgram is around 10.6 seconds, which means it took a few miliseconds longer than the Skipgram model."
      ],
      "metadata": {
        "id": "ZrC5ERB30Mu-"
      }
    },
    {
      "cell_type": "markdown",
      "source": [
        "We can conclude that, Skipgram and Negative Sampling version of Skipgram will probably take the around same amount of time. But this time difference may depend on the corpus size, vocab size and many other parameters of these models."
      ],
      "metadata": {
        "id": "HG0zt6o300hv"
      }
    }
  ],
  "metadata": {
    "colab": {
      "provenance": []
    },
    "kernelspec": {
      "display_name": "Python 3",
      "name": "python3"
    },
    "language_info": {
      "name": "python"
    }
  },
  "nbformat": 4,
  "nbformat_minor": 0
}
