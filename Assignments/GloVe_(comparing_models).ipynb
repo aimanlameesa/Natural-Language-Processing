{
  "nbformat": 4,
  "nbformat_minor": 0,
  "metadata": {
    "colab": {
      "provenance": []
    },
    "kernelspec": {
      "name": "python3",
      "display_name": "Python 3"
    },
    "language_info": {
      "name": "python"
    },
    "accelerator": "GPU",
    "gpuClass": "standard"
  },
  "cells": [
    {
      "cell_type": "markdown",
      "source": [
        "# Assignment"
      ],
      "metadata": {
        "id": "VkvtS4XKnGLb"
      }
    },
    {
      "cell_type": "markdown",
      "source": [
        "Constraint: Only use our code (not other code....)\n",
        "\n",
        "1. I guess you already try a bigger corpus\n",
        "2. I guess you already try window size 2\n",
        "3. I guess you already have skipgram, skipgram(neg), cbow, glove\n",
        "\n",
        "Do this:\n",
        "1. Compare them based on syntactic accuracy and semantic accuracy, similar to how is done in https://nlp.stanford.edu/pubs/glove.pdf (see Table 2) - NO NEED to try 1000 or 300 embed size.....I just want you to learn how to do experiment.....\n",
        "2. Try to find a correlation with just ONE similarity dataset (which humans judge how similar is two words.....)\n",
        "\n",
        "Point criteria:\n",
        "0:  Not done\n",
        "1: ok\n",
        "2: with comments / explanation / figures just like how Chaky explain thing....."
      ],
      "metadata": {
        "id": "syIXiHt2nH6L"
      }
    },
    {
      "cell_type": "code",
      "source": [
        "import numpy as np\n",
        "import torch\n",
        "import torch.nn as nn\n",
        "import torch.optim as optim\n",
        "import matplotlib.pyplot as plt"
      ],
      "metadata": {
        "id": "d6HX17KNndwg"
      },
      "execution_count": 1,
      "outputs": []
    },
    {
      "cell_type": "code",
      "source": [
        "np.__version__, torch.__version__"
      ],
      "metadata": {
        "colab": {
          "base_uri": "https://localhost:8080/"
        },
        "id": "VVbPFN8_nfr1",
        "outputId": "08cac09d-b158-4e01-e068-5e683c9cfffd"
      },
      "execution_count": 2,
      "outputs": [
        {
          "output_type": "execute_result",
          "data": {
            "text/plain": [
              "('1.21.6', '1.13.1+cu116')"
            ]
          },
          "metadata": {},
          "execution_count": 2
        }
      ]
    },
    {
      "cell_type": "code",
      "source": [
        "import matplotlib\n",
        "matplotlib.__version__"
      ],
      "metadata": {
        "colab": {
          "base_uri": "https://localhost:8080/",
          "height": 36
        },
        "id": "F0cZCJAXnj4l",
        "outputId": "2848b155-1acd-4432-f229-c61f4c0b5623"
      },
      "execution_count": 3,
      "outputs": [
        {
          "output_type": "execute_result",
          "data": {
            "text/plain": [
              "'3.2.2'"
            ],
            "application/vnd.google.colaboratory.intrinsic+json": {
              "type": "string"
            }
          },
          "metadata": {},
          "execution_count": 3
        }
      ]
    },
    {
      "cell_type": "markdown",
      "source": [
        "## Loading Data"
      ],
      "metadata": {
        "id": "HtAjAB5aEvz6"
      }
    },
    {
      "cell_type": "code",
      "source": [
        "# defining corpus\n",
        "\n",
        "with open('capital-world.txt') as txt:\n",
        "    corpus = [line.strip() for line in txt.readlines() if line[0] != ':']"
      ],
      "metadata": {
        "id": "7LLCLk4FExy5"
      },
      "execution_count": 4,
      "outputs": []
    },
    {
      "cell_type": "code",
      "source": [
        "print(corpus[:10])"
      ],
      "metadata": {
        "colab": {
          "base_uri": "https://localhost:8080/"
        },
        "id": "x6gmv4VnpVP-",
        "outputId": "704252e8-4497-44ec-99d1-9000ec22573c"
      },
      "execution_count": 5,
      "outputs": [
        {
          "output_type": "stream",
          "name": "stdout",
          "text": [
            "['abuja nigeria accra ghana', 'abuja nigeria algiers algeria', 'abuja nigeria amman jordan', 'abuja nigeria ankara turkey', 'abuja nigeria antananarivo madagascar', 'abuja nigeria apia samoa', 'abuja nigeria ashgabat turkmenistan', 'abuja nigeria asmara eritrea', 'abuja nigeria astana kazakhstan', 'abuja nigeria athens greece']\n"
          ]
        }
      ]
    },
    {
      "cell_type": "code",
      "source": [
        "# tokenization\n",
        "\n",
        "corpus_tokenized = [sent.split(\" \") for sent in corpus]\n",
        "corpus_tokenized[:15]  # we called each of this as \"tokens\", NOT words"
      ],
      "metadata": {
        "colab": {
          "base_uri": "https://localhost:8080/"
        },
        "id": "-4v396j0E70v",
        "outputId": "39869226-630d-43f8-cb7a-c45f00fbeb27"
      },
      "execution_count": 6,
      "outputs": [
        {
          "output_type": "execute_result",
          "data": {
            "text/plain": [
              "[['abuja', 'nigeria', 'accra', 'ghana'],\n",
              " ['abuja', 'nigeria', 'algiers', 'algeria'],\n",
              " ['abuja', 'nigeria', 'amman', 'jordan'],\n",
              " ['abuja', 'nigeria', 'ankara', 'turkey'],\n",
              " ['abuja', 'nigeria', 'antananarivo', 'madagascar'],\n",
              " ['abuja', 'nigeria', 'apia', 'samoa'],\n",
              " ['abuja', 'nigeria', 'ashgabat', 'turkmenistan'],\n",
              " ['abuja', 'nigeria', 'asmara', 'eritrea'],\n",
              " ['abuja', 'nigeria', 'astana', 'kazakhstan'],\n",
              " ['abuja', 'nigeria', 'athens', 'greece'],\n",
              " ['abuja', 'nigeria', 'baghdad', 'iraq'],\n",
              " ['abuja', 'nigeria', 'baku', 'azerbaijan'],\n",
              " ['abuja', 'nigeria', 'bamako', 'mali'],\n",
              " ['abuja', 'nigeria', 'bangkok', 'thailand'],\n",
              " ['abuja', 'nigeria', 'banjul', 'gambia']]"
            ]
          },
          "metadata": {},
          "execution_count": 6
        }
      ]
    },
    {
      "cell_type": "code",
      "source": [
        "# corpus_tokenized[:10]"
      ],
      "metadata": {
        "id": "ZXeYBbThprxO"
      },
      "execution_count": 7,
      "outputs": []
    },
    {
      "cell_type": "code",
      "source": [
        "# numericalization\n",
        "\n",
        "# getting all the unique words\n",
        "# we want to flatten this (basically merge all list)\n",
        "\n",
        "flatten = lambda l: [item for sublist in l for item in sublist]\n",
        "vocabs  = list(set(flatten(corpus_tokenized)))  # vocabs is a term defining all unique words your system know"
      ],
      "metadata": {
        "id": "-tlTWL18FIBs"
      },
      "execution_count": 8,
      "outputs": []
    },
    {
      "cell_type": "code",
      "source": [
        "vocabs[:15]"
      ],
      "metadata": {
        "colab": {
          "base_uri": "https://localhost:8080/"
        },
        "id": "zQ0PjAQE0x2G",
        "outputId": "c8c16b81-946d-4e08-d757-6253a2970e3b"
      },
      "execution_count": 9,
      "outputs": [
        {
          "output_type": "execute_result",
          "data": {
            "text/plain": [
              "['suva',\n",
              " 'germany',\n",
              " 'rome',\n",
              " 'muscat',\n",
              " 'algiers',\n",
              " 'podgorica',\n",
              " 'zimbabwe',\n",
              " 'roseau',\n",
              " 'dhaka',\n",
              " 'jakarta',\n",
              " 'laos',\n",
              " 'montenegro',\n",
              " 'namibia',\n",
              " 'kazakhstan',\n",
              " 'romania']"
            ]
          },
          "metadata": {},
          "execution_count": 9
        }
      ]
    },
    {
      "cell_type": "code",
      "source": [
        "# checking the length of the vocab\n",
        "\n",
        "len(vocabs)"
      ],
      "metadata": {
        "colab": {
          "base_uri": "https://localhost:8080/"
        },
        "id": "NrQnhBF_p2UY",
        "outputId": "8b4e864c-2ef3-4b9c-fd7f-708f0fb7716d"
      },
      "execution_count": 10,
      "outputs": [
        {
          "output_type": "execute_result",
          "data": {
            "text/plain": [
              "232"
            ]
          },
          "metadata": {},
          "execution_count": 10
        }
      ]
    },
    {
      "cell_type": "code",
      "source": [
        "# assigning id to all these vocabs\n",
        "\n",
        "word2index = {v: idx for idx, v in enumerate(vocabs)}"
      ],
      "metadata": {
        "id": "-E33iAwIFX44"
      },
      "execution_count": 11,
      "outputs": []
    },
    {
      "cell_type": "code",
      "source": [
        "word2index['germany']"
      ],
      "metadata": {
        "colab": {
          "base_uri": "https://localhost:8080/"
        },
        "id": "dD6Ns6cvO9-2",
        "outputId": "49ce5214-bd1d-455e-f712-4f163799cdc0"
      },
      "execution_count": 12,
      "outputs": [
        {
          "output_type": "execute_result",
          "data": {
            "text/plain": [
              "1"
            ]
          },
          "metadata": {},
          "execution_count": 12
        }
      ]
    },
    {
      "cell_type": "code",
      "source": [
        "# word2index[:10]"
      ],
      "metadata": {
        "id": "fM313B5WqHNw"
      },
      "execution_count": 13,
      "outputs": []
    },
    {
      "cell_type": "code",
      "source": [
        "# adding <UNK>, which is a very normal token exists in the world\n",
        "\n",
        "vocabs.append('<UNK>')"
      ],
      "metadata": {
        "id": "-hp349hgPF3R"
      },
      "execution_count": 14,
      "outputs": []
    },
    {
      "cell_type": "code",
      "source": [
        "# now we have a way to know what is the id of <UNK>\n",
        "\n",
        "word2index['<UNK>'] = 232"
      ],
      "metadata": {
        "id": "E9tKjoxaPNKE"
      },
      "execution_count": 15,
      "outputs": []
    },
    {
      "cell_type": "code",
      "source": [
        "# creating index2word dictionary\n",
        "   \n",
        "index2word = {v:k for k, v in word2index.items()}\n",
        "index2word[2]"
      ],
      "metadata": {
        "colab": {
          "base_uri": "https://localhost:8080/",
          "height": 36
        },
        "id": "ZLNFLRLkPT7n",
        "outputId": "3b542ff2-524a-47a7-9905-4487e5c386d9"
      },
      "execution_count": 16,
      "outputs": [
        {
          "output_type": "execute_result",
          "data": {
            "text/plain": [
              "'rome'"
            ],
            "application/vnd.google.colaboratory.intrinsic+json": {
              "type": "string"
            }
          },
          "metadata": {},
          "execution_count": 16
        }
      ]
    },
    {
      "cell_type": "code",
      "source": [
        "vocabs[:15]"
      ],
      "metadata": {
        "colab": {
          "base_uri": "https://localhost:8080/"
        },
        "id": "AqqLiPqsPaZJ",
        "outputId": "0d7056e1-426f-432f-8a62-c83e6af98bde"
      },
      "execution_count": 17,
      "outputs": [
        {
          "output_type": "execute_result",
          "data": {
            "text/plain": [
              "['suva',\n",
              " 'germany',\n",
              " 'rome',\n",
              " 'muscat',\n",
              " 'algiers',\n",
              " 'podgorica',\n",
              " 'zimbabwe',\n",
              " 'roseau',\n",
              " 'dhaka',\n",
              " 'jakarta',\n",
              " 'laos',\n",
              " 'montenegro',\n",
              " 'namibia',\n",
              " 'kazakhstan',\n",
              " 'romania']"
            ]
          },
          "metadata": {},
          "execution_count": 17
        }
      ]
    },
    {
      "cell_type": "markdown",
      "source": [
        "## Skipgram"
      ],
      "metadata": {
        "id": "By7I_1vWq6Uy"
      }
    },
    {
      "cell_type": "code",
      "source": [
        "# moving along the corpus\n",
        "# using window_size = 1\n",
        "\n",
        "skipgrams = []\n",
        "\n",
        "#for each corpus\n",
        "for sent in corpus_tokenized:\n",
        "    # for each sent [\"Athens\", \"Greece\", \"Baghdad\", \"Iraq\"]\n",
        "    for i in range(1, len(sent) - 1): # start from 1 to second last\n",
        "        center_word = sent[i]\n",
        "        outside_words = [sent[i-1], sent[i+1]]  # window_size = 1\n",
        "        for o in outside_words:\n",
        "            skipgrams.append([center_word, o])\n",
        "\n",
        "skipgrams[:15]\n",
        "        \n",
        "# here we want to create ('Greece', 'Athens'), ('Greece', 'Baghdad') append to some list"
      ],
      "metadata": {
        "colab": {
          "base_uri": "https://localhost:8080/"
        },
        "id": "ybxHOKqhq9zI",
        "outputId": "42102c3e-9671-4125-8e25-1585af76ac53"
      },
      "execution_count": 19,
      "outputs": [
        {
          "output_type": "execute_result",
          "data": {
            "text/plain": [
              "[['nigeria', 'abuja'],\n",
              " ['nigeria', 'accra'],\n",
              " ['accra', 'nigeria'],\n",
              " ['accra', 'ghana'],\n",
              " ['nigeria', 'abuja'],\n",
              " ['nigeria', 'algiers'],\n",
              " ['algiers', 'nigeria'],\n",
              " ['algiers', 'algeria'],\n",
              " ['nigeria', 'abuja'],\n",
              " ['nigeria', 'amman'],\n",
              " ['amman', 'nigeria'],\n",
              " ['amman', 'jordan'],\n",
              " ['nigeria', 'abuja'],\n",
              " ['nigeria', 'ankara'],\n",
              " ['ankara', 'nigeria']]"
            ]
          },
          "metadata": {},
          "execution_count": 19
        }
      ]
    },
    {
      "cell_type": "code",
      "source": [
        "def random_batch(batch_size, corpus):\n",
        "    \n",
        "    skipgrams = []\n",
        "\n",
        "    # for each corpus\n",
        "    for sent in corpus_tokenized:\n",
        "        # for each sent [\"Athens\", \"Greece\", \"Baghdad\", \"Iraq\"]\n",
        "        for i in range(1, len(sent) - 1): # start from 1 to second last\n",
        "            center_word = word2index[sent[i]]\n",
        "            outside_words = [word2index[sent[i-1]], word2index[sent[i+1]]]  # window_size = 1\n",
        "            for o in outside_words:\n",
        "                skipgrams.append([center_word, o])\n",
        "                \n",
        "    # only getting a batch, not the entire list\n",
        "    random_index = np.random.choice(range(len(skipgrams)), batch_size, replace=False)\n",
        "             \n",
        "    # appending some list of inputs and labels\n",
        "    random_inputs, random_labels = [], []   \n",
        "    for index in random_index:\n",
        "        random_inputs.append([skipgrams[index][0]])  # center words, this will be a shape of (1, ) --> (1, 1) for modeling\n",
        "        random_labels.append([skipgrams[index][1]])\n",
        "        \n",
        "    return np.array(random_inputs), np.array(random_labels)"
      ],
      "metadata": {
        "id": "cey9WQLQsW5h"
      },
      "execution_count": 20,
      "outputs": []
    },
    {
      "cell_type": "code",
      "source": [
        "random_batch(10, corpus_tokenized)"
      ],
      "metadata": {
        "colab": {
          "base_uri": "https://localhost:8080/"
        },
        "id": "tvtsHPA_svhZ",
        "outputId": "5ab016a8-2ba2-4b78-ff54-2f7646fa9e8b"
      },
      "execution_count": 22,
      "outputs": [
        {
          "output_type": "execute_result",
          "data": {
            "text/plain": [
              "(array([[144],\n",
              "        [122],\n",
              "        [ 25],\n",
              "        [140],\n",
              "        [ 16],\n",
              "        [112],\n",
              "        [ 20],\n",
              "        [218],\n",
              "        [ 99],\n",
              "        [192]]), array([[ 40],\n",
              "        [124],\n",
              "        [221],\n",
              "        [218],\n",
              "        [ 59],\n",
              "        [180],\n",
              "        [120],\n",
              "        [140],\n",
              "        [ 65],\n",
              "        [166]]))"
            ]
          },
          "metadata": {},
          "execution_count": 22
        }
      ]
    },
    {
      "cell_type": "markdown",
      "source": [
        "### Testing the Method"
      ],
      "metadata": {
        "id": "h2ANLIratMKD"
      }
    },
    {
      "cell_type": "code",
      "source": [
        "input, label = random_batch(2, corpus_tokenized)\n",
        "\n",
        "print(f\"{input=}\")\n",
        "print(f\"{label=}\")"
      ],
      "metadata": {
        "colab": {
          "base_uri": "https://localhost:8080/"
        },
        "id": "XTnE5bogsyit",
        "outputId": "60c9b24c-a9d3-4565-87fc-ac276adc13de"
      },
      "execution_count": 23,
      "outputs": [
        {
          "output_type": "stream",
          "name": "stdout",
          "text": [
            "input=array([[164],\n",
            "       [206]])\n",
            "label=array([[221],\n",
            "       [155]])\n"
          ]
        }
      ]
    },
    {
      "cell_type": "code",
      "source": [
        "input, label = random_batch(1, corpus_tokenized)\n",
        "\n",
        "print(f\"{input=}\")\n",
        "print(f\"{label=}\")"
      ],
      "metadata": {
        "colab": {
          "base_uri": "https://localhost:8080/"
        },
        "id": "pDzzqUtPsyeI",
        "outputId": "98dff325-0868-4d35-eda5-f074583f5d9e"
      },
      "execution_count": 24,
      "outputs": [
        {
          "output_type": "stream",
          "name": "stdout",
          "text": [
            "input=array([[87]])\n",
            "label=array([[103]])\n"
          ]
        }
      ]
    },
    {
      "cell_type": "code",
      "source": [
        "input, label = random_batch(10, corpus_tokenized)\n",
        "\n",
        "print(f\"{input.shape}\")\n",
        "print(f\"{label=}\")"
      ],
      "metadata": {
        "colab": {
          "base_uri": "https://localhost:8080/"
        },
        "id": "tjohBp8ksyZt",
        "outputId": "0eb6b304-b047-473b-8e9f-54ef7dfa9801"
      },
      "execution_count": 25,
      "outputs": [
        {
          "output_type": "stream",
          "name": "stdout",
          "text": [
            "(10, 1)\n",
            "label=array([[139],\n",
            "       [223],\n",
            "       [158],\n",
            "       [164],\n",
            "       [ 20],\n",
            "       [125],\n",
            "       [ 81],\n",
            "       [110],\n",
            "       [115],\n",
            "       [151]])\n"
          ]
        }
      ]
    },
    {
      "cell_type": "markdown",
      "source": [
        "## Modeling"
      ],
      "metadata": {
        "id": "7qVYXcMotWvx"
      }
    },
    {
      "cell_type": "code",
      "source": [
        "voc_size = len(vocabs)\n",
        "voc_size"
      ],
      "metadata": {
        "colab": {
          "base_uri": "https://localhost:8080/"
        },
        "id": "i6OVNSjEsyVt",
        "outputId": "22fa3b70-a8f9-4370-d5a4-28bd6558f3ce"
      },
      "execution_count": 26,
      "outputs": [
        {
          "output_type": "execute_result",
          "data": {
            "text/plain": [
              "233"
            ]
          },
          "metadata": {},
          "execution_count": 26
        }
      ]
    },
    {
      "cell_type": "code",
      "source": [
        "vocabs[:15]"
      ],
      "metadata": {
        "colab": {
          "base_uri": "https://localhost:8080/"
        },
        "id": "XeOQRM0msyRO",
        "outputId": "a63d32f1-f094-4544-8e17-5e4efaf852fe"
      },
      "execution_count": 27,
      "outputs": [
        {
          "output_type": "execute_result",
          "data": {
            "text/plain": [
              "['suva',\n",
              " 'germany',\n",
              " 'rome',\n",
              " 'muscat',\n",
              " 'algiers',\n",
              " 'podgorica',\n",
              " 'zimbabwe',\n",
              " 'roseau',\n",
              " 'dhaka',\n",
              " 'jakarta',\n",
              " 'laos',\n",
              " 'montenegro',\n",
              " 'namibia',\n",
              " 'kazakhstan',\n",
              " 'romania']"
            ]
          },
          "metadata": {},
          "execution_count": 27
        }
      ]
    },
    {
      "cell_type": "code",
      "source": [
        "# the model will accept three vectors - u_o, v_c, u_w\n",
        "# u_o - vector for outside words\n",
        "# v_c - vector for center word\n",
        "# u_w - vectors of all vocabs\n",
        "\n",
        "class Skipgram(nn.Module):\n",
        "    \n",
        "    def __init__(self, voc_size, emb_size):\n",
        "        super(Skipgram, self).__init__()\n",
        "        self.embedding_center_word  = nn.Embedding(voc_size, emb_size)  # it is a lookup table mapping all ids in voc_size, into some vector of size emb_size\n",
        "        self.embedding_outside_word = nn.Embedding(voc_size, emb_size)\n",
        "    \n",
        "    def forward(self, center_word, outside_word, all_vocabs):\n",
        "      \n",
        "        # center_word, outside_word: (batch_size, 1)\n",
        "        # all_vocabs: (batch_size, voc_size)\n",
        "        \n",
        "        # converting them into embedding\n",
        "        center_word_embed  = self.embedding_center_word(center_word)     # (batch_size, 1, emb_size)\n",
        "        outside_word_embed = self.embedding_outside_word(outside_word)   # (batch_size, 1, emb_size)\n",
        "        all_vocabs_embed   = self.embedding_outside_word(all_vocabs)     # (batch_size, voc_size, emb_size)\n",
        "        \n",
        "        # bmm is basically @ or .dot , but across batches (i.e., ignore the batch dimension)\n",
        "        top_term = outside_word_embed.bmm(center_word_embed.transpose(1, 2)).squeeze(2)\n",
        "        # (batch_size, 1, emb_size) @ (batch_size, emb_size, 1) = (batch_size, 1, 1) ===> (batch_size, 1)\n",
        "        \n",
        "        top_term_exp = torch.exp(top_term)  # exp(uo vc)\n",
        "        # (batch_size, 1)\n",
        "        \n",
        "        lower_term = all_vocabs_embed.bmm(center_word_embed.transpose(1, 2)).squeeze(2)\n",
        "         # (batch_size, voc_size, emb_size) @ (batch_size, emb_size, 1) = (batch_size, voc_size, 1) = (batch_size, voc_size)\n",
        "         \n",
        "        lower_term_sum = torch.sum(torch.exp(lower_term), 1) #sum exp(uw vc)\n",
        "        # (batch_size, 1)\n",
        "        \n",
        "        loss_fn = -torch.mean(torch.log(top_term_exp / lower_term_sum))\n",
        "        # (batch_size, 1) / (batch_size, 1) ==mean==> scalar\n",
        "        \n",
        "        return loss_fn"
      ],
      "metadata": {
        "id": "fqTfViBAthMb"
      },
      "execution_count": 28,
      "outputs": []
    },
    {
      "cell_type": "code",
      "source": [
        "# preparing all_vocabs\n",
        "\n",
        "batch_size = 2\n",
        "\n",
        "def prepare_sequence(seq, word2index):\n",
        "    # map(function, list of something)\n",
        "    # map will look at each of element in this list, and apply this function\n",
        "    idxs = list(map(lambda w: word2index[w] if word2index.get(w) is not None else word2index[\"\"], seq))\n",
        "    return torch.LongTensor(idxs)\n",
        "\n",
        "all_vocabs = prepare_sequence(list(vocabs), word2index).expand(batch_size, voc_size)\n",
        "all_vocabs.shape"
      ],
      "metadata": {
        "colab": {
          "base_uri": "https://localhost:8080/"
        },
        "id": "7RHrSGtZt2UC",
        "outputId": "4de49b1c-6bce-4a4f-d367-31d4a98bb693"
      },
      "execution_count": 29,
      "outputs": [
        {
          "output_type": "execute_result",
          "data": {
            "text/plain": [
              "torch.Size([2, 233])"
            ]
          },
          "metadata": {},
          "execution_count": 29
        }
      ]
    },
    {
      "cell_type": "code",
      "source": [
        "voc_size"
      ],
      "metadata": {
        "colab": {
          "base_uri": "https://localhost:8080/"
        },
        "id": "fKGG_24bt2PA",
        "outputId": "93218fdf-9fc1-4c25-f409-d025190dae31"
      },
      "execution_count": 30,
      "outputs": [
        {
          "output_type": "execute_result",
          "data": {
            "text/plain": [
              "233"
            ]
          },
          "metadata": {},
          "execution_count": 30
        }
      ]
    },
    {
      "cell_type": "code",
      "source": [
        "input, label = random_batch(2, corpus_tokenized)\n",
        "input # center word"
      ],
      "metadata": {
        "colab": {
          "base_uri": "https://localhost:8080/"
        },
        "id": "fdpE6kTbt2Lb",
        "outputId": "2727195f-a241-44b2-c594-78faa4e60721"
      },
      "execution_count": 31,
      "outputs": [
        {
          "output_type": "execute_result",
          "data": {
            "text/plain": [
              "array([[204],\n",
              "       [174]])"
            ]
          },
          "metadata": {},
          "execution_count": 31
        }
      ]
    },
    {
      "cell_type": "code",
      "source": [
        "label # context word"
      ],
      "metadata": {
        "colab": {
          "base_uri": "https://localhost:8080/"
        },
        "id": "dHeybAWLt2Ft",
        "outputId": "9aceae87-c576-4304-c323-2bc4acc5756e"
      },
      "execution_count": 32,
      "outputs": [
        {
          "output_type": "execute_result",
          "data": {
            "text/plain": [
              "array([[  4],\n",
              "       [154]])"
            ]
          },
          "metadata": {},
          "execution_count": 32
        }
      ]
    },
    {
      "cell_type": "code",
      "source": [
        "voc_size"
      ],
      "metadata": {
        "colab": {
          "base_uri": "https://localhost:8080/"
        },
        "id": "G2gFX4SauRlN",
        "outputId": "a09c0749-b65d-4fb2-90a9-690c69c025e8"
      },
      "execution_count": 33,
      "outputs": [
        {
          "output_type": "execute_result",
          "data": {
            "text/plain": [
              "233"
            ]
          },
          "metadata": {},
          "execution_count": 33
        }
      ]
    },
    {
      "cell_type": "code",
      "source": [
        "emb_size = 2 # usually, this can be 50, 100, or 300\n",
        "model = Skipgram(voc_size, emb_size)"
      ],
      "metadata": {
        "id": "3TQMd_7puReW"
      },
      "execution_count": 34,
      "outputs": []
    },
    {
      "cell_type": "code",
      "source": [
        "input_tensor = torch.LongTensor(input)\n",
        "label_tensor = torch.LongTensor(label)  #LongTensor basically means integer...."
      ],
      "metadata": {
        "id": "pEQwmfXpuRaB"
      },
      "execution_count": 35,
      "outputs": []
    },
    {
      "cell_type": "code",
      "source": [
        "input_tensor.shape, label_tensor.shape"
      ],
      "metadata": {
        "colab": {
          "base_uri": "https://localhost:8080/"
        },
        "id": "DQPswBqeuZR5",
        "outputId": "ba088403-54a2-47e9-f645-d974e23d10f4"
      },
      "execution_count": 36,
      "outputs": [
        {
          "output_type": "execute_result",
          "data": {
            "text/plain": [
              "(torch.Size([2, 1]), torch.Size([2, 1]))"
            ]
          },
          "metadata": {},
          "execution_count": 36
        }
      ]
    },
    {
      "cell_type": "code",
      "source": [
        "# all_vocabs"
      ],
      "metadata": {
        "id": "oAVEWHRluZMs"
      },
      "execution_count": 38,
      "outputs": []
    },
    {
      "cell_type": "code",
      "source": [
        "loss = model(input_tensor, label_tensor, all_vocabs)"
      ],
      "metadata": {
        "id": "G5hrgR-8uZHU"
      },
      "execution_count": 40,
      "outputs": []
    },
    {
      "cell_type": "code",
      "source": [
        "loss"
      ],
      "metadata": {
        "colab": {
          "base_uri": "https://localhost:8080/"
        },
        "id": "3JiAF0_HumB4",
        "outputId": "4983bc41-d892-4fa7-a125-78945f354ec6"
      },
      "execution_count": 41,
      "outputs": [
        {
          "output_type": "execute_result",
          "data": {
            "text/plain": [
              "tensor(6.6131, grad_fn=<NegBackward0>)"
            ]
          },
          "metadata": {},
          "execution_count": 41
        }
      ]
    },
    {
      "cell_type": "code",
      "source": [
        "# center_word_embedding = model(input_tensor, label_tensor)\n",
        "# center_word_embedding.shape # (batch_size, 1, emb_size)"
      ],
      "metadata": {
        "id": "MG4tG-WNul-H"
      },
      "execution_count": 42,
      "outputs": []
    },
    {
      "cell_type": "markdown",
      "source": [
        "## Training"
      ],
      "metadata": {
        "id": "-jciqZJIwKm6"
      }
    },
    {
      "cell_type": "code",
      "source": [
        "batch_size = 2\n",
        "emb_size = 2\n",
        "model_skipgram = Skipgram(voc_size, emb_size)\n",
        "\n",
        "criterion = nn.CrossEntropyLoss()\n",
        "optimizer = optim.Adam(model_skipgram.parameters(), lr = 0.001)"
      ],
      "metadata": {
        "id": "2gxSoohZwMX6"
      },
      "execution_count": 43,
      "outputs": []
    },
    {
      "cell_type": "code",
      "source": [
        "def epoch_time(start_time, end_time):\n",
        "    elapsed_time = end_time - start_time\n",
        "    elapsed_mins = int(elapsed_time / 60)\n",
        "    elapsed_secs = int(elapsed_time - (elapsed_mins * 60))\n",
        "    return elapsed_mins, elapsed_secs"
      ],
      "metadata": {
        "id": "PmCpx4G2wyUI"
      },
      "execution_count": 44,
      "outputs": []
    },
    {
      "cell_type": "code",
      "source": [
        "import time\n",
        "\n",
        "init_time = time.time()\n",
        "\n",
        "# training\n",
        "num_epochs = 500\n",
        "for epoch in range(num_epochs):\n",
        "    \n",
        "    start_time = time.time()\n",
        "    \n",
        "    input_batch, target_batch = random_batch(batch_size, corpus)\n",
        "    input_batch  = torch.LongTensor(input_batch)  \n",
        "    target_batch = torch.LongTensor(target_batch) \n",
        "    # print(input_batch.shape)\n",
        "    # print(target_batch.shape)\n",
        "\n",
        "    optimizer.zero_grad()\n",
        "\n",
        "    # loss = model\n",
        "    loss = model(input_batch, target_batch, all_vocabs)\n",
        "    \n",
        "    # backpropagation\n",
        "    loss.backward()\n",
        "\n",
        "    # updating alpha\n",
        "    optimizer.step()\n",
        "    \n",
        "    epoch_time = time.time() - start_time\n",
        "\n",
        "    if (epoch + 1) % 100 == 0:\n",
        "        print(f\"Epoch: {epoch + 1} | cost: {loss:.6f} | time: {epoch_time}\") # printing epoch loss\n",
        "\n",
        "total_time = time.time() - init_time\n",
        "print('Total training time:', total_time)"
      ],
      "metadata": {
        "colab": {
          "base_uri": "https://localhost:8080/"
        },
        "id": "Yh1XPsmQwYS5",
        "outputId": "4e2ad0c9-ef3a-4da2-cb6e-0f67607ee5ba"
      },
      "execution_count": 45,
      "outputs": [
        {
          "output_type": "stream",
          "name": "stdout",
          "text": [
            "Epoch: 100 | cost: 8.992311 | time: 0.08811521530151367\n",
            "Epoch: 200 | cost: 5.955346 | time: 0.007621288299560547\n",
            "Epoch: 300 | cost: 6.495139 | time: 0.007773876190185547\n",
            "Epoch: 400 | cost: 5.974356 | time: 0.008356571197509766\n",
            "Epoch: 500 | cost: 6.747287 | time: 0.007918834686279297\n",
            "Total training time: 11.41432785987854\n"
          ]
        }
      ]
    },
    {
      "cell_type": "markdown",
      "source": [
        "## Plotting the Embeddings"
      ],
      "metadata": {
        "id": "3QaE0Qve4KnH"
      }
    },
    {
      "cell_type": "code",
      "source": [
        "vocabs[:15]"
      ],
      "metadata": {
        "colab": {
          "base_uri": "https://localhost:8080/"
        },
        "id": "j9qy06om05m0",
        "outputId": "e7af4bbc-32c5-49d3-9101-6976eb2867f4"
      },
      "execution_count": 46,
      "outputs": [
        {
          "output_type": "execute_result",
          "data": {
            "text/plain": [
              "['suva',\n",
              " 'germany',\n",
              " 'rome',\n",
              " 'muscat',\n",
              " 'algiers',\n",
              " 'podgorica',\n",
              " 'zimbabwe',\n",
              " 'roseau',\n",
              " 'dhaka',\n",
              " 'jakarta',\n",
              " 'laos',\n",
              " 'montenegro',\n",
              " 'namibia',\n",
              " 'kazakhstan',\n",
              " 'romania']"
            ]
          },
          "metadata": {},
          "execution_count": 46
        }
      ]
    },
    {
      "cell_type": "code",
      "source": [
        "rome = torch.LongTensor([word2index['rome']])\n",
        "rome"
      ],
      "metadata": {
        "colab": {
          "base_uri": "https://localhost:8080/"
        },
        "id": "fVBoTdxM05e6",
        "outputId": "c4c9f312-bba5-4e03-f9f6-ade7457c60a0"
      },
      "execution_count": 48,
      "outputs": [
        {
          "output_type": "execute_result",
          "data": {
            "text/plain": [
              "tensor([2])"
            ]
          },
          "metadata": {},
          "execution_count": 48
        }
      ]
    },
    {
      "cell_type": "code",
      "source": [
        "rome_center_embed = model.embedding_center_word(rome)\n",
        "rome_outisde_embed = model.embedding_outside_word(rome)\n",
        "\n",
        "rome_embed = (rome_center_embed + rome_outisde_embed) / 2\n",
        "rome_embed"
      ],
      "metadata": {
        "colab": {
          "base_uri": "https://localhost:8080/"
        },
        "id": "5JNV4Jk205U_",
        "outputId": "6e7dd4a3-bc71-47f8-cfdd-cc0979e99be7"
      },
      "execution_count": 49,
      "outputs": [
        {
          "output_type": "execute_result",
          "data": {
            "text/plain": [
              "tensor([[0.3175, 1.3487]], grad_fn=<DivBackward0>)"
            ]
          },
          "metadata": {},
          "execution_count": 49
        }
      ]
    },
    {
      "cell_type": "code",
      "source": [
        "def get_embed(word):\n",
        "  \n",
        "    try:\n",
        "        index = word2index[word]\n",
        "    except:\n",
        "        index = word2index['']\n",
        "    \n",
        "    word = torch.LongTensor([index])\n",
        "\n",
        "    center_embed  = model.embedding_center_word(word)\n",
        "    outside_embed = model.embedding_outside_word(word)\n",
        "    \n",
        "    embed = (center_embed + outside_embed) / 2\n",
        "    \n",
        "    return  embed[0][0].item(), embed[0][1].item()"
      ],
      "metadata": {
        "id": "DzI25gYx5CsX"
      },
      "execution_count": 50,
      "outputs": []
    },
    {
      "cell_type": "code",
      "source": [
        "# finding embedding of turkey, romania\n",
        "\n",
        "print(get_embed('turkey'))\n",
        "print(get_embed('romania'))"
      ],
      "metadata": {
        "colab": {
          "base_uri": "https://localhost:8080/"
        },
        "id": "pozRwjTt5C1f",
        "outputId": "3195e84f-5e32-4825-af69-811cb252c7cb"
      },
      "execution_count": 51,
      "outputs": [
        {
          "output_type": "stream",
          "name": "stdout",
          "text": [
            "(-1.1303980350494385, -1.0306687355041504)\n",
            "(-1.0884405374526978, 0.5294430255889893)\n"
          ]
        }
      ]
    },
    {
      "cell_type": "code",
      "source": [
        "# plotting the words \n",
        "\n",
        "plt.figure(figsize=(20,15))\n",
        "for i, word in enumerate(vocabs): # looping each unique vocab\n",
        "    x, y = get_embed(word)\n",
        "    plt.scatter(x, y)\n",
        "    plt.annotate(word, xy=(x, y), xytext=(5, 2), textcoords='offset points')\n",
        "plt.show()"
      ],
      "metadata": {
        "colab": {
          "base_uri": "https://localhost:8080/",
          "height": 828
        },
        "id": "n_yiyRAV5C66",
        "outputId": "e664fb2c-6484-4120-dab2-613da8dab90f"
      },
      "execution_count": 53,
      "outputs": [
        {
          "output_type": "display_data",
          "data": {
            "text/plain": [
              "<Figure size 1440x1080 with 1 Axes>"
            ],
            "image/png": "[encoded data removed]"
          },
          "metadata": {
            "needs_background": "light"
          }
        }
      ]
    },
    {
      "cell_type": "markdown",
      "source": [
        "## Continuous Bag-of-Words (CBOW)"
      ],
      "metadata": {
        "id": "m50h5A--6Rc3"
      }
    },
    {
      "cell_type": "code",
      "source": [
        "vocabs[:20]"
      ],
      "metadata": {
        "colab": {
          "base_uri": "https://localhost:8080/"
        },
        "id": "rHGCgeTw5dCJ",
        "outputId": "2d530052-4e0b-42f6-cf41-aed4933a696a"
      },
      "execution_count": 54,
      "outputs": [
        {
          "output_type": "execute_result",
          "data": {
            "text/plain": [
              "['suva',\n",
              " 'germany',\n",
              " 'rome',\n",
              " 'muscat',\n",
              " 'algiers',\n",
              " 'podgorica',\n",
              " 'zimbabwe',\n",
              " 'roseau',\n",
              " 'dhaka',\n",
              " 'jakarta',\n",
              " 'laos',\n",
              " 'montenegro',\n",
              " 'namibia',\n",
              " 'kazakhstan',\n",
              " 'romania',\n",
              " 'bahamas',\n",
              " 'slovakia',\n",
              " 'burundi',\n",
              " 'paramaribo',\n",
              " 'malta']"
            ]
          },
          "metadata": {},
          "execution_count": 54
        }
      ]
    },
    {
      "cell_type": "code",
      "source": [
        "# vocab size\n",
        "voc_size = len(vocabs)\n",
        "print(voc_size)"
      ],
      "metadata": {
        "colab": {
          "base_uri": "https://localhost:8080/"
        },
        "id": "d5BCrTuc5dHT",
        "outputId": "96d69b12-ddd2-48a0-b1db-ad7494f38b04"
      },
      "execution_count": 55,
      "outputs": [
        {
          "output_type": "stream",
          "name": "stdout",
          "text": [
            "233\n"
          ]
        }
      ]
    },
    {
      "cell_type": "markdown",
      "source": [
        "## Preparing Train Data"
      ],
      "metadata": {
        "id": "cgHnBK9k6hTi"
      }
    },
    {
      "cell_type": "code",
      "source": [
        "for c in corpus[:15]:\n",
        "    print(c)"
      ],
      "metadata": {
        "colab": {
          "base_uri": "https://localhost:8080/"
        },
        "id": "t9XWezt26cO7",
        "outputId": "99fd98dc-f655-405e-93d8-7c36465362e8"
      },
      "execution_count": 57,
      "outputs": [
        {
          "output_type": "stream",
          "name": "stdout",
          "text": [
            "abuja nigeria accra ghana\n",
            "abuja nigeria algiers algeria\n",
            "abuja nigeria amman jordan\n",
            "abuja nigeria ankara turkey\n",
            "abuja nigeria antananarivo madagascar\n",
            "abuja nigeria apia samoa\n",
            "abuja nigeria ashgabat turkmenistan\n",
            "abuja nigeria asmara eritrea\n",
            "abuja nigeria astana kazakhstan\n",
            "abuja nigeria athens greece\n",
            "abuja nigeria baghdad iraq\n",
            "abuja nigeria baku azerbaijan\n",
            "abuja nigeria bamako mali\n",
            "abuja nigeria bangkok thailand\n",
            "abuja nigeria banjul gambia\n"
          ]
        }
      ]
    },
    {
      "cell_type": "code",
      "source": [
        "cbows = []\n",
        "\n",
        "# for each corpus\n",
        "window_size = 1\n",
        "for sent in corpus_tokenized:\n",
        "    for i in range(window_size, len(sent) - window_size): \n",
        "        center_word = sent[i]\n",
        "        outside_words = [sent[i-1], sent[i+1]]  #window_size = 1\n",
        "        # center_word = sent[i]\n",
        "        cbows.append([outside_words, center_word])\n",
        "\n",
        "cbows[:15]"
      ],
      "metadata": {
        "colab": {
          "base_uri": "https://localhost:8080/"
        },
        "id": "745iSyM57K4o",
        "outputId": "2826b8c5-28fc-4fe5-e4d9-4e673e263cfe"
      },
      "execution_count": 58,
      "outputs": [
        {
          "output_type": "execute_result",
          "data": {
            "text/plain": [
              "[[['abuja', 'accra'], 'nigeria'],\n",
              " [['nigeria', 'ghana'], 'accra'],\n",
              " [['abuja', 'algiers'], 'nigeria'],\n",
              " [['nigeria', 'algeria'], 'algiers'],\n",
              " [['abuja', 'amman'], 'nigeria'],\n",
              " [['nigeria', 'jordan'], 'amman'],\n",
              " [['abuja', 'ankara'], 'nigeria'],\n",
              " [['nigeria', 'turkey'], 'ankara'],\n",
              " [['abuja', 'antananarivo'], 'nigeria'],\n",
              " [['nigeria', 'madagascar'], 'antananarivo'],\n",
              " [['abuja', 'apia'], 'nigeria'],\n",
              " [['nigeria', 'samoa'], 'apia'],\n",
              " [['abuja', 'ashgabat'], 'nigeria'],\n",
              " [['nigeria', 'turkmenistan'], 'ashgabat'],\n",
              " [['abuja', 'asmara'], 'nigeria']]"
            ]
          },
          "metadata": {},
          "execution_count": 58
        }
      ]
    },
    {
      "cell_type": "markdown",
      "source": [
        "## Modeling"
      ],
      "metadata": {
        "id": "f_Q7nRRR8nvJ"
      }
    },
    {
      "cell_type": "code",
      "source": [
        "def make_context_vector(outside_words, word2index):\n",
        "    idxs = [word2index[w] for w in outside_words]\n",
        "    return torch.tensor(idxs, dtype=torch.long)"
      ],
      "metadata": {
        "id": "mBid6cK57Krv"
      },
      "execution_count": 59,
      "outputs": []
    },
    {
      "cell_type": "code",
      "source": [
        "class CBOW(torch.nn.Module):\n",
        "    def __init__(self, vocab_size, embedding_size):\n",
        "        super(CBOW, self).__init__()\n",
        "\n",
        "        self.embedding = nn.Embedding(vocab_size, embedding_size)\n",
        "        self.linear = nn.Linear(embedding_size, vocab_size)\n",
        "        self.act_func = nn.LogSoftmax(dim = -1)\n",
        "        \n",
        "    def forward(self, inputs):\n",
        "        embeds = sum(self.embedding(inputs)).view(1,-1)\n",
        "        out = self.linear(embeds)\n",
        "        out = self.act_func(out)\n",
        "        return out\n",
        "\n",
        "    def get_word_emdedding(self, word):\n",
        "        word = torch.tensor([word2index[word]])\n",
        "        return self.embedding(word).view(1,-1)"
      ],
      "metadata": {
        "id": "00ASiWXBUMl2"
      },
      "execution_count": 60,
      "outputs": []
    },
    {
      "cell_type": "markdown",
      "source": [
        "## Training"
      ],
      "metadata": {
        "id": "XBn0a7Oy82jB"
      }
    },
    {
      "cell_type": "code",
      "source": [
        "embedding_size = 2\n",
        "model_cbow = CBOW(voc_size, embedding_size)"
      ],
      "metadata": {
        "id": "aH8G2auA8wYP"
      },
      "execution_count": 61,
      "outputs": []
    },
    {
      "cell_type": "code",
      "source": [
        "model_cbow"
      ],
      "metadata": {
        "colab": {
          "base_uri": "https://localhost:8080/"
        },
        "id": "US-y7X6285aK",
        "outputId": "2af77bf4-e3f1-4954-b21c-24ae654768d9"
      },
      "execution_count": 62,
      "outputs": [
        {
          "output_type": "execute_result",
          "data": {
            "text/plain": [
              "CBOW(\n",
              "  (embedding): Embedding(233, 2)\n",
              "  (linear): Linear(in_features=2, out_features=233, bias=True)\n",
              "  (act_func): LogSoftmax(dim=-1)\n",
              ")"
            ]
          },
          "metadata": {},
          "execution_count": 62
        }
      ]
    },
    {
      "cell_type": "code",
      "source": [
        "loss_function = nn.NLLLoss()\n",
        "optimizer = torch.optim.SGD(model_cbow.parameters(), lr=0.001)"
      ],
      "metadata": {
        "id": "WzHgv20u85oX"
      },
      "execution_count": 63,
      "outputs": []
    },
    {
      "cell_type": "code",
      "source": [
        "init_time = time.time()\n",
        "\n",
        "# training\n",
        "num_epochs = 500\n",
        "\n",
        "for epoch in range(num_epochs):\n",
        "\n",
        "    start_time = time.time()\n",
        "    loss = 0\n",
        "\n",
        "    for context, target in cbows:\n",
        "        context_vector = make_context_vector(context, word2index)\n",
        "        log_probs = model_cbow(context_vector)\n",
        "        loss += loss_function(log_probs, torch.tensor([word2index[target]]))\n",
        "\n",
        "    # optimizing at the end of each epoch\n",
        "    optimizer.zero_grad()\n",
        "\n",
        "    loss.backward()\n",
        "    optimizer.step()\n",
        "\n",
        "    epoch_time = time.time() - start_time\n",
        "    \n",
        "    # print(f\"epoch: {epoch}, loss: {loss}\")\n",
        "    if (epoch + 1) % 100 == 0:\n",
        "        print(f\"Epoch: {epoch + 1} | cost: {loss:.6f} | time: {epoch_time}\")\n",
        "\n",
        "total_time = time.time() - init_time\n",
        "print('Total training time:', total_time)"
      ],
      "metadata": {
        "colab": {
          "base_uri": "https://localhost:8080/"
        },
        "id": "1CtBIHu79YzW",
        "outputId": "29484bb5-037c-4618-f187-165a5dc9f203"
      },
      "execution_count": 65,
      "outputs": [
        {
          "output_type": "stream",
          "name": "stdout",
          "text": [
            "Epoch: 100 | cost: 41415.515625 | time: 1.3183281421661377\n",
            "Epoch: 200 | cost: 37173.191406 | time: 1.3039588928222656\n",
            "Epoch: 300 | cost: 33425.757812 | time: 1.2783842086791992\n",
            "Epoch: 400 | cost: 31378.566406 | time: 1.3880329132080078\n",
            "Epoch: 500 | cost: 30344.869141 | time: 1.385666847229004\n",
            "Total training time: 669.2909362316132\n"
          ]
        }
      ]
    },
    {
      "cell_type": "markdown",
      "source": [
        "## Skipgram Negative Sampling"
      ],
      "metadata": {
        "id": "Jf_Nx31FLM3U"
      }
    },
    {
      "cell_type": "markdown",
      "source": [
        "### Unigram Distribution"
      ],
      "metadata": {
        "id": "UsPAcvv7LQvN"
      }
    },
    {
      "cell_type": "code",
      "source": [
        "Z = 0.001\n",
        "\n",
        "from collections import Counter\n",
        "\n",
        "word_count = Counter(flatten(corpus_tokenized))\n",
        "num_total_words = sum([c for w, c in word_count.items()])"
      ],
      "metadata": {
        "id": "W1eE8Qcf9Yvc"
      },
      "execution_count": 66,
      "outputs": []
    },
    {
      "cell_type": "code",
      "source": [
        "# word_count['laos']"
      ],
      "metadata": {
        "id": "rW4t9Ye-8wdO"
      },
      "execution_count": 67,
      "outputs": []
    },
    {
      "cell_type": "code",
      "source": [
        "num_total_words "
      ],
      "metadata": {
        "colab": {
          "base_uri": "https://localhost:8080/"
        },
        "id": "0GR9YrwFLoWZ",
        "outputId": "77c6397f-b7f9-40c4-d681-91bfa702d48b"
      },
      "execution_count": 68,
      "outputs": [
        {
          "output_type": "execute_result",
          "data": {
            "text/plain": [
              "18096"
            ]
          },
          "metadata": {},
          "execution_count": 68
        }
      ]
    },
    {
      "cell_type": "code",
      "source": [
        "unigram_table = []\n",
        "\n",
        "for vo in vocabs:\n",
        "    unigram_table.extend([vo] * int(((word_count[vo]/num_total_words)**0.75)/Z))"
      ],
      "metadata": {
        "id": "qe73Y9vJLoRL"
      },
      "execution_count": 69,
      "outputs": []
    },
    {
      "cell_type": "code",
      "source": [
        "print(len(vocabs), len(unigram_table))"
      ],
      "metadata": {
        "colab": {
          "base_uri": "https://localhost:8080/"
        },
        "id": "7d_sf5ynznge",
        "outputId": "69ab7370-b9c8-47e0-a416-30e38f8f1d7c"
      },
      "execution_count": 70,
      "outputs": [
        {
          "output_type": "stream",
          "name": "stdout",
          "text": [
            "233 3712\n"
          ]
        }
      ]
    },
    {
      "cell_type": "code",
      "source": [
        "# Counter(unigram_table)"
      ],
      "metadata": {
        "id": "0HZEJAmWLoIT"
      },
      "execution_count": 71,
      "outputs": []
    },
    {
      "cell_type": "markdown",
      "source": [
        "## Negative Sampling"
      ],
      "metadata": {
        "id": "wACbYFTGMgC1"
      }
    },
    {
      "cell_type": "code",
      "source": [
        "import random\n",
        "\n",
        "def prepare_sequence(seq, word2index):\n",
        "    idxs = list(map(lambda w: word2index[w] if word2index.get(w) is not None else word2index[\"\"], seq))\n",
        "    return torch.LongTensor(idxs)\n",
        "\n",
        "def negative_sampling(targets, unigram_table, k):\n",
        "    batch_size = targets.size(0)\n",
        "    neg_samples = []\n",
        "    for i in range(batch_size):\n",
        "        nsample = []\n",
        "        target_index = targets[i].item()\n",
        "        while len(nsample) < k: # num of sampling\n",
        "            neg = random.choice(unigram_table)\n",
        "            if word2index[neg] == target_index:\n",
        "                continue\n",
        "            nsample.append(neg)\n",
        "        neg_samples.append(prepare_sequence(nsample, word2index).view(1, -1))\n",
        "    \n",
        "    return torch.cat(neg_samples)"
      ],
      "metadata": {
        "id": "DgOb7D_5MbIE"
      },
      "execution_count": 72,
      "outputs": []
    },
    {
      "cell_type": "markdown",
      "source": [
        "## Testing"
      ],
      "metadata": {
        "id": "uTLEB7R0MqcI"
      }
    },
    {
      "cell_type": "code",
      "source": [
        "input_batch, label_batch = random_batch(batch_size, skipgrams)\n",
        "input_batch  = torch.Tensor(input_batch)\n",
        "label_batch = torch.LongTensor(label_batch)"
      ],
      "metadata": {
        "id": "eSxr1vrxMbDc"
      },
      "execution_count": 73,
      "outputs": []
    },
    {
      "cell_type": "code",
      "source": [
        "label_batch.shape"
      ],
      "metadata": {
        "colab": {
          "base_uri": "https://localhost:8080/"
        },
        "id": "1l8jbS9JMa-O",
        "outputId": "ba5001e8-2c72-44a7-f41d-b29e48053bc5"
      },
      "execution_count": 74,
      "outputs": [
        {
          "output_type": "execute_result",
          "data": {
            "text/plain": [
              "torch.Size([2, 1])"
            ]
          },
          "metadata": {},
          "execution_count": 74
        }
      ]
    },
    {
      "cell_type": "code",
      "source": [
        "num_neg = 3\n",
        "negative_sampling(label_batch, unigram_table, num_neg)"
      ],
      "metadata": {
        "colab": {
          "base_uri": "https://localhost:8080/"
        },
        "id": "vOuobofLyuc7",
        "outputId": "8cd381b2-f731-4808-ab5a-333d3aa2e45a"
      },
      "execution_count": 75,
      "outputs": [
        {
          "output_type": "execute_result",
          "data": {
            "text/plain": [
              "tensor([[  4, 229, 163],\n",
              "        [200,   9,  87]])"
            ]
          },
          "metadata": {},
          "execution_count": 75
        }
      ]
    },
    {
      "cell_type": "markdown",
      "source": [
        "## Modeling"
      ],
      "metadata": {
        "id": "JLxs3rr9M6br"
      }
    },
    {
      "cell_type": "code",
      "source": [
        "class SkipgramNegSampling(nn.Module):\n",
        "    \n",
        "    def __init__(self, vocab_size, emb_size):\n",
        "        super(SkipgramNegSampling, self).__init__()\n",
        "        self.embedding_center_word  = nn.Embedding(vocab_size, emb_size)  # center embedding\n",
        "        self.embedding_outside_word = nn.Embedding(vocab_size, emb_size)  # outside embedding\n",
        "        self.logsigmoid = nn.LogSigmoid()\n",
        "                    \n",
        "    def forward(self, center_words, outside_words, negative_words):\n",
        "        center_word_embed  = self.embedding_center_word(center_words)     # (batch_size, 1, emb_size)\n",
        "        outside_word_embed = self.embedding_outside_word(outside_words)   # (batch_size, 1, emb_size)\n",
        "        # all_vocabs_embed   = self.embedding_outside_word(all_vocabs)\n",
        "        neg_embeds    = -self.embedding_outside_word(negative_words)  # [batch_size, num_neg, emb_size]\n",
        "        \n",
        "        positive_score = outside_word_embed.bmm(center_word_embed.transpose(1, 2)).squeeze(2)\n",
        "        # [batch_size, 1, emb_size] @ [batch_size, emb_size, 1] = [batch_size, 1, 1] = [batch_size, 1]\n",
        "        \n",
        "        negative_score = neg_embeds.bmm(center_word_embed.transpose(1, 2))\n",
        "        # [batch_size, k, emb_size] @ [batch_size, emb_size, 1] = [batch_size, k, 1]\n",
        "        \n",
        "        loss = self.logsigmoid(positive_score) + torch.sum(self.logsigmoid(negative_score), 1)\n",
        "                \n",
        "        return -torch.mean(loss)\n",
        "    \n",
        "    def prediction(self, inputs):\n",
        "        embeds = self.embedding_v(inputs)\n",
        "        return embeds"
      ],
      "metadata": {
        "id": "TSAMSRgTMvm6"
      },
      "execution_count": 76,
      "outputs": []
    },
    {
      "cell_type": "markdown",
      "source": [
        "## Training"
      ],
      "metadata": {
        "id": "sTpfDVX5NKui"
      }
    },
    {
      "cell_type": "code",
      "source": [
        "len(vocabs)"
      ],
      "metadata": {
        "colab": {
          "base_uri": "https://localhost:8080/"
        },
        "id": "PCZQlw2wM-zm",
        "outputId": "808abfa8-56ae-4cbe-f30e-8710e063f148"
      },
      "execution_count": 77,
      "outputs": [
        {
          "output_type": "execute_result",
          "data": {
            "text/plain": [
              "233"
            ]
          },
          "metadata": {},
          "execution_count": 77
        }
      ]
    },
    {
      "cell_type": "code",
      "source": [
        "batch_size = 2 # mini-batch size\n",
        "embedding_size = 2 # so we can later plot\n",
        "model_negskip = SkipgramNegSampling(len(vocabs), embedding_size)\n",
        "num_neg = 10 # num of negative sampling\n",
        "\n",
        "optimizer = optim.Adam(model_negskip.parameters(), lr=0.001)"
      ],
      "metadata": {
        "id": "LF-7XLVlM-r7"
      },
      "execution_count": 78,
      "outputs": []
    },
    {
      "cell_type": "code",
      "source": [
        "model_negskip"
      ],
      "metadata": {
        "colab": {
          "base_uri": "https://localhost:8080/"
        },
        "id": "fKUfdo3GM-mr",
        "outputId": "88d729e6-01ba-4896-965f-7caa62157ab2"
      },
      "execution_count": 79,
      "outputs": [
        {
          "output_type": "execute_result",
          "data": {
            "text/plain": [
              "SkipgramNegSampling(\n",
              "  (embedding_center_word): Embedding(233, 2)\n",
              "  (embedding_outside_word): Embedding(233, 2)\n",
              "  (logsigmoid): LogSigmoid()\n",
              ")"
            ]
          },
          "metadata": {},
          "execution_count": 79
        }
      ]
    },
    {
      "cell_type": "code",
      "source": [
        "def epoch_time(start_time, end_time):\n",
        "    elapsed_time = end_time - start_time\n",
        "    elapsed_mins = int(elapsed_time / 60)\n",
        "    elapsed_secs = int(elapsed_time - (elapsed_mins * 60))\n",
        "    return elapsed_mins, elapsed_secs"
      ],
      "metadata": {
        "id": "ly7R3xAFNVcy"
      },
      "execution_count": 80,
      "outputs": []
    },
    {
      "cell_type": "code",
      "source": [
        "import time\n",
        "\n",
        "init_time = time.time()\n",
        "\n",
        "# Training\n",
        "num_epochs = 500\n",
        "for epoch in range(num_epochs):\n",
        "    \n",
        "    start_time = time.time()\n",
        "    \n",
        "    input_batch, target_batch = random_batch(batch_size, corpus)\n",
        "    \n",
        "    # input_batch: [batch_size, 1]\n",
        "    input_batch = torch.LongTensor(input_batch)\n",
        "    \n",
        "    # target_batch: [batch_size, 1]\n",
        "    target_batch = torch.LongTensor(target_batch)\n",
        "    \n",
        "    # negs_batch:   [batch_size, num_neg]\n",
        "    negs_batch = negative_sampling(label_batch, unigram_table, 3)\n",
        "    \n",
        "    optimizer.zero_grad()\n",
        "    loss = model_negskip(input_batch, target_batch, negs_batch)\n",
        "    \n",
        "    loss.backward()\n",
        "    optimizer.step()\n",
        "\n",
        "    epoch_time = time.time() - start_time\n",
        "\n",
        "    if (epoch + 1) % 100 == 0:\n",
        "        print(f\"Epoch: {epoch + 1} | cost: {loss:.6f} | time: {epoch_time}\")\n",
        "\n",
        "total_time = time.time() - init_time\n",
        "print('Total training time:', total_time)"
      ],
      "metadata": {
        "colab": {
          "base_uri": "https://localhost:8080/"
        },
        "id": "dv02_xOINVSC",
        "outputId": "8845f85f-bc3a-4a0d-e45a-981dd51220b2"
      },
      "execution_count": 81,
      "outputs": [
        {
          "output_type": "stream",
          "name": "stdout",
          "text": [
            "Epoch: 100 | cost: 3.762082 | time: 0.008454561233520508\n",
            "Epoch: 200 | cost: 2.882914 | time: 0.008686304092407227\n",
            "Epoch: 300 | cost: 3.929060 | time: 0.008050918579101562\n",
            "Epoch: 400 | cost: 3.554242 | time: 0.07970285415649414\n",
            "Epoch: 500 | cost: 2.951934 | time: 0.00780797004699707\n",
            "Total training time: 11.20199465751648\n"
          ]
        }
      ]
    },
    {
      "cell_type": "markdown",
      "source": [
        "# GloVe"
      ],
      "metadata": {
        "id": "KnedhzCQ4IqM"
      }
    },
    {
      "cell_type": "markdown",
      "source": [
        "## Co-occurrence matrix"
      ],
      "metadata": {
        "id": "dnGazDJOPeiA"
      }
    },
    {
      "cell_type": "code",
      "source": [
        "# using Counter to first count stuffs\n",
        "from collections import Counter\n",
        "\n",
        "# print(corpus_tokenized)\n",
        "\n",
        "# counting the frequency of each word....\n",
        "# we somehow need this to calculate the probability Pi\n",
        "X_i = Counter(flatten(corpus_tokenized)) # merging all list....(flatten is a function I define.....)\n",
        "\n",
        "# X_i['apple'] #get the probability of apple"
      ],
      "metadata": {
        "id": "L38brXnlPiGb"
      },
      "execution_count": 82,
      "outputs": []
    },
    {
      "cell_type": "code",
      "source": [
        "corpus_tokenized[:15]"
      ],
      "metadata": {
        "colab": {
          "base_uri": "https://localhost:8080/"
        },
        "id": "2JhoMhNsQDc_",
        "outputId": "4fccd8ee-c923-4b08-a2be-3a9fba096bf1"
      },
      "execution_count": 83,
      "outputs": [
        {
          "output_type": "execute_result",
          "data": {
            "text/plain": [
              "[['abuja', 'nigeria', 'accra', 'ghana'],\n",
              " ['abuja', 'nigeria', 'algiers', 'algeria'],\n",
              " ['abuja', 'nigeria', 'amman', 'jordan'],\n",
              " ['abuja', 'nigeria', 'ankara', 'turkey'],\n",
              " ['abuja', 'nigeria', 'antananarivo', 'madagascar'],\n",
              " ['abuja', 'nigeria', 'apia', 'samoa'],\n",
              " ['abuja', 'nigeria', 'ashgabat', 'turkmenistan'],\n",
              " ['abuja', 'nigeria', 'asmara', 'eritrea'],\n",
              " ['abuja', 'nigeria', 'astana', 'kazakhstan'],\n",
              " ['abuja', 'nigeria', 'athens', 'greece'],\n",
              " ['abuja', 'nigeria', 'baghdad', 'iraq'],\n",
              " ['abuja', 'nigeria', 'baku', 'azerbaijan'],\n",
              " ['abuja', 'nigeria', 'bamako', 'mali'],\n",
              " ['abuja', 'nigeria', 'bangkok', 'thailand'],\n",
              " ['abuja', 'nigeria', 'banjul', 'gambia']]"
            ]
          },
          "metadata": {},
          "execution_count": 83
        }
      ]
    },
    {
      "cell_type": "code",
      "source": [
        "# defining a skipgram of window size 1\n",
        "skip_grams = []\n",
        "\n",
        "# looping through each corpus\n",
        "for sent in corpus_tokenized:  #['apple', 'banana', 'fruit']\n",
        "    # looping through each word from 1 to n-1 (because 0 and n has no context window)\n",
        "    for i in range(1, len(sent)-1):\n",
        "        target  = sent[i]\n",
        "        context = [sent[i+1], sent[i-1]]\n",
        "        # appending(i, i+1) and (i, i-1)\n",
        "        for c in context:\n",
        "            skip_grams.append((target, c))"
      ],
      "metadata": {
        "id": "bewTahQsQG82"
      },
      "execution_count": 84,
      "outputs": []
    },
    {
      "cell_type": "code",
      "source": [
        "corpus_tokenized[:15]"
      ],
      "metadata": {
        "colab": {
          "base_uri": "https://localhost:8080/"
        },
        "id": "QjqP-VTXQZrP",
        "outputId": "a59382d5-ba11-4aec-d592-d8fb3f0cebda"
      },
      "execution_count": 85,
      "outputs": [
        {
          "output_type": "execute_result",
          "data": {
            "text/plain": [
              "[['abuja', 'nigeria', 'accra', 'ghana'],\n",
              " ['abuja', 'nigeria', 'algiers', 'algeria'],\n",
              " ['abuja', 'nigeria', 'amman', 'jordan'],\n",
              " ['abuja', 'nigeria', 'ankara', 'turkey'],\n",
              " ['abuja', 'nigeria', 'antananarivo', 'madagascar'],\n",
              " ['abuja', 'nigeria', 'apia', 'samoa'],\n",
              " ['abuja', 'nigeria', 'ashgabat', 'turkmenistan'],\n",
              " ['abuja', 'nigeria', 'asmara', 'eritrea'],\n",
              " ['abuja', 'nigeria', 'astana', 'kazakhstan'],\n",
              " ['abuja', 'nigeria', 'athens', 'greece'],\n",
              " ['abuja', 'nigeria', 'baghdad', 'iraq'],\n",
              " ['abuja', 'nigeria', 'baku', 'azerbaijan'],\n",
              " ['abuja', 'nigeria', 'bamako', 'mali'],\n",
              " ['abuja', 'nigeria', 'bangkok', 'thailand'],\n",
              " ['abuja', 'nigeria', 'banjul', 'gambia']]"
            ]
          },
          "metadata": {},
          "execution_count": 85
        }
      ]
    },
    {
      "cell_type": "code",
      "source": [
        "skip_grams[:15]"
      ],
      "metadata": {
        "colab": {
          "base_uri": "https://localhost:8080/"
        },
        "id": "n1EtHKlLQgZt",
        "outputId": "a977611d-1f0c-4eff-9f0c-1fb1be3a50e9"
      },
      "execution_count": 86,
      "outputs": [
        {
          "output_type": "execute_result",
          "data": {
            "text/plain": [
              "[('nigeria', 'accra'),\n",
              " ('nigeria', 'abuja'),\n",
              " ('accra', 'ghana'),\n",
              " ('accra', 'nigeria'),\n",
              " ('nigeria', 'algiers'),\n",
              " ('nigeria', 'abuja'),\n",
              " ('algiers', 'algeria'),\n",
              " ('algiers', 'nigeria'),\n",
              " ('nigeria', 'amman'),\n",
              " ('nigeria', 'abuja'),\n",
              " ('amman', 'jordan'),\n",
              " ('amman', 'nigeria'),\n",
              " ('nigeria', 'ankara'),\n",
              " ('nigeria', 'abuja'),\n",
              " ('ankara', 'turkey')]"
            ]
          },
          "metadata": {},
          "execution_count": 86
        }
      ]
    },
    {
      "cell_type": "code",
      "source": [
        "# since we have these occurrences, we can count, to make our co-occurrence matrix!!!\n",
        "X_ik_skipgram = Counter(skip_grams)\n",
        "# X_ik_skipgram"
      ],
      "metadata": {
        "id": "6r-zS6-lQmQI"
      },
      "execution_count": 87,
      "outputs": []
    },
    {
      "cell_type": "code",
      "source": [
        "X_ik_skipgram[('algiers', 'algeria')]"
      ],
      "metadata": {
        "colab": {
          "base_uri": "https://localhost:8080/"
        },
        "id": "5L3NPlaZQqlk",
        "outputId": "a02fa340-d4d5-4e92-8c13-1dbb95e4a648"
      },
      "execution_count": 88,
      "outputs": [
        {
          "output_type": "execute_result",
          "data": {
            "text/plain": [
              "39"
            ]
          },
          "metadata": {},
          "execution_count": 88
        }
      ]
    },
    {
      "cell_type": "code",
      "source": [
        "X_ik_skipgram[('ankara', 'turkey')]"
      ],
      "metadata": {
        "colab": {
          "base_uri": "https://localhost:8080/"
        },
        "id": "TgQ_nrZqQrBh",
        "outputId": "0f5e6810-19ff-40cb-8380-4ab70943f9b3"
      },
      "execution_count": 89,
      "outputs": [
        {
          "output_type": "execute_result",
          "data": {
            "text/plain": [
              "39"
            ]
          },
          "metadata": {},
          "execution_count": 89
        }
      ]
    },
    {
      "cell_type": "markdown",
      "source": [
        "## Weighting Function f"
      ],
      "metadata": {
        "id": "6god_O7JQ6V9"
      }
    },
    {
      "cell_type": "code",
      "source": [
        "def weighting(w_i, w_j, X_ik):   # we need w_i and w_j, because we can try its co-occurrences, if it's too big, we scale it down\n",
        "    \n",
        "    # checking whether the co-occurrences between these two word exists???\n",
        "    try:\n",
        "        x_ij = X_ik[(w_i, w_j)]\n",
        "    except:\n",
        "        x_ij = 1  # why one, so that the probability thingy won't break...(label smoothing)\n",
        "        \n",
        "    # maximum co-occurrences; we follow the paper\n",
        "    x_max = 100\n",
        "    alpha = 0.75\n",
        "    \n",
        "    # if the co-occurrences does not exceed x_max, scale it down based on some alpha\n",
        "    if x_ij < x_max:\n",
        "        result = (x_ij/x_max) ** alpha\n",
        "    else:\n",
        "        result = 1 # this is the maximum probability we can have\n",
        "        \n",
        "    return result"
      ],
      "metadata": {
        "id": "XdMPBQ2mQzDO"
      },
      "execution_count": 90,
      "outputs": []
    },
    {
      "cell_type": "code",
      "source": [
        "w_i  = 'turkey'\n",
        "w_j  = 'ankara'\n",
        "w_j2 = 'bangkok'\n",
        "\n",
        "print(weighting(w_i, w_j, X_ik_skipgram))   # scales from 1 to 0.0316\n",
        "print(weighting(w_i, w_j2, X_ik_skipgram))  # the paper says that f(0) = 0"
      ],
      "metadata": {
        "colab": {
          "base_uri": "https://localhost:8080/"
        },
        "id": "ICGdKA3fRIq5",
        "outputId": "6833adba-f650-4d72-d7a7-4a634c2a4616"
      },
      "execution_count": 93,
      "outputs": [
        {
          "output_type": "stream",
          "name": "stdout",
          "text": [
            "0.4935128386754873\n",
            "0.03162277660168379\n"
          ]
        }
      ]
    },
    {
      "cell_type": "code",
      "source": [
        "vocabs[:15]"
      ],
      "metadata": {
        "colab": {
          "base_uri": "https://localhost:8080/"
        },
        "id": "qkeDzb1DROEF",
        "outputId": "e1d6867e-6016-48cf-dcb2-fc2f78a6cc82"
      },
      "execution_count": 94,
      "outputs": [
        {
          "output_type": "execute_result",
          "data": {
            "text/plain": [
              "['suva',\n",
              " 'germany',\n",
              " 'rome',\n",
              " 'muscat',\n",
              " 'algiers',\n",
              " 'podgorica',\n",
              " 'zimbabwe',\n",
              " 'roseau',\n",
              " 'dhaka',\n",
              " 'jakarta',\n",
              " 'laos',\n",
              " 'montenegro',\n",
              " 'namibia',\n",
              " 'kazakhstan',\n",
              " 'romania']"
            ]
          },
          "metadata": {},
          "execution_count": 94
        }
      ]
    },
    {
      "cell_type": "code",
      "source": [
        "# applying this weighting to all possible pairs\n",
        "from itertools import combinations_with_replacement\n",
        "\n",
        "X_ik = {} # for keeping the co-occurrences\n",
        "weighting_dic = {} # for keeping all the probability after passing through the weighting function\n",
        "\n",
        "for bigram in combinations_with_replacement(vocabs, 2):  # we need to also think its reverse\n",
        "    # if this bigram exists in X_ik_skipgrams\n",
        "    # we gonna add this to our co-occurence matrix\n",
        "    if X_ik_skipgram.get(bigram) is not None:\n",
        "        cooc = X_ik_skipgram[bigram]  # getting the co-occurrence\n",
        "        X_ik[bigram] = cooc + 1 # this is again basically label smoothing....(stability issues (especially when divide something))\n",
        "        X_ik[(bigram[1], bigram[0])] = cooc + 1  # trick to get all pairs\n",
        "    else: # otherwise, do nothing\n",
        "        pass\n",
        "    \n",
        "    # applying the weighting function using this co-occurrence matrix thingy    \n",
        "    weighting_dic[bigram] = weighting(bigram[0], bigram[1], X_ik)\n",
        "    weighting_dic[(bigram[1], bigram[0])] = weighting(bigram[1], bigram[0], X_ik)"
      ],
      "metadata": {
        "id": "lnPaUyXOROJ7"
      },
      "execution_count": 95,
      "outputs": []
    },
    {
      "cell_type": "code",
      "source": [
        "len(X_ik_skipgram)"
      ],
      "metadata": {
        "colab": {
          "base_uri": "https://localhost:8080/"
        },
        "id": "x6cQ_c4jROPY",
        "outputId": "f444d186-4c03-4c16-82ef-eeac076ad405"
      },
      "execution_count": 96,
      "outputs": [
        {
          "output_type": "execute_result",
          "data": {
            "text/plain": [
              "9280"
            ]
          },
          "metadata": {},
          "execution_count": 96
        }
      ]
    },
    {
      "cell_type": "code",
      "source": [
        "# X_ik"
      ],
      "metadata": {
        "id": "1xmBrilTROVH"
      },
      "execution_count": 97,
      "outputs": []
    },
    {
      "cell_type": "markdown",
      "source": [
        "## Preparing Train Data"
      ],
      "metadata": {
        "id": "z---697-Rxup"
      }
    },
    {
      "cell_type": "code",
      "source": [
        "for c in corpus_tokenized[:10]:\n",
        "    print(c)"
      ],
      "metadata": {
        "colab": {
          "base_uri": "https://localhost:8080/"
        },
        "id": "UESz6cv6ROaY",
        "outputId": "e23adc7e-8241-476e-d93c-76cccf0a705e"
      },
      "execution_count": 98,
      "outputs": [
        {
          "output_type": "stream",
          "name": "stdout",
          "text": [
            "['abuja', 'nigeria', 'accra', 'ghana']\n",
            "['abuja', 'nigeria', 'algiers', 'algeria']\n",
            "['abuja', 'nigeria', 'amman', 'jordan']\n",
            "['abuja', 'nigeria', 'ankara', 'turkey']\n",
            "['abuja', 'nigeria', 'antananarivo', 'madagascar']\n",
            "['abuja', 'nigeria', 'apia', 'samoa']\n",
            "['abuja', 'nigeria', 'ashgabat', 'turkmenistan']\n",
            "['abuja', 'nigeria', 'asmara', 'eritrea']\n",
            "['abuja', 'nigeria', 'astana', 'kazakhstan']\n",
            "['abuja', 'nigeria', 'athens', 'greece']\n"
          ]
        }
      ]
    },
    {
      "cell_type": "code",
      "source": [
        "skip_grams[:10]"
      ],
      "metadata": {
        "colab": {
          "base_uri": "https://localhost:8080/"
        },
        "id": "1UBjUtkrbs7u",
        "outputId": "0d69a18c-ab57-4f4f-fe93-4fc445c0e4a5"
      },
      "execution_count": 99,
      "outputs": [
        {
          "output_type": "execute_result",
          "data": {
            "text/plain": [
              "[('nigeria', 'accra'),\n",
              " ('nigeria', 'abuja'),\n",
              " ('accra', 'ghana'),\n",
              " ('accra', 'nigeria'),\n",
              " ('nigeria', 'algiers'),\n",
              " ('nigeria', 'abuja'),\n",
              " ('algiers', 'algeria'),\n",
              " ('algiers', 'nigeria'),\n",
              " ('nigeria', 'amman'),\n",
              " ('nigeria', 'abuja')]"
            ]
          },
          "metadata": {},
          "execution_count": 99
        }
      ]
    },
    {
      "cell_type": "code",
      "source": [
        "import math\n",
        "\n",
        "def random_batch(batch_size, word_sequence, skip_grams, X_ik, weighting_dic):\n",
        "    \n",
        "    # looping through this skipgram, and changing it to id  because when sending model, it must have a number\n",
        "    skip_grams_id = [(word2index[skip_gram[0]], word2index[skip_gram[1]]) for skip_gram in skip_grams]\n",
        "    \n",
        "    # randomly picking \"batch_size\" indexes\n",
        "    number_of_choices = len(skip_grams_id)\n",
        "    random_index = np.random.choice(number_of_choices, batch_size, replace=False) # no repeating indexes among these random indexes\n",
        "    \n",
        "    random_inputs = [] #xi, wi (in batches)\n",
        "    random_labels = [] #xj, wj (in batches)\n",
        "    random_coocs  = [] #Xij (in batches)\n",
        "    random_weighting = [] #f(Xij) (in batches)\n",
        "    # for each of the sample in these indexes\n",
        "    for i in random_index:\n",
        "        random_inputs.append([skip_grams_id[i][0]]) # same reason why i put bracket here....\n",
        "        random_labels.append([skip_grams_id[i][1]])\n",
        "        \n",
        "        # getting cooc\n",
        "        # first checking whether it exists...\n",
        "        pair = skip_grams[i]  #e.g., ('banana', 'fruit)\n",
        "        try:\n",
        "            cooc = X_ik[pair]\n",
        "        except:\n",
        "            cooc = 1 #label smoothing\n",
        "            \n",
        "        random_coocs.append([math.log(cooc)])  # 1. why log, # 2. why bracket -> size ==> (, 1)  # my neural network expects (, 1)\n",
        "        \n",
        "        # getting weighting\n",
        "        weighting = weighting_dic[pair]  # why not use try....maybe it does not exist....\n",
        "        random_weighting.append(weighting)\n",
        "\n",
        "        \n",
        "    return np.array(random_inputs), np.array(random_labels), np.array(random_coocs), np.array(random_weighting)\n",
        "    "
      ],
      "metadata": {
        "id": "KOCJlU9ebtBR"
      },
      "execution_count": 100,
      "outputs": []
    },
    {
      "cell_type": "code",
      "source": [
        "batch_size = 2\n",
        "input, target, cooc, weightin = random_batch(batch_size, corpus_tokenized, skip_grams, X_ik, weighting_dic)"
      ],
      "metadata": {
        "id": "KJTLyRzzbtGO"
      },
      "execution_count": 101,
      "outputs": []
    },
    {
      "cell_type": "code",
      "source": [
        "input, target, cooc, weightin"
      ],
      "metadata": {
        "colab": {
          "base_uri": "https://localhost:8080/"
        },
        "id": "lN3TAgyucYAQ",
        "outputId": "18f68a50-2a70-46e8-f359-c28efdc20e0a"
      },
      "execution_count": 102,
      "outputs": [
        {
          "output_type": "execute_result",
          "data": {
            "text/plain": [
              "(array([[ 75],\n",
              "        [114]]), array([[159],\n",
              "        [107]]), array([[0.69314718],\n",
              "        [0.69314718]]), array([0.05318296, 0.05318296]))"
            ]
          },
          "metadata": {},
          "execution_count": 102
        }
      ]
    },
    {
      "cell_type": "markdown",
      "source": [
        "## Modeling"
      ],
      "metadata": {
        "id": "5mmYVWlhhhdm"
      }
    },
    {
      "cell_type": "code",
      "source": [
        "class GloVe(nn.Module):\n",
        "    \n",
        "    def __init__(self, vocab_size,embed_size):\n",
        "        super(GloVe,self).__init__()\n",
        "        self.embedding_v = nn.Embedding(vocab_size, embed_size) # center embedding\n",
        "        self.embedding_u = nn.Embedding(vocab_size, embed_size) # out embedding\n",
        "        \n",
        "        self.v_bias = nn.Embedding(vocab_size, 1)\n",
        "        self.u_bias = nn.Embedding(vocab_size, 1)\n",
        "        \n",
        "    def forward(self, center_words, target_words, coocs, weighting):\n",
        "        center_embeds = self.embedding_v(center_words) # [batch_size, 1, emb_size]\n",
        "        target_embeds = self.embedding_u(target_words) # [batch_size, 1, emb_size]\n",
        "        \n",
        "        center_bias = self.v_bias(center_words).squeeze(1)\n",
        "        target_bias = self.u_bias(target_words).squeeze(1)\n",
        "        \n",
        "        inner_product = target_embeds.bmm(center_embeds.transpose(1, 2)).squeeze(2)\n",
        "        #[batch_size, 1, emb_size] @ [batch_size, emb_size, 1] = [batch_size, 1, 1] = [batch_size, 1]\n",
        "        \n",
        "        #note that coocs already got log\n",
        "        loss = weighting*torch.pow(inner_product +center_bias + target_bias - coocs, 2)\n",
        "        \n",
        "        return torch.sum(loss)"
      ],
      "metadata": {
        "id": "xWBYbQ0zhknV"
      },
      "execution_count": 103,
      "outputs": []
    },
    {
      "cell_type": "markdown",
      "source": [
        "## Training"
      ],
      "metadata": {
        "id": "NcsleSEfjh2-"
      }
    },
    {
      "cell_type": "code",
      "source": [
        "voc_size = len(vocabs)\n",
        "batch_size = 2 # why?  no reason; \n",
        "emb_size = 2 # why?  no reason; usually 50, 100, 300, but 2 so we can plot (we can also plot 50, but we need to do PCA)\n",
        "model_glove = GloVe(voc_size, emb_size)\n",
        "\n",
        "optimizer = optim.Adam(model_glove.parameters(), lr=0.001)"
      ],
      "metadata": {
        "id": "4iYfZkyhjjdJ"
      },
      "execution_count": 104,
      "outputs": []
    },
    {
      "cell_type": "code",
      "source": [
        "def epoch_time(start_time, end_time):\n",
        "    elapsed_time = end_time - start_time\n",
        "    elapsed_mins = int(elapsed_time / 60)\n",
        "    elapsed_secs = int(elapsed_time - (elapsed_mins * 60))\n",
        "    return elapsed_mins, elapsed_secs"
      ],
      "metadata": {
        "id": "coJwAIgs6vJw"
      },
      "execution_count": 105,
      "outputs": []
    },
    {
      "cell_type": "code",
      "source": [
        "init_time = time.time()\n",
        "\n",
        "# training\n",
        "num_epochs = 500\n",
        "\n",
        "# for epoch\n",
        "for epoch in range(num_epochs):\n",
        "\n",
        "    start_time = time.time()\n",
        "\n",
        "    # getting random batch\n",
        "    input, target, cooc, weightin = random_batch(batch_size, corpus_tokenized, skip_grams, X_ik, weighting_dic)\n",
        "    input_batch = torch.LongTensor(input)\n",
        "    target_batch = torch.LongTensor(target)\n",
        "    cooc_batch = torch.FloatTensor(cooc)\n",
        "    weightin_batch = torch.FloatTensor(weightin)\n",
        "       \n",
        "    # print(input_batch.shape, label_batch.shape, cooc_batch.shape, weightin_batch)\n",
        "    \n",
        "    # loss = model\n",
        "    loss = model_glove(input_batch, target_batch, cooc_batch, weightin_batch)\n",
        "    \n",
        "    # backpropagation\n",
        "    loss.backward()\n",
        "    \n",
        "    # updating alpha\n",
        "    optimizer.step()\n",
        "    \n",
        "    epoch_time = time.time() - start_time\n",
        "\n",
        "    # printing epoch loss\n",
        "    if (epoch + 1) % 100 == 0:\n",
        "        print(f\"Epoch: {epoch + 1} | cost: {loss:.6f} | time: {epoch_time}\")\n",
        "\n",
        "total_time = time.time() - init_time\n",
        "print('Total training time:', total_time)"
      ],
      "metadata": {
        "colab": {
          "base_uri": "https://localhost:8080/"
        },
        "id": "1BOnWB5wnnpb",
        "outputId": "5bfff525-8028-409c-cfc9-5e2f1059fc5c"
      },
      "execution_count": 106,
      "outputs": [
        {
          "output_type": "stream",
          "name": "stdout",
          "text": [
            "Epoch: 100 | cost: 20.155556 | time: 0.004608869552612305\n",
            "Epoch: 200 | cost: 7.408614 | time: 0.004731655120849609\n",
            "Epoch: 300 | cost: 9.074599 | time: 0.004285335540771484\n",
            "Epoch: 400 | cost: 15.366471 | time: 0.0050508975982666016\n",
            "Epoch: 500 | cost: 2.309884 | time: 0.005628108978271484\n",
            "Total training time: 2.5065219402313232\n"
          ]
        }
      ]
    },
    {
      "cell_type": "markdown",
      "source": [
        "## Plot the Embeddings"
      ],
      "metadata": {
        "id": "ECcUcyEREVeH"
      }
    },
    {
      "cell_type": "code",
      "source": [
        "vocabs[:10]"
      ],
      "metadata": {
        "colab": {
          "base_uri": "https://localhost:8080/"
        },
        "id": "FHPztuxUn09f",
        "outputId": "f88ca6f0-c5a0-4039-9d3f-4f1ba191209c"
      },
      "execution_count": 109,
      "outputs": [
        {
          "output_type": "execute_result",
          "data": {
            "text/plain": [
              "['suva',\n",
              " 'germany',\n",
              " 'rome',\n",
              " 'muscat',\n",
              " 'algiers',\n",
              " 'podgorica',\n",
              " 'zimbabwe',\n",
              " 'roseau',\n",
              " 'dhaka',\n",
              " 'jakarta']"
            ]
          },
          "metadata": {},
          "execution_count": 109
        }
      ]
    },
    {
      "cell_type": "code",
      "source": [
        "rome = torch.LongTensor([word2index['rome']])\n",
        "rome"
      ],
      "metadata": {
        "colab": {
          "base_uri": "https://localhost:8080/"
        },
        "id": "0DB70zYuEb0p",
        "outputId": "c9111128-42b3-473d-9268-80dd59a177a6"
      },
      "execution_count": 110,
      "outputs": [
        {
          "output_type": "execute_result",
          "data": {
            "text/plain": [
              "tensor([2])"
            ]
          },
          "metadata": {},
          "execution_count": 110
        }
      ]
    },
    {
      "cell_type": "code",
      "source": [
        "rome_center_embed = model_glove.embedding_v(rome)\n",
        "rome_outisde_embed = model_glove.embedding_u(rome)\n",
        "\n",
        "rome_embed = (rome_center_embed + rome_outisde_embed) / 2\n",
        "rome_embed"
      ],
      "metadata": {
        "colab": {
          "base_uri": "https://localhost:8080/"
        },
        "id": "c2GGPtZfEb8q",
        "outputId": "93707908-f853-47fc-bdcb-4504b67d3798"
      },
      "execution_count": 111,
      "outputs": [
        {
          "output_type": "execute_result",
          "data": {
            "text/plain": [
              "tensor([[-1.2800, -0.9113]], grad_fn=<DivBackward0>)"
            ]
          },
          "metadata": {},
          "execution_count": 111
        }
      ]
    },
    {
      "cell_type": "code",
      "source": [
        "def get_embed(word):\n",
        "  \n",
        "    try:\n",
        "        index = word2index[word]\n",
        "    except:\n",
        "        index = word2index['<UNK>']\n",
        "    \n",
        "    word = torch.LongTensor([index])\n",
        "\n",
        "    center_embed  = model_glove.embedding_v(word)\n",
        "    outside_embed = model_glove.embedding_u(word)\n",
        "    \n",
        "    embed = (center_embed + outside_embed) / 2\n",
        "    \n",
        "    return  embed[0][0].item(), embed[0][1].item()"
      ],
      "metadata": {
        "id": "68eSosUiEmHo"
      },
      "execution_count": 319,
      "outputs": []
    },
    {
      "cell_type": "code",
      "source": [
        "# finding embedding of greece, jordan\n",
        "\n",
        "print(get_embed('greece'))\n",
        "print(get_embed('jordan'))"
      ],
      "metadata": {
        "colab": {
          "base_uri": "https://localhost:8080/"
        },
        "id": "-AJi3dzTEl35",
        "outputId": "44f0151a-2ee3-4ce7-ad25-78af1626dc0b"
      },
      "execution_count": 113,
      "outputs": [
        {
          "output_type": "stream",
          "name": "stdout",
          "text": [
            "(-1.1106390953063965, 0.20533239841461182)\n",
            "(1.6045583486557007, -0.22020083665847778)\n"
          ]
        }
      ]
    },
    {
      "cell_type": "code",
      "source": [
        "# plotting the words\n",
        "\n",
        "plt.figure(figsize=(20,15))\n",
        "for i, word in enumerate(vocabs[:20]): #loop each unique vocab\n",
        "    x, y = get_embed(word)\n",
        "    plt.scatter(x, y)\n",
        "    plt.annotate(word, xy=(x, y), xytext=(5, 2), textcoords='offset points')\n",
        "plt.show()"
      ],
      "metadata": {
        "id": "VuO5_E2YFGgD",
        "outputId": "38e4832f-d3b1-4329-cf1b-10c923e8f261",
        "colab": {
          "base_uri": "https://localhost:8080/",
          "height": 828
        }
      },
      "execution_count": 115,
      "outputs": [
        {
          "output_type": "display_data",
          "data": {
            "text/plain": [
              "<Figure size 1440x1080 with 1 Axes>"
            ],
            "image/png": "[encoded data removed]"
          },
          "metadata": {
            "needs_background": "light"
          }
        }
      ]
    },
    {
      "cell_type": "markdown",
      "source": [
        "## Loading Test Dataset"
      ],
      "metadata": {
        "id": "duJlCea0wBQr"
      }
    },
    {
      "cell_type": "code",
      "source": [
        "with open('questions-words.txt') as file:\n",
        "    test_data = [line.strip() for line in file.readlines() if line[0] != ':']"
      ],
      "metadata": {
        "id": "W8A8FlZiAor9"
      },
      "execution_count": 117,
      "outputs": []
    },
    {
      "cell_type": "code",
      "source": [
        "len(test_data)"
      ],
      "metadata": {
        "colab": {
          "base_uri": "https://localhost:8080/"
        },
        "id": "JBA2nZHUAo2y",
        "outputId": "ba2bfc79-4d77-4dfa-de4e-24cbd1c95c50"
      },
      "execution_count": 118,
      "outputs": [
        {
          "output_type": "execute_result",
          "data": {
            "text/plain": [
              "19544"
            ]
          },
          "metadata": {},
          "execution_count": 118
        }
      ]
    },
    {
      "cell_type": "code",
      "source": [
        "test_data[:10]"
      ],
      "metadata": {
        "colab": {
          "base_uri": "https://localhost:8080/"
        },
        "id": "CUha5oc8CKA5",
        "outputId": "6f92afc2-6fd5-4d26-e1bd-c26e02a2cdcc"
      },
      "execution_count": 119,
      "outputs": [
        {
          "output_type": "execute_result",
          "data": {
            "text/plain": [
              "['Athens Greece Baghdad Iraq',\n",
              " 'Athens Greece Bangkok Thailand',\n",
              " 'Athens Greece Beijing China',\n",
              " 'Athens Greece Berlin Germany',\n",
              " 'Athens Greece Bern Switzerland',\n",
              " 'Athens Greece Cairo Egypt',\n",
              " 'Athens Greece Canberra Australia',\n",
              " 'Athens Greece Hanoi Vietnam',\n",
              " 'Athens Greece Havana Cuba',\n",
              " 'Athens Greece Helsinki Finland']"
            ]
          },
          "metadata": {},
          "execution_count": 119
        }
      ]
    },
    {
      "cell_type": "code",
      "source": [
        "# tokenization\n",
        "\n",
        "testdata_tokenized = [sent.split(\" \") for sent in test_data]\n",
        "testdata_tokenized[:15]"
      ],
      "metadata": {
        "colab": {
          "base_uri": "https://localhost:8080/"
        },
        "id": "tx0IoWGVCcIF",
        "outputId": "8c48d8c9-9d32-45ab-a4dc-9ec97bde5d9f"
      },
      "execution_count": 120,
      "outputs": [
        {
          "output_type": "execute_result",
          "data": {
            "text/plain": [
              "[['Athens', 'Greece', 'Baghdad', 'Iraq'],\n",
              " ['Athens', 'Greece', 'Bangkok', 'Thailand'],\n",
              " ['Athens', 'Greece', 'Beijing', 'China'],\n",
              " ['Athens', 'Greece', 'Berlin', 'Germany'],\n",
              " ['Athens', 'Greece', 'Bern', 'Switzerland'],\n",
              " ['Athens', 'Greece', 'Cairo', 'Egypt'],\n",
              " ['Athens', 'Greece', 'Canberra', 'Australia'],\n",
              " ['Athens', 'Greece', 'Hanoi', 'Vietnam'],\n",
              " ['Athens', 'Greece', 'Havana', 'Cuba'],\n",
              " ['Athens', 'Greece', 'Helsinki', 'Finland'],\n",
              " ['Athens', 'Greece', 'Islamabad', 'Pakistan'],\n",
              " ['Athens', 'Greece', 'Kabul', 'Afghanistan'],\n",
              " ['Athens', 'Greece', 'London', 'England'],\n",
              " ['Athens', 'Greece', 'Madrid', 'Spain'],\n",
              " ['Athens', 'Greece', 'Moscow', 'Russia']]"
            ]
          },
          "metadata": {},
          "execution_count": 120
        }
      ]
    },
    {
      "cell_type": "code",
      "source": [
        "# numericalization\n",
        "\n",
        "# getting all the unique words\n",
        "# we want to flatten this (basically merge all list)\n",
        "\n",
        "flatten = lambda l: [item for sublist in l for item in sublist]\n",
        "test_vocabs  = list(set(flatten(testdata_tokenized)))  # vocabs is a term defining all unique words your system know"
      ],
      "metadata": {
        "id": "sgAzU1YvCwVc"
      },
      "execution_count": 121,
      "outputs": []
    },
    {
      "cell_type": "code",
      "source": [
        "test_vocabs[:10]"
      ],
      "metadata": {
        "colab": {
          "base_uri": "https://localhost:8080/"
        },
        "id": "C5IOIQKXFO4K",
        "outputId": "51b86460-e045-411a-a06c-3ef676458104"
      },
      "execution_count": 122,
      "outputs": [
        {
          "output_type": "execute_result",
          "data": {
            "text/plain": [
              "['calm',\n",
              " 'inconvenient',\n",
              " 'sharper',\n",
              " 'queen',\n",
              " 'rational',\n",
              " 'worse',\n",
              " 'swimming',\n",
              " 'undecided',\n",
              " 'woman',\n",
              " 'Cyprus']"
            ]
          },
          "metadata": {},
          "execution_count": 122
        }
      ]
    },
    {
      "cell_type": "markdown",
      "source": [
        "## Preparing Test Dataset"
      ],
      "metadata": {
        "id": "8SqVNe0IwO-3"
      }
    },
    {
      "cell_type": "code",
      "source": [
        "test_data = {}\n",
        "key = None\n",
        "value = []\n",
        "with open('questions-words.txt') as file:\n",
        "    for line in file.readlines():\n",
        "        if line[0] == \":\":\n",
        "            if key != None:\n",
        "                test_data[key] = value\n",
        "            key = line.strip()\n",
        "            value = []\n",
        "            continue\n",
        "        value.append(line.strip().lower())\n",
        "    test_data[key] = value"
      ],
      "metadata": {
        "id": "GGIu3H0id17T"
      },
      "execution_count": 123,
      "outputs": []
    },
    {
      "cell_type": "code",
      "source": [
        "len(test_data)"
      ],
      "metadata": {
        "colab": {
          "base_uri": "https://localhost:8080/"
        },
        "id": "WkhhE_xDeVr9",
        "outputId": "f207c63c-c97b-4bdb-e938-5ad2e626c852"
      },
      "execution_count": 127,
      "outputs": [
        {
          "output_type": "execute_result",
          "data": {
            "text/plain": [
              "14"
            ]
          },
          "metadata": {},
          "execution_count": 127
        }
      ]
    },
    {
      "cell_type": "code",
      "source": [
        "test_data.keys()"
      ],
      "metadata": {
        "colab": {
          "base_uri": "https://localhost:8080/"
        },
        "id": "-ws_9Ozterk-",
        "outputId": "ace9d828-bcd9-4b1d-8f32-78bc4a3feab6"
      },
      "execution_count": 129,
      "outputs": [
        {
          "output_type": "execute_result",
          "data": {
            "text/plain": [
              "dict_keys([': capital-common-countries', ': capital-world', ': currency', ': city-in-state', ': family', ': gram1-adjective-to-adverb', ': gram2-opposite', ': gram3-comparative', ': gram4-superlative', ': gram5-present-participle', ': gram6-nationality-adjective', ': gram7-past-tense', ': gram8-plural', ': gram9-plural-verbs'])"
            ]
          },
          "metadata": {},
          "execution_count": 129
        }
      ]
    },
    {
      "cell_type": "code",
      "source": [
        "test_data[': capital-common-countries'][:15]"
      ],
      "metadata": {
        "colab": {
          "base_uri": "https://localhost:8080/"
        },
        "id": "Im0F3fLyeze9",
        "outputId": "21e87ccc-c27b-4e8c-ceb8-0dae3c33a9d4"
      },
      "execution_count": 131,
      "outputs": [
        {
          "output_type": "execute_result",
          "data": {
            "text/plain": [
              "['athens greece baghdad iraq',\n",
              " 'athens greece bangkok thailand',\n",
              " 'athens greece beijing china',\n",
              " 'athens greece berlin germany',\n",
              " 'athens greece bern switzerland',\n",
              " 'athens greece cairo egypt',\n",
              " 'athens greece canberra australia',\n",
              " 'athens greece hanoi vietnam',\n",
              " 'athens greece havana cuba',\n",
              " 'athens greece helsinki finland',\n",
              " 'athens greece islamabad pakistan',\n",
              " 'athens greece kabul afghanistan',\n",
              " 'athens greece london england',\n",
              " 'athens greece madrid spain',\n",
              " 'athens greece moscow russia']"
            ]
          },
          "metadata": {},
          "execution_count": 131
        }
      ]
    },
    {
      "cell_type": "code",
      "source": [
        "test_data[': capital-world'][:15]"
      ],
      "metadata": {
        "colab": {
          "base_uri": "https://localhost:8080/"
        },
        "id": "_-gFxd7SezJ5",
        "outputId": "31b5984b-fd2c-46e9-9061-9ed35521911c"
      },
      "execution_count": 132,
      "outputs": [
        {
          "output_type": "execute_result",
          "data": {
            "text/plain": [
              "['abuja nigeria accra ghana',\n",
              " 'abuja nigeria algiers algeria',\n",
              " 'abuja nigeria amman jordan',\n",
              " 'abuja nigeria ankara turkey',\n",
              " 'abuja nigeria antananarivo madagascar',\n",
              " 'abuja nigeria apia samoa',\n",
              " 'abuja nigeria ashgabat turkmenistan',\n",
              " 'abuja nigeria asmara eritrea',\n",
              " 'abuja nigeria astana kazakhstan',\n",
              " 'abuja nigeria athens greece',\n",
              " 'abuja nigeria baghdad iraq',\n",
              " 'abuja nigeria baku azerbaijan',\n",
              " 'abuja nigeria bamako mali',\n",
              " 'abuja nigeria bangkok thailand',\n",
              " 'abuja nigeria banjul gambia']"
            ]
          },
          "metadata": {},
          "execution_count": 132
        }
      ]
    },
    {
      "cell_type": "markdown",
      "source": [
        "## Semantic Syntactic Analysis"
      ],
      "metadata": {
        "id": "xVuFCLp5fS5x"
      }
    },
    {
      "cell_type": "code",
      "source": [
        "semantic = [': capital-common-countries']\n",
        "syntactic = [': capital-world']"
      ],
      "metadata": {
        "id": "PqQjdqqTfHPC"
      },
      "execution_count": 133,
      "outputs": []
    },
    {
      "cell_type": "code",
      "source": [
        "from scipy.spatial import distance\n",
        "\n",
        "def evaluate(model, test_dict):\n",
        "\n",
        "    total_corr = 0\n",
        "    total_acc = 0\n",
        "    pairs_used = 0\n",
        "    \n",
        "    for key in test_dict:\n",
        "        pairs = test_data[key]\n",
        "        # print(pairs[0].split(\" \"))\n",
        "\n",
        "        for pair in pairs:\n",
        "            pair_tokenized = pair.split(\" \")\n",
        "            ind1, ind2, ind3, ind4 = pair_tokenized  \n",
        "            if ind1 not in vocabs or ind2 not in vocabs or ind3 not in vocabs or ind4 not in vocabs:\n",
        "                continue\n",
        "                \n",
        "            ind4_index = vocabs.index(ind4)\n",
        "            \n",
        "            ind1_embed = get_embed(ind1)\n",
        "            ind2_embed = get_embed(ind2)\n",
        "            ind3_embed = get_embed(ind3)\n",
        "            \n",
        "            overall_embed = (np.subtract(ind2_embed, ind1_embed) + (ind3_embed))\n",
        "            \n",
        "            count = -1\n",
        "            similarity_arr = [0] * len(vocabs)\n",
        "\n",
        "            for vocab in vocabs:\n",
        "                count += 1\n",
        "                if vocab in pair_tokenized[:3]:\n",
        "                    continue\n",
        "  \n",
        "                current = get_embed(vocab)\n",
        "                # cos_similarity = torch.nn.CosineSimilarity(dim=1, eps=1e-6)\n",
        "                similarity_arr[count] = distance.cosine(torch.tensor(overall_embed), torch.tensor(current))\n",
        "            \n",
        "            similarity_arr_sorted_index = np.argsort(similarity_arr)\n",
        "            rank = np.where(similarity_arr_sorted_index == ind4_index)[0][0]\n",
        "            total_acc += (rank + 1) / len(vocabs)\n",
        "            \n",
        "            pairs_used += 1\n",
        "            predicted_word = np.argmax(similarity_arr)\n",
        "            if predicted_word == ind4:\n",
        "                total_corr+= 1\n",
        "                \n",
        "    total_acc = total_corr / pairs_used\n",
        "    return total_acc, total_corr"
      ],
      "metadata": {
        "id": "bwxH2XG7fHKG"
      },
      "execution_count": 177,
      "outputs": []
    },
    {
      "cell_type": "markdown",
      "source": [
        "## Skipgram (Semantic and Syntactic Accuracy)"
      ],
      "metadata": {
        "id": "1BmQqOCStDeY"
      }
    },
    {
      "cell_type": "code",
      "source": [
        "total_acc, total_corr = evaluate(model_skipgram, semantic)"
      ],
      "metadata": {
        "id": "ZLtSaNklfO4-"
      },
      "execution_count": 188,
      "outputs": []
    },
    {
      "cell_type": "code",
      "source": [
        "print(f\"Skipgram (Semantic) Accuracy: {total_acc}%\")"
      ],
      "metadata": {
        "colab": {
          "base_uri": "https://localhost:8080/"
        },
        "id": "CWSiKsjMjK7b",
        "outputId": "5b79bbfe-d4c4-44cc-a8ce-d2ed54c1eb91"
      },
      "execution_count": 189,
      "outputs": [
        {
          "output_type": "stream",
          "name": "stdout",
          "text": [
            "Skipgram (Semantic) Accuracy: 0.0%\n"
          ]
        }
      ]
    },
    {
      "cell_type": "code",
      "source": [
        "total_acc, total_corr = evaluate(model_skipgram, syntactic)"
      ],
      "metadata": {
        "id": "qxIlpp0utgdT"
      },
      "execution_count": 190,
      "outputs": []
    },
    {
      "cell_type": "code",
      "source": [
        "print(f\"Skipgram (Syntactic) Accuracy: {total_acc}%\")"
      ],
      "metadata": {
        "colab": {
          "base_uri": "https://localhost:8080/"
        },
        "id": "8uEfcsHDtsO8",
        "outputId": "dfc95833-7a29-4a94-8a31-8eefe69a7f76"
      },
      "execution_count": 191,
      "outputs": [
        {
          "output_type": "stream",
          "name": "stdout",
          "text": [
            "Skipgram (Syntactic) Accuracy: 0.0%\n"
          ]
        }
      ]
    },
    {
      "cell_type": "markdown",
      "source": [
        "## CBOW (Semantic and Syntactic Accuracy)"
      ],
      "metadata": {
        "id": "FvDXVw8MtHjJ"
      }
    },
    {
      "cell_type": "code",
      "source": [
        "total_acc, total_corr = evaluate(model_cbow, semantic)"
      ],
      "metadata": {
        "id": "CK1nxm1KjK0L"
      },
      "execution_count": 192,
      "outputs": []
    },
    {
      "cell_type": "code",
      "source": [
        "print(f\"CBOW (Semantic) Accuracy: {total_acc}%\")"
      ],
      "metadata": {
        "colab": {
          "base_uri": "https://localhost:8080/"
        },
        "id": "rwP0X9v-jKtG",
        "outputId": "259f7b5d-28e3-4779-c5bf-785d20e210a0"
      },
      "execution_count": 193,
      "outputs": [
        {
          "output_type": "stream",
          "name": "stdout",
          "text": [
            "CBOW (Semantic) Accuracy: 0.0%\n"
          ]
        }
      ]
    },
    {
      "cell_type": "code",
      "source": [
        "total_acc, total_corr = evaluate(model_cbow, syntactic)"
      ],
      "metadata": {
        "id": "juOUUGcbws-A"
      },
      "execution_count": 194,
      "outputs": []
    },
    {
      "cell_type": "code",
      "source": [
        "print(f\"CBOW (Syntactic) Accuracy: {total_acc}%\")"
      ],
      "metadata": {
        "colab": {
          "base_uri": "https://localhost:8080/"
        },
        "id": "fYC72EXNwsz1",
        "outputId": "fe91939a-414b-4f02-c95a-4d46483334f4"
      },
      "execution_count": 195,
      "outputs": [
        {
          "output_type": "stream",
          "name": "stdout",
          "text": [
            "CBOW (Syntactic) Accuracy: 0.0%\n"
          ]
        }
      ]
    },
    {
      "cell_type": "markdown",
      "source": [
        "## Skipgram Negative Sampling (Semantic and Syntactic Accuracy)"
      ],
      "metadata": {
        "id": "MvuAN_FdxYgl"
      }
    },
    {
      "cell_type": "code",
      "source": [
        "total_acc, total_corr = evaluate(model_negskip, semantic)"
      ],
      "metadata": {
        "id": "HPcMmNJjwsoz"
      },
      "execution_count": 196,
      "outputs": []
    },
    {
      "cell_type": "code",
      "source": [
        "print(f\"Skipgram Negative Sampling (Semantic) Accuracy: {total_acc}%\")"
      ],
      "metadata": {
        "colab": {
          "base_uri": "https://localhost:8080/"
        },
        "id": "x8FMbcfjxm2b",
        "outputId": "3af04000-dd44-4c0d-9cb9-dcd63a423865"
      },
      "execution_count": 197,
      "outputs": [
        {
          "output_type": "stream",
          "name": "stdout",
          "text": [
            "Skipgram Negative Sampling (Semantic) Accuracy: 0.0%\n"
          ]
        }
      ]
    },
    {
      "cell_type": "code",
      "source": [
        "total_acc, total_corr = evaluate(model_negskip, syntactic)"
      ],
      "metadata": {
        "id": "cUDNKuhOx9JQ"
      },
      "execution_count": 198,
      "outputs": []
    },
    {
      "cell_type": "code",
      "source": [
        "print(f\"Skipgram Negative Sampling (Syntactic) Accuracy: {total_acc}%\")"
      ],
      "metadata": {
        "colab": {
          "base_uri": "https://localhost:8080/"
        },
        "id": "07lboDSSx8rO",
        "outputId": "f0aec995-05e2-4911-db58-2c17ebc51dac"
      },
      "execution_count": 199,
      "outputs": [
        {
          "output_type": "stream",
          "name": "stdout",
          "text": [
            "Skipgram Negative Sampling (Syntactic) Accuracy: 0.0%\n"
          ]
        }
      ]
    },
    {
      "cell_type": "markdown",
      "source": [
        "## GloVe (Semantic and Syntactic Accuracy)"
      ],
      "metadata": {
        "id": "5aPIi77hyge0"
      }
    },
    {
      "cell_type": "code",
      "source": [
        "total_acc, total_corr = evaluate(model_glove, semantic)"
      ],
      "metadata": {
        "id": "SJhym6bEx8Ut"
      },
      "execution_count": 200,
      "outputs": []
    },
    {
      "cell_type": "code",
      "source": [
        "print(f\"GloVe (Semantic) Accuracy: {total_acc}%\")"
      ],
      "metadata": {
        "colab": {
          "base_uri": "https://localhost:8080/"
        },
        "id": "nduiN2rlyx1B",
        "outputId": "990c7f80-e8de-4025-e710-c0f17b91e0a5"
      },
      "execution_count": 201,
      "outputs": [
        {
          "output_type": "stream",
          "name": "stdout",
          "text": [
            "GloVe (Semantic) Accuracy: 0.0%\n"
          ]
        }
      ]
    },
    {
      "cell_type": "code",
      "source": [
        "total_acc, total_corr = evaluate(model_glove, syntactic)"
      ],
      "metadata": {
        "id": "D0stHa0Gyxlf"
      },
      "execution_count": 202,
      "outputs": []
    },
    {
      "cell_type": "code",
      "source": [
        "print(f\"GloVe (Syntactic) Accuracy: {total_acc}%\")"
      ],
      "metadata": {
        "colab": {
          "base_uri": "https://localhost:8080/"
        },
        "id": "1rXSOO3YyxWj",
        "outputId": "2049c2f7-56cc-4122-bb84-89b475b0aa67"
      },
      "execution_count": 203,
      "outputs": [
        {
          "output_type": "stream",
          "name": "stdout",
          "text": [
            "GloVe (Syntactic) Accuracy: 0.0%\n"
          ]
        }
      ]
    },
    {
      "cell_type": "markdown",
      "source": [
        "# Correlation with Similarity Dataset"
      ],
      "metadata": {
        "id": "P9ypzDLczeNh"
      }
    },
    {
      "cell_type": "markdown",
      "source": [
        "## Loading the Dataset"
      ],
      "metadata": {
        "id": "yw7RhFPv32yS"
      }
    },
    {
      "cell_type": "code",
      "source": [
        "import torch\n",
        "from scipy.stats import spearmanr"
      ],
      "metadata": {
        "id": "Qm2wUXPUBHrv"
      },
      "execution_count": 298,
      "outputs": []
    },
    {
      "cell_type": "code",
      "source": [
        "with open('wordsim_similarity_goldstandard.txt') as file:\n",
        "    similar_data = [line.strip().lower().split(\"\\t\") for line in file.readlines()]"
      ],
      "metadata": {
        "id": "vNAEgXZPzFBh"
      },
      "execution_count": 299,
      "outputs": []
    },
    {
      "cell_type": "code",
      "source": [
        "similar_data[:15]"
      ],
      "metadata": {
        "colab": {
          "base_uri": "https://localhost:8080/"
        },
        "id": "QjuNaRgczE7H",
        "outputId": "4a639f36-082f-4d09-8999-1627c5cc1a35"
      },
      "execution_count": 300,
      "outputs": [
        {
          "output_type": "execute_result",
          "data": {
            "text/plain": [
              "[['tiger', 'cat', '7.35'],\n",
              " ['tiger', 'tiger', '10.00'],\n",
              " ['plane', 'car', '5.77'],\n",
              " ['train', 'car', '6.31'],\n",
              " ['television', 'radio', '6.77'],\n",
              " ['media', 'radio', '7.42'],\n",
              " ['bread', 'butter', '6.19'],\n",
              " ['cucumber', 'potato', '5.92'],\n",
              " ['doctor', 'nurse', '7.00'],\n",
              " ['professor', 'doctor', '6.62'],\n",
              " ['student', 'professor', '6.81'],\n",
              " ['smart', 'stupid', '5.81'],\n",
              " ['wood', 'forest', '7.73'],\n",
              " ['money', 'cash', '9.15'],\n",
              " ['king', 'queen', '8.58']]"
            ]
          },
          "metadata": {},
          "execution_count": 300
        }
      ]
    },
    {
      "cell_type": "code",
      "source": [
        "flatten = lambda l: [item for sublist in l for item in sublist]\n",
        "similarity_vocabs  = list((flatten(similar_data)))"
      ],
      "metadata": {
        "id": "F3i0eObXBZmp"
      },
      "execution_count": 301,
      "outputs": []
    },
    {
      "cell_type": "code",
      "source": [
        "len(similarity_vocabs)"
      ],
      "metadata": {
        "colab": {
          "base_uri": "https://localhost:8080/"
        },
        "id": "irvT8T5PBkUl",
        "outputId": "8e929ed8-05ed-4d70-81d9-b76c6088c70d"
      },
      "execution_count": 302,
      "outputs": [
        {
          "output_type": "execute_result",
          "data": {
            "text/plain": [
              "609"
            ]
          },
          "metadata": {},
          "execution_count": 302
        }
      ]
    },
    {
      "cell_type": "code",
      "source": [
        "similarity_vocabs[:10]"
      ],
      "metadata": {
        "colab": {
          "base_uri": "https://localhost:8080/"
        },
        "id": "WPbE-N2gBkPD",
        "outputId": "e1fbd53c-8f57-4ace-d32a-b47ec511e859"
      },
      "execution_count": 303,
      "outputs": [
        {
          "output_type": "execute_result",
          "data": {
            "text/plain": [
              "['tiger',\n",
              " 'cat',\n",
              " '7.35',\n",
              " 'tiger',\n",
              " 'tiger',\n",
              " '10.00',\n",
              " 'plane',\n",
              " 'car',\n",
              " '5.77',\n",
              " 'train']"
            ]
          },
          "metadata": {},
          "execution_count": 303
        }
      ]
    },
    {
      "cell_type": "markdown",
      "source": [
        "## Similarity Analysis"
      ],
      "metadata": {
        "id": "7PSMgYygBzuc"
      }
    },
    {
      "cell_type": "code",
      "source": [
        "from scipy.spatial import distance\n",
        "\n",
        "def evaluate_similarity(dataset, model):\n",
        "\n",
        "    similarities = []\n",
        "    \n",
        "    for idx, pair in enumerate(dataset):\n",
        "        ind1, ind2, eval = pair\n",
        "        \n",
        "        ind1_embedding = get_embed(ind1)\n",
        "        ind2_embedding = get_embed(ind2)\n",
        "        \n",
        "        similarity = distance.cosine(torch.tensor(ind1_embedding), torch.tensor(ind2_embedding))\n",
        "        similarities.append((similarity, float(eval)))\n",
        "\n",
        "        return similarities"
      ],
      "metadata": {
        "id": "tvvqf-qwzE1o"
      },
      "execution_count": 320,
      "outputs": []
    },
    {
      "cell_type": "markdown",
      "source": [
        "## Skipgram (Similarity Analysis)"
      ],
      "metadata": {
        "id": "mw9ZdKDpGQ2p"
      }
    },
    {
      "cell_type": "code",
      "source": [
        "similarities = evaluate_similarity(similar_data, model_skipgram)"
      ],
      "metadata": {
        "id": "UxDm68Fsw2uy"
      },
      "execution_count": 321,
      "outputs": []
    },
    {
      "cell_type": "code",
      "source": [
        "print(\"Spearmanr correlatin for Skipgram:\", similarities[0][0])\n",
        "print(\"Spearmanr p-value for Skipgram:\", similarities[0][1])"
      ],
      "metadata": {
        "colab": {
          "base_uri": "https://localhost:8080/"
        },
        "id": "2lzWdds1Co3E",
        "outputId": "5bb66256-f1e4-423f-d2ea-70b73b92883c"
      },
      "execution_count": 322,
      "outputs": [
        {
          "output_type": "stream",
          "name": "stdout",
          "text": [
            "Spearmanr correlatin for Skipgram: 0\n",
            "Spearmanr p-value for Skipgram: 7.35\n"
          ]
        }
      ]
    },
    {
      "cell_type": "markdown",
      "source": [
        "## CBOW (Similarity Analysis)"
      ],
      "metadata": {
        "id": "bYnvBsiYGoll"
      }
    },
    {
      "cell_type": "code",
      "source": [
        "similarities = evaluate_similarity(similar_data, model_cbow)"
      ],
      "metadata": {
        "id": "QqQoaT-mG4tI"
      },
      "execution_count": 323,
      "outputs": []
    },
    {
      "cell_type": "code",
      "source": [
        "print(\"Spearmanr correlatin for CBOW:\", similarities[0][0])\n",
        "print(\"Spearmanr p-value for CBOW:\", similarities[0][1])"
      ],
      "metadata": {
        "colab": {
          "base_uri": "https://localhost:8080/"
        },
        "id": "m1hGeJMaG88y",
        "outputId": "7b1122c2-bf9b-4bab-82b7-c663b33d075a"
      },
      "execution_count": 324,
      "outputs": [
        {
          "output_type": "stream",
          "name": "stdout",
          "text": [
            "Spearmanr correlatin for CBOW: 0\n",
            "Spearmanr p-value for CBOW: 7.35\n"
          ]
        }
      ]
    },
    {
      "cell_type": "markdown",
      "source": [
        "## Skipgram Negative Sampling (Similarity Analysis)"
      ],
      "metadata": {
        "id": "nyLI20TQGkH9"
      }
    },
    {
      "cell_type": "code",
      "source": [
        "similarities = evaluate_similarity(similar_data, model_negskip)"
      ],
      "metadata": {
        "id": "Y2iQtwEaHLLq"
      },
      "execution_count": 325,
      "outputs": []
    },
    {
      "cell_type": "code",
      "source": [
        "print(\"Spearmanr correlatin for Skipgram Negative Sampling:\", similarities[0][0])\n",
        "print(\"Spearmanr p-value for Skipgram Negative Sampling:\", similarities[0][1])"
      ],
      "metadata": {
        "colab": {
          "base_uri": "https://localhost:8080/"
        },
        "id": "hTSY4JzSHK6t",
        "outputId": "8f4fc4e3-f6d2-40fa-d73d-3ffeb347c4fc"
      },
      "execution_count": 326,
      "outputs": [
        {
          "output_type": "stream",
          "name": "stdout",
          "text": [
            "Spearmanr correlatin for Skipgram Negative Sampling: 0\n",
            "Spearmanr p-value for Skipgram Negative Sampling: 7.35\n"
          ]
        }
      ]
    },
    {
      "cell_type": "markdown",
      "source": [
        "## GloVe (Similarity Analysis)"
      ],
      "metadata": {
        "id": "O-7Fs7mLGuuE"
      }
    },
    {
      "cell_type": "code",
      "source": [
        "similarities = evaluate_similarity(similar_data, model_glove)"
      ],
      "metadata": {
        "id": "hVU_sHQfw2jz"
      },
      "execution_count": 327,
      "outputs": []
    },
    {
      "cell_type": "code",
      "source": [
        "print(\"Spearmanr correlatin for GloVe:\", similarities[0][0])\n",
        "print(\"Spearmanr p-value for GloVe:\", similarities[0][1])"
      ],
      "metadata": {
        "colab": {
          "base_uri": "https://localhost:8080/"
        },
        "id": "9rVyX76GHxjZ",
        "outputId": "d5188850-2621-4375-933d-2c17a2cd46a6"
      },
      "execution_count": 328,
      "outputs": [
        {
          "output_type": "stream",
          "name": "stdout",
          "text": [
            "Spearmanr correlatin for GloVe: 0\n",
            "Spearmanr p-value for GloVe: 7.35\n"
          ]
        }
      ]
    },
    {
      "cell_type": "markdown",
      "source": [
        "## Report\n",
        "\n",
        "For this assignment, we first created the four models (Skipgram, CBOW, Skipgram Negative Sampling and GloVe). Then we compared the semantic and syntactic accuracy. The accuracy score for the models were not good, since the training set we used here is very small and also it does not cover the samples from the test set in most cases. Then we used a similarity dataset to find the correlation with the models in the second part. But the analysis showed the same result for all the models since we used a common get_embed function (instead we should have different get_embed function for different models). We simply compared the semantic, syntactic accuracy of the models and showed their correlation with the similarity dataset to learn how to do experimental analysis."
      ],
      "metadata": {
        "id": "SYeTzDGiMCkR"
      }
    }
  ]
}